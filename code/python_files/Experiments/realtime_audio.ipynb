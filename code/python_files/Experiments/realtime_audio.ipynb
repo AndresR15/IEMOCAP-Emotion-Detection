{
 "cells": [
  {
   "cell_type": "code",
   "execution_count": 1,
   "outputs": [
    {
     "name": "stderr",
     "output_type": "stream",
     "text": [
      "Using TensorFlow backend.\n"
     ]
    }
   ],
   "source": [
    "import pandas as pd\n",
    "\n",
    "import os\n",
    "import sys\n",
    "import wave\n",
    "import copy\n",
    "import math\n",
    "import tensorflow as tf\n",
    "from keras.models import load_model\n",
    "\n",
    "\n",
    "from features import *\n",
    "from helper import *\n",
    "import pyaudio\n",
    "import struct\n",
    "import numpy as np\n",
    "import matplotlib.pyplot as plt\n",
    "import time\n",
    "from tkinter import TclError\n",
    "from scipy.interpolate import interp1d\n",
    "\n",
    "# use this backend to display in separate Tk window\n",
    "%matplotlib tk\n",
    "#%matplotlib inline\n",
    "\n",
    "# constants\n",
    "\n",
    "TIME_SEC = 2\n",
    "RATE = 44100                 # samples per second\n",
    "CHUNK = int(44100 * TIME_SEC)     # 1024 * 20 #int(44100 / TIME_SEC)             # samples per frame\n",
    "FORMAT = pyaudio.paInt16     # audio format (bytes per sample?)\n",
    "CHANNELS = 1                 # single channel for microphone\n",
    "\n",
    "\n",
    "# p = pyaudio.PyAudio()\n",
    "# for i in range(p.get_device_count()):\n",
    "#     print(p.get_device_info_by_index(i))"
   ],
   "metadata": {
    "collapsed": false,
    "pycharm": {
     "name": "#%%\n"
    }
   }
  },
  {
   "cell_type": "code",
   "execution_count": null,
   "outputs": [],
   "source": [
    "TRANSCRIPTION = {(\"You\\'re\", 0.02) , (\"gonna\", 0.02) , (\"hear\", 0.02) , (\"the\", 0.02) , (\"truth\", 0.02) ,\n",
    "\n",
    "                (\"What\", 0.02) , (\"you\", 0.02) , (\"are\", 0.02) , (\"and\", 0.02) , (\"what\", 0.02) , (\"I\", 0.02) , (\"am\", 0.02) ,\n",
    "\n",
    "                (\"We\", 0.02) , (\"never\", 0.02) , (\"told\", 0.02) , (\"the\", 0.02) , (\"truth\", 0.02) , (\"for\", 0.02) , (10, 0.02) , (\"minutes\", 0.02) , (\"in\", 0.02) , (\"this\", 0.02) , (\"house\", 0.02) ,\n",
    "\n",
    "                (\"well\", 0.02) , (\"hear\", 0.02) , (\"this\", 0.02) , (\"Willy\", 0.02) , (\"this\", 0.02) , (\"is\", 0.02) , (\"me\", 0.02) ,\n",
    "\n",
    "                (\"You\", 0.02) , (\"know\", 0.02) , (\"why\", 0.02) , (\"I\", 0.02) , (\"had\", 0.02) , (\"no\", 0.02) , (\"address\", 0.02) , (\"for\", 0.02) , (\"three\", 0.02) , (\"months\", 0.02) , (\"I\\'ts\", 0.02) , (\"cuz\", 0.02) , (\"I\", 0.02) , (\"stole\", 0.02) , (\"a\", 0.02) , (\"suit\", 0.02) , (\"in\", 0.02) , (\"Kansas\", 0.02) , (\"City\", 0.02) , (\"and\", 0.02) , (\"I\", 0.02) , (\"was\", 0.02) , (\"in\", 0.02) , (\"jail\", 0.02) ,\n",
    "\n",
    "                (\"I\", 0.02) , (\"stole\", 0.02) , (\"myself\", 0.02) , (\"out\", 0.02) , (\"of\", 0.02) , (\"every\", 0.02) , (\"good\", 0.02) , (\"job\", 0.02) , (\"since\", 0.02) , (\"high\", 0.02) , (\"school\", 0.02) ,\n",
    "\n",
    "                (\"And\", 0.02) , (\"I\", 0.02) , (\"never\", 0.02) , (\"got\", 0.02) , (\"any\", 0.02) , (\"where\", 0.02) , (\"because\", 0.02) , (\"you\", 0.02) , (\"blew\", 0.02) , (\"me\", 0.02) , (\"so\", 0.02) , (\"full\", 0.02) , (\"of\", 0.02) , (\"hot\", 0.02) , (\"air\", 0.02) , (\"I\", 0.02) , (\"could\", 0.02) , (\"never\", 0.02) , (\"stand\", 0.02) , (\"taking\", 0.02) , (\"orders\", 0.02) , (\"from\", 0.02) , (\"anybody\", 0.02) ,\n",
    "\n",
    "                (\"That\\'s\", 0.02) , (\"whose\", 0.02) , (\"fault\", 0.02) , (\"it\", 0.02) , (\"is\", 0.02) ,\n",
    "\n",
    "                (\"It\\'s\", 0.02) , (\"goddamn\", 0.02) , (\"time\", 0.02) , (\"you\", 0.02) , (\"heard\", 0.02) , (\"that\", 0.02) , (\"pap\", 0.02)}\n"
   ],
   "metadata": {
    "collapsed": false,
    "pycharm": {
     "name": "#%%\n"
    }
   }
  },
  {
   "cell_type": "code",
   "execution_count": 66,
   "outputs": [],
   "source": [
    "def plot_line_graph(graph, data):\n",
    "    graph.axhline(y=0.5, color='r', linestyle='--')\n",
    "    print(data.index)\n",
    "    # ang_data = interp1d(data.index, data['ang'],kind='cubic')\n",
    "    # exc_data = interp1d(data.index, data['exc'],kind='cubic')\n",
    "    # neu_data = interp1d(data.index, data['neu'],kind='cubic')\n",
    "    # sad_data = interp1d(data.index, data['sad'],kind='cubic')\n",
    "\n",
    "    ang_data = data['ang']\n",
    "    exc_data = data['exc']\n",
    "    neu_data = data['neu']\n",
    "    sad_data = data['sad']\n",
    "\n",
    "    graph.plot(ang_data, label=\"Anger\", color='r')\n",
    "    graph.plot(exc_data, label=\"Excited\", color='y')\n",
    "    graph.plot(neu_data, label=\"Neutral\", color='g')\n",
    "    graph.plot(sad_data, label=\"Sad\", color='b')\n",
    "    graph.legend(loc=\"upper left\")\n",
    "\n",
    "    return graph\n",
    "\n",
    "def plot_bar_graph (graph, data):\n",
    "    graph.axhline(y=0.5, color='r', linestyle='--')\n",
    "    graph.bar(x=0, height=data[0], label=\"Anger\", color='r')\n",
    "    graph.bar(x=1, height=data[1], label=\"Excited\", color='y')\n",
    "    graph.bar(x=2, height=data[2], label=\"Neutral\", color='g')\n",
    "    graph.bar(x=3, height=data[3], label=\"Sad\", color='b')\n",
    "    graph.legend(loc=\"upper left\")\n",
    "\n",
    "    return graph\n",
    "\n",
    "def plot_text(text_array):\n",
    "    char_size = 12\n",
    "    empty_string_size = char_size\n",
    "    total_input_string_size = 0\n",
    "\n",
    "    word_index = 0.012\n",
    "    text_total= \"\"\n",
    "\n",
    "    plt.cla()\n",
    "\n",
    "    plt.rcParams.update({'font.size': char_size})\n",
    "\n",
    "    for text in text_array:\n",
    "        text = text + \" \"\n",
    "        text_size = len(text) * 0.012\n",
    "        total_input_string_size += text_size\n",
    "\n",
    "        plt.text(word_index, 0.5, text, bbox=dict(facecolor='red', alpha=0.5))\n",
    "        word_index += text_size\n",
    "\n",
    "    #plt.text(0.1, 0.5, text_total, bbox=dict(facecolor='red', alpha=0.5))\n",
    "\n",
    "    plt.xlim([0, word_index])\n",
    "\n",
    "    return plt\n",
    "\n",
    "def plot_text_mannual(text_array, delay_lim, delay):\n",
    "\n",
    "    total_time = 0\n",
    "    text_out = \"\"\n",
    "    for word, time in text_array:\n",
    "        total_time += 1\n",
    "        if total_time > delay:\n",
    "            break\n",
    "        elif total_time > delay_lim:\n",
    "            text_out += text\n",
    "\n",
    "    plt.text(0.2, 0.5, text_out) #, bbox=dict(facecolor='red', alpha=0.5))\n",
    "\n",
    "    return plt, total_time"
   ],
   "metadata": {
    "collapsed": false,
    "pycharm": {
     "name": "#%%\n"
    }
   }
  },
  {
   "cell_type": "code",
   "execution_count": 4,
   "metadata": {},
   "outputs": [
    {
     "name": "stdout",
     "output_type": "stream",
     "text": [
      "starting stram decleration\n"
     ]
    }
   ],
   "source": [
    "# create matplotlib figure and axes\n",
    "#fig, ax = plt.subplots(1, figsize=(15, 7))\n",
    "\n",
    "# pyaudio class instance\n",
    "p = pyaudio.PyAudio()\n",
    "\n",
    "print(\"starting stram decleration\")\n",
    "\n",
    "# stream object to get data from microphone\n",
    "stream = p.open(\n",
    "    format=FORMAT,\n",
    "    channels=CHANNELS,\n",
    "    rate=RATE,\n",
    "    input=True,\n",
    "    output=True,\n",
    "    frames_per_buffer=CHUNK,\n",
    "    input_device_index = 3\n",
    ")"
   ]
  },
  {
   "cell_type": "code",
   "execution_count": 5,
   "outputs": [],
   "source": [
    "# set up model\n",
    "model = load_model(\"Trained_models/2_layer_LSTM.pickle\")\n",
    "cols = ['ang', 'exc', 'neu', 'sad']\n",
    "df_pred_wav = pd.DataFrame([np.zeros(4)], columns=cols)\n",
    "data_prev = []\n",
    "graph_window = 30"
   ],
   "metadata": {
    "collapsed": false,
    "pycharm": {
     "name": "#%%\n"
    }
   }
  },
  {
   "cell_type": "code",
   "execution_count": 68,
   "metadata": {
    "pycharm": {
     "name": "#%%\n"
    }
   },
   "outputs": [
    {
     "name": "stdout",
     "output_type": "stream",
     "text": [
      "RangeIndex(start=0, stop=1, step=1)\n"
     ]
    }
   ],
   "source": [
    "# variable for plotting\n",
    "x = np.arange(0, 2 * CHUNK, 2)\n",
    "fig , ax = plt.subplots(3)\n",
    "\n",
    "# basic formatting for the axes\n",
    "ax[0].set_title('Emotion Prediction')\n",
    "ax[0].set_xlabel('Time')\n",
    "ax[0].set_ylabel('Confidence')\n",
    "\n",
    "ax[0]=  plot_line_graph(ax[0], df_pred_wav)\n",
    "ax[1] = plot_bar_graph(ax[1], [0,0,0,0])\n",
    "test_text = \"this is a test of the text output\"\n",
    "ax[2] = plot_text(test_text.split())\n",
    "\n",
    "# show the plot\n",
    "plt.show(block=False)\n",
    "\n",
    "# for measuring frame rate\n",
    "frame_count = 0\n",
    "start_time = time.time()"
   ]
  },
  {
   "cell_type": "code",
   "execution_count": 6,
   "outputs": [
    {
     "name": "stdout",
     "output_type": "stream",
     "text": [
      "starting loop\n",
      "RangeIndex(start=0, stop=2, step=1)\n",
      "RangeIndex(start=0, stop=3, step=1)\n",
      "RangeIndex(start=0, stop=4, step=1)\n",
      "RangeIndex(start=0, stop=5, step=1)\n",
      "RangeIndex(start=0, stop=6, step=1)\n",
      "RangeIndex(start=0, stop=7, step=1)\n",
      "RangeIndex(start=0, stop=8, step=1)\n",
      "RangeIndex(start=0, stop=9, step=1)\n",
      "RangeIndex(start=0, stop=10, step=1)\n",
      "stream stopped\n",
      "average frame rate = 2 FPS\n"
     ]
    },
    {
     "ename": "KeyError",
     "evalue": "'f'",
     "output_type": "error",
     "traceback": [
      "\u001B[1;31m---------------------------------------------------------------------------\u001B[0m",
      "\u001B[1;31mTclError\u001B[0m                                  Traceback (most recent call last)",
      "\u001B[1;32m<ipython-input-6-8ebbbaa9700c>\u001B[0m in \u001B[0;36m<module>\u001B[1;34m\u001B[0m\n\u001B[0;32m     61\u001B[0m     \u001B[1;32mtry\u001B[0m\u001B[1;33m:\u001B[0m\u001B[1;33m\u001B[0m\u001B[1;33m\u001B[0m\u001B[0m\n\u001B[1;32m---> 62\u001B[1;33m         \u001B[0mfig\u001B[0m\u001B[1;33m.\u001B[0m\u001B[0mcanvas\u001B[0m\u001B[1;33m.\u001B[0m\u001B[0mdraw\u001B[0m\u001B[1;33m(\u001B[0m\u001B[1;33m)\u001B[0m\u001B[1;33m\u001B[0m\u001B[1;33m\u001B[0m\u001B[0m\n\u001B[0m\u001B[0;32m     63\u001B[0m         \u001B[0mfig\u001B[0m\u001B[1;33m.\u001B[0m\u001B[0mcanvas\u001B[0m\u001B[1;33m.\u001B[0m\u001B[0mflush_events\u001B[0m\u001B[1;33m(\u001B[0m\u001B[1;33m)\u001B[0m\u001B[1;33m\u001B[0m\u001B[1;33m\u001B[0m\u001B[0m\n",
      "\u001B[1;32mF:\\Program Files\\Ananconda\\envs\\CAP\\lib\\site-packages\\matplotlib\\backends\\backend_tkagg.py\u001B[0m in \u001B[0;36mdraw\u001B[1;34m(self)\u001B[0m\n\u001B[0;32m      9\u001B[0m         \u001B[0msuper\u001B[0m\u001B[1;33m(\u001B[0m\u001B[0mFigureCanvasTkAgg\u001B[0m\u001B[1;33m,\u001B[0m \u001B[0mself\u001B[0m\u001B[1;33m)\u001B[0m\u001B[1;33m.\u001B[0m\u001B[0mdraw\u001B[0m\u001B[1;33m(\u001B[0m\u001B[1;33m)\u001B[0m\u001B[1;33m\u001B[0m\u001B[1;33m\u001B[0m\u001B[0m\n\u001B[1;32m---> 10\u001B[1;33m         \u001B[0m_backend_tk\u001B[0m\u001B[1;33m.\u001B[0m\u001B[0mblit\u001B[0m\u001B[1;33m(\u001B[0m\u001B[0mself\u001B[0m\u001B[1;33m.\u001B[0m\u001B[0m_tkphoto\u001B[0m\u001B[1;33m,\u001B[0m \u001B[0mself\u001B[0m\u001B[1;33m.\u001B[0m\u001B[0mrenderer\u001B[0m\u001B[1;33m.\u001B[0m\u001B[0m_renderer\u001B[0m\u001B[1;33m,\u001B[0m \u001B[1;33m(\u001B[0m\u001B[1;36m0\u001B[0m\u001B[1;33m,\u001B[0m \u001B[1;36m1\u001B[0m\u001B[1;33m,\u001B[0m \u001B[1;36m2\u001B[0m\u001B[1;33m,\u001B[0m \u001B[1;36m3\u001B[0m\u001B[1;33m)\u001B[0m\u001B[1;33m)\u001B[0m\u001B[1;33m\u001B[0m\u001B[1;33m\u001B[0m\u001B[0m\n\u001B[0m\u001B[0;32m     11\u001B[0m         \u001B[0mself\u001B[0m\u001B[1;33m.\u001B[0m\u001B[0m_master\u001B[0m\u001B[1;33m.\u001B[0m\u001B[0mupdate_idletasks\u001B[0m\u001B[1;33m(\u001B[0m\u001B[1;33m)\u001B[0m\u001B[1;33m\u001B[0m\u001B[1;33m\u001B[0m\u001B[0m\n",
      "\u001B[1;32mF:\\Program Files\\Ananconda\\envs\\CAP\\lib\\site-packages\\matplotlib\\backends\\_backend_tk.py\u001B[0m in \u001B[0;36mblit\u001B[1;34m(photoimage, aggimage, offsets, bbox)\u001B[0m\n\u001B[0;32m     74\u001B[0m     \u001B[1;32melse\u001B[0m\u001B[1;33m:\u001B[0m\u001B[1;33m\u001B[0m\u001B[1;33m\u001B[0m\u001B[0m\n\u001B[1;32m---> 75\u001B[1;33m         \u001B[0mphotoimage\u001B[0m\u001B[1;33m.\u001B[0m\u001B[0mblank\u001B[0m\u001B[1;33m(\u001B[0m\u001B[1;33m)\u001B[0m\u001B[1;33m\u001B[0m\u001B[1;33m\u001B[0m\u001B[0m\n\u001B[0m\u001B[0;32m     76\u001B[0m         \u001B[0mbboxptr\u001B[0m \u001B[1;33m=\u001B[0m \u001B[1;33m(\u001B[0m\u001B[1;36m0\u001B[0m\u001B[1;33m,\u001B[0m \u001B[0mwidth\u001B[0m\u001B[1;33m,\u001B[0m \u001B[1;36m0\u001B[0m\u001B[1;33m,\u001B[0m \u001B[0mheight\u001B[0m\u001B[1;33m)\u001B[0m\u001B[1;33m\u001B[0m\u001B[1;33m\u001B[0m\u001B[0m\n",
      "\u001B[1;32mF:\\Program Files\\Ananconda\\envs\\CAP\\lib\\tkinter\\__init__.py\u001B[0m in \u001B[0;36mblank\u001B[1;34m(self)\u001B[0m\n\u001B[0;32m   3547\u001B[0m         \u001B[1;34m\"\"\"Display a transparent image.\"\"\"\u001B[0m\u001B[1;33m\u001B[0m\u001B[1;33m\u001B[0m\u001B[0m\n\u001B[1;32m-> 3548\u001B[1;33m         \u001B[0mself\u001B[0m\u001B[1;33m.\u001B[0m\u001B[0mtk\u001B[0m\u001B[1;33m.\u001B[0m\u001B[0mcall\u001B[0m\u001B[1;33m(\u001B[0m\u001B[0mself\u001B[0m\u001B[1;33m.\u001B[0m\u001B[0mname\u001B[0m\u001B[1;33m,\u001B[0m \u001B[1;34m'blank'\u001B[0m\u001B[1;33m)\u001B[0m\u001B[1;33m\u001B[0m\u001B[1;33m\u001B[0m\u001B[0m\n\u001B[0m\u001B[0;32m   3549\u001B[0m     \u001B[1;32mdef\u001B[0m \u001B[0mcget\u001B[0m\u001B[1;33m(\u001B[0m\u001B[0mself\u001B[0m\u001B[1;33m,\u001B[0m \u001B[0moption\u001B[0m\u001B[1;33m)\u001B[0m\u001B[1;33m:\u001B[0m\u001B[1;33m\u001B[0m\u001B[1;33m\u001B[0m\u001B[0m\n",
      "\u001B[1;31mTclError\u001B[0m: invalid command name \"pyimage10\"",
      "\nDuring handling of the above exception, another exception occurred:\n",
      "\u001B[1;31mKeyError\u001B[0m                                  Traceback (most recent call last)",
      "\u001B[1;32m<ipython-input-6-8ebbbaa9700c>\u001B[0m in \u001B[0;36m<module>\u001B[1;34m\u001B[0m\n\u001B[0;32m     71\u001B[0m         \u001B[0mprint\u001B[0m\u001B[1;33m(\u001B[0m\u001B[1;34m'stream stopped'\u001B[0m\u001B[1;33m)\u001B[0m\u001B[1;33m\u001B[0m\u001B[1;33m\u001B[0m\u001B[0m\n\u001B[0;32m     72\u001B[0m         \u001B[0mprint\u001B[0m\u001B[1;33m(\u001B[0m\u001B[1;34m'average frame rate = {:.0f} FPS'\u001B[0m\u001B[1;33m.\u001B[0m\u001B[0mformat\u001B[0m\u001B[1;33m(\u001B[0m\u001B[0mframe_rate\u001B[0m\u001B[1;33m)\u001B[0m\u001B[1;33m)\u001B[0m\u001B[1;33m\u001B[0m\u001B[1;33m\u001B[0m\u001B[0m\n\u001B[1;32m---> 73\u001B[1;33m         \u001B[0mprint\u001B[0m\u001B[1;33m(\u001B[0m\u001B[1;34m'prediction_time = {f} seconds'\u001B[0m\u001B[1;33m.\u001B[0m\u001B[0mformat\u001B[0m\u001B[1;33m(\u001B[0m\u001B[0mpredict_time_total\u001B[0m\u001B[1;33m)\u001B[0m\u001B[1;33m)\u001B[0m\u001B[1;33m\u001B[0m\u001B[1;33m\u001B[0m\u001B[0m\n\u001B[0m\u001B[0;32m     74\u001B[0m     \u001B[0mdata_prev\u001B[0m \u001B[1;33m=\u001B[0m \u001B[0mdata_new\u001B[0m\u001B[1;33m\u001B[0m\u001B[1;33m\u001B[0m\u001B[0m\n",
      "\u001B[1;31mKeyError\u001B[0m: 'f'"
     ]
    }
   ],
   "source": [
    "from collections import deque\n",
    "WINDOW_SIZE = 0.5\n",
    "WINDOW_N = 20\n",
    "buffer = deque(maxlen=WINDOW_N)\n",
    "\n",
    "CHUNK = int(RATE * WINDOW_SIZE)\n",
    "\n",
    "#fill buffer\n",
    "for i in range(WINDOW_N):\n",
    "    buffer.append([])\n",
    "\n",
    "delay = 0\n",
    "\n",
    "print(\"starting loop\")\n",
    "while (True):\n",
    "\n",
    "    time_collect = time.time()\n",
    "\n",
    "    # binary data\n",
    "    data_new = stream.read(CHUNK)\n",
    "\n",
    "    time_collect = time.time() - time_collect\n",
    "\n",
    "    predict_time_start = time.time()\n",
    "    #convert data to integers, make np array, then offset it by 127\n",
    "    data_new = struct.unpack(str(2 * CHUNK) + 'B', data_new)\n",
    "\n",
    "    buffer.append(data_new)\n",
    "\n",
    "    data_int = []\n",
    "    for i in range(WINDOW_N):\n",
    "        data_prev = buffer[i]\n",
    "        data_int = np.append(data_int, data_prev)\n",
    "   #data_int = data_new\n",
    "\n",
    "    # Generate features from data\n",
    "    st_features = calculate_features(data_int, RATE, None)\n",
    "    st_features, _ = pad_sequence_into_array(st_features, maxlen=100)\n",
    "\n",
    "    # reshape input from (34, 100) to (1, 100, 34)\n",
    "    st_features = np.array([st_features.T])\n",
    "\n",
    "    # predict on model\n",
    "    wav_test_results = model.predict(st_features)\n",
    "\n",
    "    predict_time_total = time.time() - predict_time_start\n",
    "\n",
    "    graphing_time_start = time.time()\n",
    "    df_pred_wav = df_pred_wav.append({cols[0]:wav_test_results[0][0],\n",
    "                        cols[1]:wav_test_results[0][1],\n",
    "                        cols[2]:wav_test_results[0][2],\n",
    "                        cols[3]:wav_test_results[0][3]\n",
    "    }, ignore_index=True)\n",
    "\n",
    "    df_pred_wav_view = df_pred_wav.tail(graph_window)\n",
    "    df_pred_wav_view.reset_index(drop=True, inplace=True)\n",
    "    ax[0].cla()\n",
    "    ax[1].cla()\n",
    "\n",
    "    ax[0] = plot_line_graph(ax[0], df_pred_wav_view)\n",
    "\n",
    "    last_res = wav_test_results[0]\n",
    "    ax[1] = plot_bar_graph (ax[1], last_res)\n",
    "\n",
    "    ax[2] = plot_text_mannual(TRANSCRIPTION, delay_lim, delay)\n",
    "\n",
    "    graphing_time_total = time.time() - graphing_time_start\n",
    "    # update figure canvas\n",
    "    try:\n",
    "        fig.canvas.draw()\n",
    "        fig.canvas.flush_events()\n",
    "        frame_count += 1\n",
    "\n",
    "    except TclError:\n",
    "\n",
    "        # calculate average frame rate\n",
    "        frame_rate = frame_count / (time.time() - start_time)\n",
    "\n",
    "        print('stream stopped')\n",
    "        print('average frame rate = {:.0f} FPS'.format(frame_rate))\n",
    "        print('prediction_time = {f} seconds'.format(predict_time_total))\n",
    "    data_prev = data_new"
   ],
   "metadata": {
    "collapsed": false,
    "pycharm": {
     "name": "#%%\n"
    }
   }
  }
 ],
 "metadata": {
  "kernelspec": {
   "display_name": "Python 3",
   "language": "python",
   "name": "python3"
  },
  "language_info": {
   "codemirror_mode": {
    "name": "ipython",
    "version": 3
   },
   "file_extension": ".py",
   "mimetype": "text/x-python",
   "name": "python",
   "nbconvert_exporter": "python",
   "pygments_lexer": "ipython3",
   "version": "3.7.9"
  }
 },
 "nbformat": 4,
 "nbformat_minor": 1
}