{
 "cells": [
  {
   "cell_type": "code",
   "execution_count": 1,
   "metadata": {
    "collapsed": true
   },
   "outputs": [
    {
     "name": "stdout",
     "output_type": "stream",
     "text": [
      "# conda environments:\n",
      "#\n",
      "base                     F:\\Program Files\\Ananconda\n",
      "CAP                   *  F:\\Program Files\\Ananconda\\envs\\CAP\n",
      "\n"
     ]
    }
   ],
   "source": [
    "!conda env list"
   ]
  },
  {
   "cell_type": "markdown",
   "source": [
    "### Imports"
   ],
   "metadata": {
    "collapsed": false
   }
  },
  {
   "cell_type": "code",
   "execution_count": 2,
   "outputs": [
    {
     "name": "stderr",
     "output_type": "stream",
     "text": [
      "Using TensorFlow backend.\n"
     ]
    }
   ],
   "source": [
    "import numpy as np\n",
    "import pandas as pd\n",
    "import matplotlib.pyplot as plt\n",
    "\n",
    "import os\n",
    "import sys\n",
    "import wave\n",
    "import copy\n",
    "import math\n",
    "import tensorflow as tf\n",
    "from keras.models import Sequential, Model, load_model\n",
    "from keras.layers.core import Dense, Activation\n",
    "# from keras.layers import LSTM, Input, Flatten, Merge, Bidirectional\n",
    "from keras.layers import LSTM, Input, Flatten, Bidirectional\n",
    "from sklearn.preprocessing import label_binarize\n",
    "\n",
    "from features import *\n",
    "from helper import *\n",
    "%matplotlib inline"
   ],
   "metadata": {
    "collapsed": false,
    "pycharm": {
     "name": "#%%\n"
    }
   }
  },
  {
   "cell_type": "markdown",
   "source": [
    "# LSTM Audio Only Model\n",
    "In this notebook we set up and test the audio only lstm model from the paper ..."
   ],
   "metadata": {
    "collapsed": false
   }
  },
  {
   "cell_type": "code",
   "execution_count": 3,
   "outputs": [],
   "source": [
    "# set up global variable\n",
    "code_path = os.path.dirname(os.path.realpath(os.getcwd()))\n",
    "data_path = code_path + \"/../data/\"\n",
    "sessions = ['Session1', 'Session2', 'Session3', 'Session4', 'Session5']\n",
    "framerate = 16000"
   ],
   "metadata": {
    "collapsed": false,
    "pycharm": {
     "name": "#%%\n"
    }
   }
  },
  {
   "cell_type": "markdown",
   "source": [
    "For this model, we will predict over the emotions\n",
    "Anger,\n",
    "Excitement,\n",
    "Sadness\n",
    "\n",
    "We also predict for neutral emotions, meaning no strong emotion is present"
   ],
   "metadata": {
    "collapsed": false,
    "pycharm": {
     "name": "#%% md\n"
    }
   }
  },
  {
   "cell_type": "code",
   "execution_count": 4,
   "outputs": [],
   "source": [
    "emotions_used = np.array(['ang', 'exc', 'neu', 'sad'])\n"
   ],
   "metadata": {
    "collapsed": false,
    "pycharm": {
     "name": "#%%\n"
    }
   }
  },
  {
   "cell_type": "markdown",
   "source": [
    "### Set up data\n",
    "We are using the IEMOCAP dataset, this includes:\n",
    "audio,\n",
    "transcription,\n",
    "motion capture,\n",
    "and video for a number of scripted and improvised scenarios"
   ],
   "metadata": {
    "collapsed": false
   }
  },
  {
   "cell_type": "code",
   "execution_count": 5,
   "outputs": [
    {
     "name": "stdout",
     "output_type": "stream",
     "text": [
      "done\n"
     ]
    }
   ],
   "source": [
    "# Load in data\n",
    "import pickle5\n",
    "with open(\"../../../data/data_collected.pickle\", 'rb') as handle:\n",
    "    data2 = pickle5.load(handle)\n",
    "\n",
    "print(\"done\")\n"
   ],
   "metadata": {
    "collapsed": false,
    "pycharm": {
     "name": "#%%\n"
    }
   }
  },
  {
   "cell_type": "markdown",
   "source": [
    "### Feature extraction\n",
    "These are a number of features that are extracted from the wav audio segments\n",
    "..."
   ],
   "metadata": {
    "collapsed": false
   }
  },
  {
   "cell_type": "code",
   "execution_count": 6,
   "outputs": [],
   "source": [
    "# this method is used to extract features from the input wav\n",
    "def calculate_features(frames, freq, options):\n",
    "    window_sec = 0.1\n",
    "    window_n = int(freq * window_sec)\n",
    "\n",
    "    st_f = stFeatureExtraction(frames, freq, window_n, window_n / 2)\n",
    "\n",
    "    if st_f.shape[1] > 2:\n",
    "        i0 = 1\n",
    "        i1 = st_f.shape[1] - 1\n",
    "        if i1 - i0 < 1:\n",
    "            i1 = i0 + 1\n",
    "\n",
    "        deriv_st_f = np.zeros((st_f.shape[0], i1 - i0), dtype=float)\n",
    "        for i in range(i0, i1):\n",
    "            i_left = i - 1\n",
    "            i_right = i + 1\n",
    "            deriv_st_f[:st_f.shape[0], i - i0] = st_f[:, i]\n",
    "        return deriv_st_f\n",
    "    elif st_f.shape[1] == 2:\n",
    "        deriv_st_f = np.zeros((st_f.shape[0], 1), dtype=float)\n",
    "        deriv_st_f[:st_f.shape[0], 0] = st_f[:, 0]\n",
    "        return deriv_st_f\n",
    "    else:\n",
    "        deriv_st_f = np.zeros((st_f.shape[0], 1), dtype=float)\n",
    "        deriv_st_f[:st_f.shape[0], 0] = st_f[:, 0]\n",
    "        return deriv_st_f"
   ],
   "metadata": {
    "collapsed": false,
    "pycharm": {
     "name": "#%%\n"
    }
   }
  },
  {
   "cell_type": "code",
   "execution_count": 7,
   "outputs": [],
   "source": [
    "# set up the training set\n",
    "# x_train_speech = []\n",
    "#\n",
    "# counter = 0\n",
    "# for ses_mod in data2:\n",
    "#     x_head = ses_mod['signal']\n",
    "#     st_features = calculate_features(x_head, framerate, None)\n",
    "#     st_features, _ = pad_sequence_into_array(st_features, maxlen=100)\n",
    "#     x_train_speech.append( st_features.T )\n",
    "#     # counter+=1\n",
    "#     #if(counter%100==0):\n",
    "#         #print(counter)\n",
    "#\n",
    "# x_train_speech = np.array(x_train_speech)\n",
    "# x_train_speech.shape"
   ],
   "metadata": {
    "collapsed": false,
    "pycharm": {
     "name": "#%%\n"
    }
   }
  },
  {
   "cell_type": "code",
   "execution_count": 8,
   "outputs": [
    {
     "data": {
      "text/plain": "(4936, 100, 34)"
     },
     "execution_count": 8,
     "metadata": {},
     "output_type": "execute_result"
    }
   ],
   "source": [
    "# generating training data take a while, here we load the training data into the np array from a file\n",
    "x_train_file = \"Trained_models/x_test_speech.npy\"\n",
    "\n",
    "load = True\n",
    "\n",
    "if load:\n",
    "    with open(x_train_file, 'rb') as f:\n",
    "        x_train_speech = np.load(f)\n",
    "else:\n",
    "    with open(x_train_file, 'wb') as f:\n",
    "        np.save(f, x_train_speech)\n",
    "\n",
    "x_train_speech.shape"
   ],
   "metadata": {
    "collapsed": false,
    "pycharm": {
     "name": "#%%\n"
    }
   }
  },
  {
   "cell_type": "markdown",
   "source": [
    "### The LSTM Model\n",
    "\n",
    "The audio only model that is implemented here is a 2 layer LSTM model connected to a dense layer.\n",
    "\n",
    "[Explain model architecture]\n",
    "\n",
    "A softmax function is used to get the confidence rating for each class."
   ],
   "metadata": {
    "collapsed": false
   }
  },
  {
   "cell_type": "code",
   "execution_count": 9,
   "outputs": [],
   "source": [
    "def lstm_model(optimizer='Adadelta'):\n",
    "    model = Sequential()\n",
    "    model.add(LSTM(512, return_sequences=True, input_shape=(100, 34)))\n",
    "    model.add(LSTM(256, return_sequences=False))\n",
    "    model.add(Dense(512))\n",
    "    model.add(Activation('relu'))\n",
    "    model.add(Dense(4))\n",
    "    model.add(Activation('softmax'))\n",
    "\n",
    "    model.compile(loss='categorical_crossentropy', optimizer=optimizer, metrics=['accuracy'])\n",
    "\n",
    "    return model"
   ],
   "metadata": {
    "collapsed": false,
    "pycharm": {
     "name": "#%%\n"
    }
   }
  },
  {
   "cell_type": "code",
   "execution_count": 10,
   "outputs": [
    {
     "name": "stdout",
     "output_type": "stream",
     "text": [
      "Model: \"sequential_1\"\n",
      "_________________________________________________________________\n",
      "Layer (type)                 Output Shape              Param #   \n",
      "=================================================================\n",
      "lstm_1 (LSTM)                (None, 100, 512)          1120256   \n",
      "_________________________________________________________________\n",
      "lstm_2 (LSTM)                (None, 256)               787456    \n",
      "_________________________________________________________________\n",
      "dense_1 (Dense)              (None, 512)               131584    \n",
      "_________________________________________________________________\n",
      "activation_1 (Activation)    (None, 512)               0         \n",
      "_________________________________________________________________\n",
      "dense_2 (Dense)              (None, 4)                 2052      \n",
      "_________________________________________________________________\n",
      "activation_2 (Activation)    (None, 4)                 0         \n",
      "=================================================================\n",
      "Total params: 2,041,348\n",
      "Trainable params: 2,041,348\n",
      "Non-trainable params: 0\n",
      "_________________________________________________________________\n"
     ]
    }
   ],
   "source": [
    "model = lstm_model()\n",
    "model.summary()"
   ],
   "metadata": {
    "collapsed": false,
    "pycharm": {
     "name": "#%%\n"
    }
   }
  },
  {
   "cell_type": "code",
   "execution_count": 11,
   "outputs": [
    {
     "name": "stderr",
     "output_type": "stream",
     "text": [
      "F:\\Program Files\\Ananconda\\envs\\CAP\\lib\\site-packages\\sklearn\\utils\\validation.py:70: FutureWarning: Pass classes=['ang' 'exc' 'neu' 'sad'] as keyword args. From version 0.25 passing these as positional arguments will result in an error\n",
      "  FutureWarning)\n"
     ]
    },
    {
     "data": {
      "text/plain": "(4936, 4)"
     },
     "execution_count": 11,
     "metadata": {},
     "output_type": "execute_result"
    }
   ],
   "source": [
    "# split labels from training data\n",
    "Y_raw =[]\n",
    "for ses_mod in data2:\n",
    "    Y_raw  .append(ses_mod['emotion'])\n",
    "\n",
    "\n",
    "#converts labels into a one hot encoded version\n",
    "Y = label_binarize(Y_raw ,emotions_used)\n",
    "\n",
    "Y.shape"
   ],
   "metadata": {
    "collapsed": false,
    "pycharm": {
     "name": "#%%\n"
    }
   }
  },
  {
   "cell_type": "code",
   "execution_count": 12,
   "outputs": [
    {
     "data": {
      "text/plain": "<Figure size 432x288 with 1 Axes>",
      "image/png": "[encoded data removed]"
     },
     "metadata": {
      "needs_background": "light"
     },
     "output_type": "display_data"
    }
   ],
   "source": [
    "pd.DataFrame(Y_raw).head()\n",
    "## Plot emotion histogram\n",
    "plt.hist(Y_raw, bins=4, ec=\"black\")  # `density=False` would make counts\n",
    "plt.ylabel('Count')\n",
    "plt.xlabel('Emotion');"
   ],
   "metadata": {
    "collapsed": false,
    "pycharm": {
     "name": "#%%\n"
    }
   }
  },
  {
   "cell_type": "markdown",
   "source": [
    "### Training the model\n",
    "Training on about 5000 rows over 40 epochs takes about 80 minutes.\n",
    "To avoid retraining the model every time, we have exported the model into a pickle file."
   ],
   "metadata": {
    "collapsed": false
   }
  },
  {
   "cell_type": "code",
   "execution_count": 13,
   "outputs": [],
   "source": [
    "# save / load model from pickle file\n",
    "\n",
    "#model.save(\"Trained_models/2_layer_LSTM.pickle\")\n",
    "model = load_model(\"Trained_models/2_layer_LSTM.pickle\")"
   ],
   "metadata": {
    "collapsed": false,
    "pycharm": {
     "name": "#%%\n"
    }
   }
  },
  {
   "cell_type": "code",
   "execution_count": 14,
   "outputs": [],
   "source": [
    "# train model\n",
    "\n",
    "# hist = model.fit(x_train_speech, Y,\n",
    "#                  batch_size=100, nb_epoch=5, verbose=1, shuffle = True,\n",
    "#                  validation_split=0.2)\n"
   ],
   "metadata": {
    "collapsed": false,
    "pycharm": {
     "name": "#%%\n"
    }
   }
  },
  {
   "cell_type": "markdown",
   "source": [
    "### Evaluating the Model\n",
    "This trained model has an accuracy of 54.4%."
   ],
   "metadata": {
    "collapsed": false
   }
  },
  {
   "cell_type": "code",
   "execution_count": 15,
   "outputs": [
    {
     "name": "stdout",
     "output_type": "stream",
     "text": [
      "Evaluate on test data\n",
      "4936/4936 [==============================] - 26s 5ms/step\b\b\b\b\b\b\b\b\b\b\b\b\b\b\b\b\b\b\b\b\b\b\b\b\b\b\b\b\b\b\b\b\b\b\b\b\b\b\b\b\b\b\b\b\b\b\b\b\b\b\b\b\b\b\b\b\b\b\b\b\b\b\b\b\b\b\b\b\b\b\b\b\b\b\b\b\b\b\b\b\b\b\b\b\b\b\b\b\b\b\b\b\b\b\b\b\b\b\b\b\b\b\b\b\b\b\b\b\b\b\b\b\b\b\b\b\b\b\b\b\b\b\b\b\b\b\b\b\b\b\b\b\b\b\b\b\b\b\b\b\b\b\b\b\b\b\b\b\b\b\b\b\b\b\b\b\b\b\b\b\b\b\b\b\b\b\b\b\b\b\b\b\b\b\b\b\b\b\b\b\b\b\b\b\b\b\b\b\b\b\b\b\b\b\b\b\b\b\b\b\b\b\b\b\b\b\b\b\b\b\b\b\b\b\b\b\b\b\b\b\b\b\b\b\b\b\b\b\b\b\b\b\b\b\b\b\b\b\b\b\b\b\b\b\b\b\b\b\b\b\b\b\b\b\b\b\b\b\b\b\b\b\b\b\b\b\b\b\b\b\b\b\b\b\b\b\b\b\b\b\b\b\b\b\b\b\b\b\b\b\b\b\b\b\b\b\b\b\b\b\b\b\b\b\b\b\b\b\b\b\b\b\b\b\b\b\b\b\b\b\b\b\b\b\b\b\b\b\b\b\b\b\b\b\b\b\b\b\b\b\b\b\b\b\b\b\b\b\b\b\b\b\b\b\b\b\b\b\b\b\b\b\b\b\b\b\b\b\b\b\b\b\b\b\b\b\b\b\b\b\b\b\b\b\b\b\b\b\b\b\b\b\b\b\b\b\b\b\b\b\b\b\b\b\b\b\b\b\b\b\b\b\b\b\b\b\b\b\b\b\b\b\b\b\b\b\b\b\b\b\b\b\b\b\b\b\b\b\b\b\b\b\b\b\b\b\b\b\b\b\b\b\b\b\b\b\b\b\b\b\b\b\b\b\b\b\b\b\b\b\b\b\b\b\b\b\b\b\b\b\b\b\b\b\b\b\b\b\b\b\b\b\b\b\b\b\b\b\b\b\b\b\b\b\b\b\b\b\b\b\b\b\b\b\b\b\b\b\b\b\b\b\b\b\b\b\b\b\b\b\b\b\b\b\b\b\b\b\b\b\b\b\b\b\b\b\b\b\b\b\b\b\b\b\b\b\b\b\b\b\b\b\b\b\b\b\b\b\b\b\b\b\b\b\b\b\b\b\b\b\b\b\b\b\b\b\b\b\b\b\b\b\b\b\b\b\b\b\b\b\b\b\b\b\b\b\b\b\b\b\b\b\b\b\b\b\b\b\b\b\b\b\b\b\b\b\b\b\b\b\b\b\b\b\b\b\b\b\b\b\b\b\b\b\b\b\b\b\b\b\b\b\b\b\b\b\b\b\b\b\b\b\b\b\b\b\b\b\b\b\b\b\b\b\b\b\b\b\b\b\b\b\b\b\b\b\b\b\b\b\b\b\b\b\b\b\b\b\b\b\b\b\b\b\b\b\b\b\b\b\b\b\b\b\b\b\b\b\b\b\b\b\b\b\b\b\b\b\b\b\b\b\b\b\b\b\b\b\b\b\b\b\b\b\b\b\b\b\b\b\b\b\b\b\b\b\b\b\b\b\b\b\b\b\b\b\b\b\b\b\b\b\b\b\b\b\b\b\b\b\b\b\b\b\b\b\b\b\b\b\b\b\b\b\b\b\b\b\b\b\b\b\b\b\b\b\b\b\b\b\b\b\b\b\b\b\b\b\b\b\b\b\b\b\b\b\b\b\b\b\b\b\b\b\b\b\b\b\b\b\b\b\b\b\b\b\b\b\b\b\b\b\b\b\b\b\b\b\b\b\b\b\b\b\b\b\b\b\b\b\b\b\b\b\b\b\b\b\b\b\b\b\b\b\b\b\b\b\b\b\b\b\b\b\b\b\b\b\b\b\b\b\b\b\b\b\b\b\b\b\b\b\b\b\b\b\b\b\b\b\b\b\b\b\b\b\b\b\b\b\b\b\b\b\b\b\b\b\b\b\b\b\b\b\b\b\b\b\b\b\b\b\b\b\b\b\b\b\b\b\b\b\b\b\b\b\b\b\b\b\b\b\b\b\b\b\b\b\b\b\b\b\b\b\b\b\b\b\b\b\b\b\b\b\b\b\b\b\b\b\b\b\b\b\b\b\b\b\b\b\b\b\b\b\b\b\b\b\b\b\b\b\b\b\b\b\b\b\b\b\b\b\b\b\b\b\b\b\b\b\b\b\b\b\b\b\b\b\b\b\b\b\b\b\b\b\b\b\b\b\b\b\b\b\b\b\b\b\b\b\b\b\b\b\b\b\b\b\b\b\b\b\b\b\b\b\b\b\b\b\b\b\b\b\b\b\b\b\b\b\b\b\b\b\b\b\b\b\b\b\b\b\b\b\b\b\b\b\b\b\b\b\b\b\b\b\b\b\b\b\b\b\b\b\b\b\b\b\b\b\b\b\b\b\b\b\b\b\b\b\b\b\b\b\b\b\b\b\b\b\b\b\b\b\b\b\b\b\b\b\b\b\b\b\b\b\b\b\b\b\b\b\b\b\b\b\b\b\b\b\b\b\b\b\b\b\b\b\b\b\b\b\b\b\b\b\b\b\b\b\b\b\b\b\b\b\b\b\b\b\b\b\b\b\b\b\b\b\b\b\b\b\b\b\b\b\b\b\b\b\b\b\b\b\b\b\b\b\b\b\b\b\b\b\b\b\b\b\b\b\b\b\b\b\b\b\b\b\b\b\b\b\b\b\b\b\b\b\b\b\b\b\b\b\b\b\b\b\b\b\b\b\b\b\b\b\b\b\b\b\b\b\b\b\b\b\b\b\b\b\b\b\b\b\b\b\b\b\b\b\b\b\b\b\b\b\b\b\b\b\b\b\b\b\b\b\b\b\b\b\b\b\b\b\b\b\b\b\b\b\b\b\b\b\b\b\b\b\b\b\b\b\b\b\b\b\b\b\b\b\b\b\b\b\b\b\b\b\b\b\b\b\b\b\b\b\b\b\b\b\b\b\b\b\b\b\b\b\b\b\b\b\b\b\b\b\b\b\b\b\b\b\b\b\b\b\b\b\b\b\b\b\b\b\b\b\b\b\b\b\b\b\b\b\b\b\b\b\b\b\b\b\b\b\b\b\b\b\b\b\b\b\b\b\b\b\b\b\b\b\b\b\b\b\b\b\b\b\b\b\b\b\b\b\b\b\b\b\b\b\b\b\b\b\b\b\b\b\b\b\b\b\b\b\b\b\b\b\b\b\b\b\b\b\b\b\b\b\b\b\b\b\b\b\b\b\b\b\b\b\b\b\b\b\b\b\b\b\b\b\b\b\b\b\b\b\b\b\b\b\b\b\b\b\b\b\b\b\b\b\b\b\b\b\b\b\b\b\b\b\b\b\b\b\b\b\b\b\b\b\b\b\b\b\b\b\b\b\b\b\b\b\b\b\b\b\b\b\b\b\b\b\b\b\b\b\b\b\b\b\b\b\b\b\b\b\b\b\b\b\b\b\b\b\b\b\b\b\b\b\b\b\b\b\b\b\b\b\b\b\b\b\b\b\b\b\b\b\b\b\b\b\b\b\b\b\b\b\b\b\b\b\b\b\b\b\b\b\b\b\b\b\b\b\b\b\b\b\b\b\b\b\b\b\b\b\b\b\b\b\b\b\b\b\b\b\b\b\b\b\b\b\b\b\b\b\b\b\b\b\b\b\b\b\b\b\b\b\b\b\b\b\b\b\b\b\b\b\b\b\b\b\b\b\b\b\b\b\b\b\b\b\b\b\b\b\b\b\b\b\b\b\b\b\b\b\b\b\b\b\b\b\b\b\b\b\b\b\b\b\b\b\b\b\b\b\b\b\b\b\b\b\b\b\b\b\b\b\b\b\b\b\b\b\b\b\b\b\b\b\b\b\b\b\b\b\b\b\b\b\b\b\b\b\b\b\b\b\b\b\b\b\b\b\b\b\b\b\b\b\b\b\b\b\b\b\b\b\b\b\b\b\b\b\b\b\b\b\b\b\b\b\b\b\b\b\b\b\b\b\b\b\b\b\b\b\b\b\b\b\b\b\b\b\b\b\b\b\b\b\b\b\b\b\b\b\b\b\b\b\b\b\b\b\b\b\b\b\b\b\b\b\b\b\b\b\b\b\b\b\b\b\b\b\b\b\b\b\b\b\b\b\b\b\b\b\b\b\b\b\b\b\b\b\b\b\b\b\b\b\b\b\b\b\b\b\b\b\b\b\b\b\b\b\b\b\b\b\b\b\b\b\b\b\b\b\b\b\b\b\b\b\b\b\b\b\b\b\b\b\b\b\b\b\b\b\b\b\b\b\b\b\b\b\b\b\b\b\b\b\b\b\b\b\b\b\n",
      "test loss, test acc: [1.0332766419678105, 0.5439627170562744]\n"
     ]
    }
   ],
   "source": [
    "print(\"Evaluate on test data\")\n",
    "results = model.evaluate(x_train_speech, Y, batch_size=128)\n",
    "print(\"test loss, test acc:\", results)"
   ],
   "metadata": {
    "collapsed": false,
    "pycharm": {
     "name": "#%%\n"
    }
   }
  },
  {
   "cell_type": "code",
   "execution_count": 33,
   "outputs": [],
   "source": [
    "predict_result_file = \"Trained_models/predict_result.npy\"\n",
    "\n",
    "load = False\n",
    "\n",
    "if load:\n",
    "    with open(predict_result_file, 'rb') as f:\n",
    "        result = np.load(f)\n",
    "else:\n",
    "    result = model.predict(x_train_speech)\n",
    "    with open(predict_result_file, 'wb') as f:\n",
    "        np.save(f, result)"
   ],
   "metadata": {
    "collapsed": false,
    "pycharm": {
     "name": "#%%\n"
    }
   }
  },
  {
   "cell_type": "code",
   "execution_count": 17,
   "outputs": [
    {
     "data": {
      "text/plain": "<tf.Tensor: shape=(4936,), dtype=int64, numpy=array([2, 2, 2, ..., 0, 0, 0], dtype=int64)>"
     },
     "execution_count": 17,
     "metadata": {},
     "output_type": "execute_result"
    }
   ],
   "source": [
    "# get prediction values for training data\n",
    "\n",
    "label = tf.argmax(result, axis = 1)\n",
    "label"
   ],
   "metadata": {
    "collapsed": false,
    "pycharm": {
     "name": "#%%\n"
    }
   }
  },
  {
   "cell_type": "markdown",
   "source": [
    "#### We have to convert the encoded emotion labels back into a more readable format."
   ],
   "metadata": {
    "collapsed": false
   }
  },
  {
   "cell_type": "code",
   "execution_count": 18,
   "outputs": [
    {
     "data": {
      "text/plain": "  emotion  val\n0     neu    2\n1     neu    2\n2     neu    2\n3     neu    2\n4     ang    0",
      "text/html": "<div>\n<style scoped>\n    .dataframe tbody tr th:only-of-type {\n        vertical-align: middle;\n    }\n\n    .dataframe tbody tr th {\n        vertical-align: top;\n    }\n\n    .dataframe thead th {\n        text-align: right;\n    }\n</style>\n<table border=\"1\" class=\"dataframe\">\n  <thead>\n    <tr style=\"text-align: right;\">\n      <th></th>\n      <th>emotion</th>\n      <th>val</th>\n    </tr>\n  </thead>\n  <tbody>\n    <tr>\n      <th>0</th>\n      <td>neu</td>\n      <td>2</td>\n    </tr>\n    <tr>\n      <th>1</th>\n      <td>neu</td>\n      <td>2</td>\n    </tr>\n    <tr>\n      <th>2</th>\n      <td>neu</td>\n      <td>2</td>\n    </tr>\n    <tr>\n      <th>3</th>\n      <td>neu</td>\n      <td>2</td>\n    </tr>\n    <tr>\n      <th>4</th>\n      <td>ang</td>\n      <td>0</td>\n    </tr>\n  </tbody>\n</table>\n</div>"
     },
     "execution_count": 18,
     "metadata": {},
     "output_type": "execute_result"
    }
   ],
   "source": [
    "# formatting the label data\n",
    "cols = ['ang', 'exc', 'neu', 'sad']\n",
    "col_y = []\n",
    "df_real = pd.DataFrame(Y_raw, columns = [\"emotion\"])\n",
    "for val in df_real[\"emotion\"].values:\n",
    "    x = 0\n",
    "    for c in range(0,len(cols)):\n",
    "        if cols[c] in val:\n",
    "            col_y.append(c)\n",
    "            break\n",
    "\n",
    "df_real[\"val\"] = col_y\n",
    "df_real.head()"
   ],
   "metadata": {
    "collapsed": false,
    "pycharm": {
     "name": "#%%\n"
    }
   }
  },
  {
   "cell_type": "code",
   "execution_count": 19,
   "outputs": [
    {
     "data": {
      "text/plain": "   val emotion\n0    2     neu\n1    2     neu\n2    2     neu\n3    0     ang\n4    0     ang",
      "text/html": "<div>\n<style scoped>\n    .dataframe tbody tr th:only-of-type {\n        vertical-align: middle;\n    }\n\n    .dataframe tbody tr th {\n        vertical-align: top;\n    }\n\n    .dataframe thead th {\n        text-align: right;\n    }\n</style>\n<table border=\"1\" class=\"dataframe\">\n  <thead>\n    <tr style=\"text-align: right;\">\n      <th></th>\n      <th>val</th>\n      <th>emotion</th>\n    </tr>\n  </thead>\n  <tbody>\n    <tr>\n      <th>0</th>\n      <td>2</td>\n      <td>neu</td>\n    </tr>\n    <tr>\n      <th>1</th>\n      <td>2</td>\n      <td>neu</td>\n    </tr>\n    <tr>\n      <th>2</th>\n      <td>2</td>\n      <td>neu</td>\n    </tr>\n    <tr>\n      <th>3</th>\n      <td>0</td>\n      <td>ang</td>\n    </tr>\n    <tr>\n      <th>4</th>\n      <td>0</td>\n      <td>ang</td>\n    </tr>\n  </tbody>\n</table>\n</div>"
     },
     "execution_count": 19,
     "metadata": {},
     "output_type": "execute_result"
    }
   ],
   "source": [
    "# formatting the predicted data\n",
    "cols = ['ang', 'exc', 'neu', 'sad']\n",
    "col_y = []\n",
    "df_pred = pd.DataFrame(label, columns=[\"val\"])\n",
    "for x in df_pred[\"val\"].values:\n",
    "    col_y.append(cols[x])\n",
    "\n",
    "df_pred[\"emotion\"] = col_y\n",
    "df_pred.head()\n"
   ],
   "metadata": {
    "collapsed": false,
    "pycharm": {
     "name": "#%%\n"
    }
   }
  },
  {
   "cell_type": "markdown",
   "source": [
    "### Dataset investigation"
   ],
   "metadata": {
    "collapsed": false
   }
  },
  {
   "cell_type": "markdown",
   "source": [
    "Looking into the distribution of the dataset, we can see a clear unbalance between neutral samples and samples that indicate a specific emotion.\n",
    "Although this may make the model more likely to guess that a sample is neutral, this is representative of real conversation."
   ],
   "metadata": {
    "collapsed": false
   }
  },
  {
   "cell_type": "code",
   "execution_count": 20,
   "outputs": [
    {
     "data": {
      "text/plain": "<Figure size 432x288 with 1 Axes>",
      "image/png": "[encoded data removed]"
     },
     "metadata": {
      "needs_background": "light"
     },
     "output_type": "display_data"
    }
   ],
   "source": [
    "plt.hist(df_pred[\"emotion\"], bins=4, ec=\"black\")  # `density=False` would make counts\n",
    "plt.ylabel('Count')\n",
    "plt.xlabel('Emotion');"
   ],
   "metadata": {
    "collapsed": false,
    "pycharm": {
     "name": "#%%\n"
    }
   }
  },
  {
   "cell_type": "markdown",
   "source": [
    "### Confusion matrix"
   ],
   "metadata": {
    "collapsed": false
   }
  },
  {
   "cell_type": "code",
   "execution_count": 21,
   "outputs": [
    {
     "data": {
      "text/plain": "       ang    exc     neu    sad\nang  706.0  385.0   339.0   37.0\nexc  129.0  337.0   141.0   43.0\nneu  238.0  269.0  1073.0  435.0\nsad   30.0   50.0   155.0  569.0",
      "text/html": "<div>\n<style scoped>\n    .dataframe tbody tr th:only-of-type {\n        vertical-align: middle;\n    }\n\n    .dataframe tbody tr th {\n        vertical-align: top;\n    }\n\n    .dataframe thead th {\n        text-align: right;\n    }\n</style>\n<table border=\"1\" class=\"dataframe\">\n  <thead>\n    <tr style=\"text-align: right;\">\n      <th></th>\n      <th>ang</th>\n      <th>exc</th>\n      <th>neu</th>\n      <th>sad</th>\n    </tr>\n  </thead>\n  <tbody>\n    <tr>\n      <th>ang</th>\n      <td>706.0</td>\n      <td>385.0</td>\n      <td>339.0</td>\n      <td>37.0</td>\n    </tr>\n    <tr>\n      <th>exc</th>\n      <td>129.0</td>\n      <td>337.0</td>\n      <td>141.0</td>\n      <td>43.0</td>\n    </tr>\n    <tr>\n      <th>neu</th>\n      <td>238.0</td>\n      <td>269.0</td>\n      <td>1073.0</td>\n      <td>435.0</td>\n    </tr>\n    <tr>\n      <th>sad</th>\n      <td>30.0</td>\n      <td>50.0</td>\n      <td>155.0</td>\n      <td>569.0</td>\n    </tr>\n  </tbody>\n</table>\n</div>"
     },
     "execution_count": 21,
     "metadata": {},
     "output_type": "execute_result"
    }
   ],
   "source": [
    "import numpy as np\n",
    "import tensorflow as tf\n",
    "confusion_matrix = tf.math.confusion_matrix(df_pred[\"val\"], df_real[\"val\"], 4)\n",
    "df_cnm = pd.DataFrame(confusion_matrix,\n",
    "                      index=['ang', 'exc', 'neu', 'sad'],\n",
    "                      columns = ['ang', 'exc', 'neu', 'sad']).astype(\"float\")\n",
    "\n",
    "df_cnm"
   ],
   "metadata": {
    "collapsed": false,
    "pycharm": {
     "name": "#%%\n"
    }
   }
  },
  {
   "cell_type": "code",
   "execution_count": 22,
   "outputs": [
    {
     "data": {
      "text/plain": "          ang       exc       neu       sad\nang  0.657968  0.358807  0.315937  0.034483\nexc  0.120224  0.314073  0.131407  0.040075\nneu  0.221808  0.250699  1.000000  0.405405\nsad  0.027959  0.046598  0.144455  0.530289",
      "text/html": "<div>\n<style scoped>\n    .dataframe tbody tr th:only-of-type {\n        vertical-align: middle;\n    }\n\n    .dataframe tbody tr th {\n        vertical-align: top;\n    }\n\n    .dataframe thead th {\n        text-align: right;\n    }\n</style>\n<table border=\"1\" class=\"dataframe\">\n  <thead>\n    <tr style=\"text-align: right;\">\n      <th></th>\n      <th>ang</th>\n      <th>exc</th>\n      <th>neu</th>\n      <th>sad</th>\n    </tr>\n  </thead>\n  <tbody>\n    <tr>\n      <th>ang</th>\n      <td>0.657968</td>\n      <td>0.358807</td>\n      <td>0.315937</td>\n      <td>0.034483</td>\n    </tr>\n    <tr>\n      <th>exc</th>\n      <td>0.120224</td>\n      <td>0.314073</td>\n      <td>0.131407</td>\n      <td>0.040075</td>\n    </tr>\n    <tr>\n      <th>neu</th>\n      <td>0.221808</td>\n      <td>0.250699</td>\n      <td>1.000000</td>\n      <td>0.405405</td>\n    </tr>\n    <tr>\n      <th>sad</th>\n      <td>0.027959</td>\n      <td>0.046598</td>\n      <td>0.144455</td>\n      <td>0.530289</td>\n    </tr>\n  </tbody>\n</table>\n</div>"
     },
     "execution_count": 22,
     "metadata": {},
     "output_type": "execute_result"
    }
   ],
   "source": [
    "column_maxes = df_cnm.max()\n",
    "df_max = column_maxes.max()\n",
    "normalized_df = df_cnm / df_max\n",
    "normalized_df"
   ],
   "metadata": {
    "collapsed": false,
    "pycharm": {
     "name": "#%%\n"
    }
   }
  },
  {
   "cell_type": "code",
   "execution_count": 23,
   "outputs": [
    {
     "data": {
      "text/plain": "<AxesSubplot:>"
     },
     "execution_count": 23,
     "metadata": {},
     "output_type": "execute_result"
    },
    {
     "data": {
      "text/plain": "<Figure size 432x360 with 2 Axes>",
      "image/png": "[encoded data removed]"
     },
     "metadata": {
      "needs_background": "light"
     },
     "output_type": "display_data"
    }
   ],
   "source": [
    "import seaborn as sn\n",
    "plt.figure(figsize = (6,5))\n",
    "#df_cnm_norm=((df_cnm-df_cnm.min())/(df_cnm.max()-df_cnm.min()))*20\n",
    "sn.heatmap(normalized_df, annot=True)\n",
    "\n"
   ],
   "metadata": {
    "collapsed": false,
    "pycharm": {
     "name": "#%%\n"
    }
   }
  },
  {
   "cell_type": "code",
   "execution_count": 36,
   "outputs": [
    {
     "data": {
      "text/plain": "<AxesSubplot:ylabel='emo'>"
     },
     "execution_count": 36,
     "metadata": {},
     "output_type": "execute_result"
    },
    {
     "data": {
      "text/plain": "<Figure size 432x360 with 2 Axes>",
      "image/png": "[encoded data removed]"
     },
     "metadata": {
      "needs_background": "light"
     },
     "output_type": "display_data"
    }
   ],
   "source": [
    "emotions = ['ang', 'exc', 'neu', 'sad']\n",
    "## get avg between classes\n",
    "df_res = pd.DataFrame(result)\n",
    "df_max_res = pd.DataFrame(label)\n",
    "df_emotion_conf = pd.DataFrame()\n",
    "\n",
    "df_res.columns = emotions\n",
    "\n",
    "df_res[\"emo\"] = df_max_res[0]\n",
    "df_emotion_conf = df_res.groupby(['emo']).mean()\n",
    "df_emotion_conf[\"emo\"] = emotions\n",
    "df_emotion_conf = df_emotion_conf.set_index(\"emo\")\n",
    "\n",
    "\n",
    "plt.figure(figsize = (6, 5))\n",
    "sn.heatmap(df_emotion_conf, annot=True)\n"
   ],
   "metadata": {
    "collapsed": false,
    "pycharm": {
     "name": "#%%\n"
    }
   }
  },
  {
   "cell_type": "code",
   "execution_count": 25,
   "outputs": [
    {
     "data": {
      "text/plain": "          ang       exc       neu       sad\nemo                                        \nang  0.533423  0.263212  0.186526  0.016839\nexc  0.298198  0.452654  0.194016  0.055132\nneu  0.215058  0.163472  0.493625  0.127845\nsad  0.057239  0.100726  0.307917  0.534118",
      "text/html": "<div>\n<style scoped>\n    .dataframe tbody tr th:only-of-type {\n        vertical-align: middle;\n    }\n\n    .dataframe tbody tr th {\n        vertical-align: top;\n    }\n\n    .dataframe thead th {\n        text-align: right;\n    }\n</style>\n<table border=\"1\" class=\"dataframe\">\n  <thead>\n    <tr style=\"text-align: right;\">\n      <th></th>\n      <th>ang</th>\n      <th>exc</th>\n      <th>neu</th>\n      <th>sad</th>\n    </tr>\n    <tr>\n      <th>emo</th>\n      <th></th>\n      <th></th>\n      <th></th>\n      <th></th>\n    </tr>\n  </thead>\n  <tbody>\n    <tr>\n      <th>ang</th>\n      <td>0.533423</td>\n      <td>0.263212</td>\n      <td>0.186526</td>\n      <td>0.016839</td>\n    </tr>\n    <tr>\n      <th>exc</th>\n      <td>0.298198</td>\n      <td>0.452654</td>\n      <td>0.194016</td>\n      <td>0.055132</td>\n    </tr>\n    <tr>\n      <th>neu</th>\n      <td>0.215058</td>\n      <td>0.163472</td>\n      <td>0.493625</td>\n      <td>0.127845</td>\n    </tr>\n    <tr>\n      <th>sad</th>\n      <td>0.057239</td>\n      <td>0.100726</td>\n      <td>0.307917</td>\n      <td>0.534118</td>\n    </tr>\n  </tbody>\n</table>\n</div>"
     },
     "execution_count": 25,
     "metadata": {},
     "output_type": "execute_result"
    }
   ],
   "source": [
    "df_emotion_conf"
   ],
   "metadata": {
    "collapsed": false,
    "pycharm": {
     "name": "#%%\n"
    }
   }
  },
  {
   "cell_type": "markdown",
   "source": [
    "### Loading in new Wav file"
   ],
   "metadata": {
    "collapsed": false
   }
  },
  {
   "cell_type": "code",
   "execution_count": 26,
   "outputs": [],
   "source": [
    "import IPython.display as ipd\n",
    "audio_path = \"F:/Capstone Project/IEMOCAP-Emotion-Detection/data/CMU_MOSI/Raw/Audio/WAV_11025/\"\n",
    "file_name = \"9qR7uwkblbs.wav\"\n",
    "#ipd.Audio(audio_path) # load a local WAV file"
   ],
   "metadata": {
    "collapsed": false,
    "pycharm": {
     "name": "#%%\n"
    }
   }
  },
  {
   "cell_type": "code",
   "execution_count": 27,
   "outputs": [],
   "source": [
    "wav = get_audio(audio_path, file_name)\n",
    "(nchannels, sampwidth, framerate, nframes, comptype, compname), samples_wav = wav"
   ],
   "metadata": {
    "collapsed": false,
    "pycharm": {
     "name": "#%%\n"
    }
   }
  },
  {
   "cell_type": "markdown",
   "source": [
    "#### Splitting the Wav into samples\n",
    "after loading in a wav file to test on, we will be splitting it into a number of samples.\n",
    "Each sample will be a 3 second slice of the original wav (The slice length can be changed by changing the timeq).\n",
    "An overlap can also be used between samples, for this test we use a 1 second overlap"
   ],
   "metadata": {
    "collapsed": false
   }
  },
  {
   "cell_type": "code",
   "execution_count": 28,
   "outputs": [],
   "source": [
    "len_wav = nframes / framerate # length of wav in seconds\n",
    "\n",
    "timeq = 3   # length of sample slice in seconds\n",
    "overlap = 1 # overlap between samples\n",
    "\n",
    "left = samples_wav[0::nchannels]\n",
    "right = samples_wav[1::nchannels]\n",
    "\n",
    "samples = []\n",
    "for t_start in range(0, int(len_wav), int(timeq)):\n",
    "    if t_start > int(t_start):\n",
    "        t_start = t_start\n",
    "\n",
    "    if t_start == 0: #first sample\n",
    "        start = t_start\n",
    "        end = t_start + timeq\n",
    "    else:\n",
    "        start = t_start - overlap\n",
    "        end = t_start + timeq - overlap\n",
    "\n",
    "    if end > len_wav:\n",
    "        end = len_wav\n",
    "    sample_right = right[int(start * framerate):int(end * framerate)]\n",
    "    sample_left = left[int(start * framerate):int(end * framerate)]\n",
    "    # print(\"sample start: \" + str(start) + \" | sample end: \" + str(end))\n",
    "\n",
    "    samples.append(sample_left) #, 'right': sample_right})"
   ],
   "metadata": {
    "collapsed": false,
    "pycharm": {
     "name": "#%%\n"
    }
   }
  },
  {
   "cell_type": "markdown",
   "source": [
    "#### Extracting features"
   ],
   "metadata": {
    "collapsed": false
   }
  },
  {
   "cell_type": "code",
   "execution_count": 29,
   "outputs": [
    {
     "data": {
      "text/plain": "(60, 100, 34)"
     },
     "execution_count": 29,
     "metadata": {},
     "output_type": "execute_result"
    }
   ],
   "source": [
    "# set up the training set\n",
    "wav_in = []\n",
    "\n",
    "counter = 0\n",
    "for ses_mod in samples:\n",
    "    st_features = calculate_features(ses_mod, framerate, None)\n",
    "    st_features, _ = pad_sequence_into_array(st_features, maxlen=100)\n",
    "    wav_in.append( st_features.T )\n",
    "\n",
    "wav_in = np.array(wav_in)\n",
    "wav_in.shape"
   ],
   "metadata": {
    "collapsed": false,
    "pycharm": {
     "name": "#%%\n"
    }
   }
  },
  {
   "cell_type": "markdown",
   "source": [
    "#### Predict on model"
   ],
   "metadata": {
    "collapsed": false
   }
  },
  {
   "cell_type": "code",
   "execution_count": 30,
   "outputs": [
    {
     "data": {
      "text/plain": "array([[0.6347714 , 0.32998347, 0.0336286 , 0.00161646],\n       [0.63407403, 0.33143896, 0.03290038, 0.00158656],\n       [0.63466346, 0.33034253, 0.03338246, 0.00161149],\n       [0.6345985 , 0.33034626, 0.03341966, 0.00163557],\n       [0.63280994, 0.33265617, 0.03295651, 0.00157733],\n       [0.6337297 , 0.33127767, 0.03335077, 0.00164189],\n       [0.6344024 , 0.3310917 , 0.0329085 , 0.00159739],\n       [0.6345868 , 0.3306012 , 0.03318495, 0.00162702],\n       [0.63340366, 0.3319251 , 0.03303469, 0.00163656],\n       [0.6346111 , 0.33036277, 0.03341962, 0.00160655],\n       [0.6357129 , 0.32887337, 0.03377215, 0.0016416 ],\n       [0.63476425, 0.33061793, 0.03300653, 0.00161116],\n       [0.6361744 , 0.3289897 , 0.03321069, 0.00162519],\n       [0.6347533 , 0.330673  , 0.03295935, 0.00161436],\n       [0.63457865, 0.33029026, 0.03347696, 0.00165411],\n       [0.6353564 , 0.33002046, 0.03298987, 0.00163331],\n       [0.6358296 , 0.3294213 , 0.03314613, 0.00160295],\n       [0.6317946 , 0.33371353, 0.03288552, 0.00160642],\n       [0.63483524, 0.33024892, 0.03329394, 0.00162196],\n       [0.63461584, 0.33070967, 0.03308125, 0.00159327],\n       [0.6341739 , 0.3308894 , 0.03333194, 0.00160471],\n       [0.63328433, 0.3321004 , 0.03299244, 0.00162286],\n       [0.6360571 , 0.32912928, 0.03321638, 0.00159714],\n       [0.63504344, 0.33005327, 0.03329133, 0.00161197],\n       [0.5389081 , 0.4030334 , 0.05591799, 0.00214046],\n       [0.63392216, 0.33134538, 0.03312374, 0.00160868],\n       [0.632353  , 0.33317015, 0.03289777, 0.00157909],\n       [0.6345112 , 0.330765  , 0.03312828, 0.00159562],\n       [0.6345573 , 0.3305691 , 0.03326333, 0.00161023],\n       [0.6331024 , 0.3320104 , 0.03326942, 0.00161784],\n       [0.63205135, 0.33356127, 0.03284078, 0.00154656],\n       [0.63273734, 0.33271936, 0.03291595, 0.0016273 ],\n       [0.6340876 , 0.33139175, 0.03291374, 0.00160685],\n       [0.6333408 , 0.33212262, 0.03290428, 0.00163231],\n       [0.63509196, 0.33017898, 0.03311765, 0.00161149],\n       [0.63237244, 0.33318493, 0.03282594, 0.00161667],\n       [0.63681346, 0.3285813 , 0.03299877, 0.00160643],\n       [0.63252217, 0.33292344, 0.03292171, 0.00163264],\n       [0.63278055, 0.3327991 , 0.03284343, 0.00157685],\n       [0.6342494 , 0.33123538, 0.03291048, 0.00160478],\n       [0.6341861 , 0.33113474, 0.03306184, 0.00161735],\n       [0.63613474, 0.32614145, 0.03603133, 0.00169255],\n       [0.6326978 , 0.33281136, 0.03286348, 0.00162737],\n       [0.6319585 , 0.33347628, 0.03296403, 0.00160118],\n       [0.6320332 , 0.33343163, 0.03291796, 0.00161709],\n       [0.63447034, 0.33080366, 0.03312407, 0.00160185],\n       [0.6342089 , 0.33124894, 0.03292999, 0.00161208],\n       [0.63374287, 0.33154166, 0.03307991, 0.00163557],\n       [0.63180584, 0.3336046 , 0.03298591, 0.00160372],\n       [0.6330095 , 0.33243456, 0.03292788, 0.00162807],\n       [0.6345617 , 0.33033678, 0.0334517 , 0.00164985],\n       [0.63137555, 0.33410624, 0.032862  , 0.00165622],\n       [0.6345646 , 0.33008042, 0.03369956, 0.00165549],\n       [0.633795  , 0.33163837, 0.03300143, 0.00156519],\n       [0.63502264, 0.32993072, 0.03343644, 0.00161015],\n       [0.63387764, 0.33163497, 0.03287105, 0.00161628],\n       [0.6344245 , 0.33098748, 0.03297208, 0.00161579],\n       [0.6343786 , 0.33110046, 0.03292128, 0.0015996 ],\n       [0.6352052 , 0.33008096, 0.03307335, 0.00164052],\n       [0.63375294, 0.33160347, 0.03301011, 0.00163354]], dtype=float32)"
     },
     "execution_count": 30,
     "metadata": {},
     "output_type": "execute_result"
    }
   ],
   "source": [
    "wav_test_results = model.predict(wav_in)\n",
    "wav_test_results"
   ],
   "metadata": {
    "collapsed": false,
    "pycharm": {
     "name": "#%%\n"
    }
   }
  },
  {
   "cell_type": "code",
   "execution_count": 31,
   "outputs": [
    {
     "ename": "ValueError",
     "evalue": "Shape of passed values is (60, 4), indices imply (60, 1)",
     "output_type": "error",
     "traceback": [
      "\u001B[1;31m---------------------------------------------------------------------------\u001B[0m",
      "\u001B[1;31mValueError\u001B[0m                                Traceback (most recent call last)",
      "\u001B[1;32mF:\\Program Files\\Ananconda\\envs\\CAP\\lib\\site-packages\\pandas\\core\\internals\\managers.py\u001B[0m in \u001B[0;36mcreate_block_manager_from_blocks\u001B[1;34m(blocks, axes)\u001B[0m\n\u001B[0;32m   1661\u001B[0m                 blocks = [\n\u001B[1;32m-> 1662\u001B[1;33m                     \u001B[0mmake_block\u001B[0m\u001B[1;33m(\u001B[0m\u001B[0mvalues\u001B[0m\u001B[1;33m=\u001B[0m\u001B[0mblocks\u001B[0m\u001B[1;33m[\u001B[0m\u001B[1;36m0\u001B[0m\u001B[1;33m]\u001B[0m\u001B[1;33m,\u001B[0m \u001B[0mplacement\u001B[0m\u001B[1;33m=\u001B[0m\u001B[0mslice\u001B[0m\u001B[1;33m(\u001B[0m\u001B[1;36m0\u001B[0m\u001B[1;33m,\u001B[0m \u001B[0mlen\u001B[0m\u001B[1;33m(\u001B[0m\u001B[0maxes\u001B[0m\u001B[1;33m[\u001B[0m\u001B[1;36m0\u001B[0m\u001B[1;33m]\u001B[0m\u001B[1;33m)\u001B[0m\u001B[1;33m)\u001B[0m\u001B[1;33m)\u001B[0m\u001B[1;33m\u001B[0m\u001B[1;33m\u001B[0m\u001B[0m\n\u001B[0m\u001B[0;32m   1663\u001B[0m                 ]\n",
      "\u001B[1;32mF:\\Program Files\\Ananconda\\envs\\CAP\\lib\\site-packages\\pandas\\core\\internals\\blocks.py\u001B[0m in \u001B[0;36mmake_block\u001B[1;34m(values, placement, klass, ndim, dtype)\u001B[0m\n\u001B[0;32m   2721\u001B[0m \u001B[1;33m\u001B[0m\u001B[0m\n\u001B[1;32m-> 2722\u001B[1;33m     \u001B[1;32mreturn\u001B[0m \u001B[0mklass\u001B[0m\u001B[1;33m(\u001B[0m\u001B[0mvalues\u001B[0m\u001B[1;33m,\u001B[0m \u001B[0mndim\u001B[0m\u001B[1;33m=\u001B[0m\u001B[0mndim\u001B[0m\u001B[1;33m,\u001B[0m \u001B[0mplacement\u001B[0m\u001B[1;33m=\u001B[0m\u001B[0mplacement\u001B[0m\u001B[1;33m)\u001B[0m\u001B[1;33m\u001B[0m\u001B[1;33m\u001B[0m\u001B[0m\n\u001B[0m\u001B[0;32m   2723\u001B[0m \u001B[1;33m\u001B[0m\u001B[0m\n",
      "\u001B[1;32mF:\\Program Files\\Ananconda\\envs\\CAP\\lib\\site-packages\\pandas\\core\\internals\\blocks.py\u001B[0m in \u001B[0;36m__init__\u001B[1;34m(self, values, placement, ndim)\u001B[0m\n\u001B[0;32m    130\u001B[0m             raise ValueError(\n\u001B[1;32m--> 131\u001B[1;33m                 \u001B[1;34mf\"Wrong number of items passed {len(self.values)}, \"\u001B[0m\u001B[1;33m\u001B[0m\u001B[1;33m\u001B[0m\u001B[0m\n\u001B[0m\u001B[0;32m    132\u001B[0m                 \u001B[1;34mf\"placement implies {len(self.mgr_locs)}\"\u001B[0m\u001B[1;33m\u001B[0m\u001B[1;33m\u001B[0m\u001B[0m\n",
      "\u001B[1;31mValueError\u001B[0m: Wrong number of items passed 4, placement implies 1",
      "\nDuring handling of the above exception, another exception occurred:\n",
      "\u001B[1;31mValueError\u001B[0m                                Traceback (most recent call last)",
      "\u001B[1;32m<ipython-input-31-a16d31392e5b>\u001B[0m in \u001B[0;36m<module>\u001B[1;34m\u001B[0m\n\u001B[0;32m      2\u001B[0m \u001B[0mcols\u001B[0m \u001B[1;33m=\u001B[0m \u001B[1;33m[\u001B[0m\u001B[1;34m'ang'\u001B[0m\u001B[1;33m,\u001B[0m \u001B[1;34m'exc'\u001B[0m\u001B[1;33m,\u001B[0m \u001B[1;34m'neu'\u001B[0m\u001B[1;33m,\u001B[0m \u001B[1;34m'sad'\u001B[0m\u001B[1;33m]\u001B[0m\u001B[1;33m\u001B[0m\u001B[1;33m\u001B[0m\u001B[0m\n\u001B[0;32m      3\u001B[0m \u001B[0mcol_y\u001B[0m \u001B[1;33m=\u001B[0m \u001B[1;33m[\u001B[0m\u001B[1;33m]\u001B[0m\u001B[1;33m\u001B[0m\u001B[1;33m\u001B[0m\u001B[0m\n\u001B[1;32m----> 4\u001B[1;33m \u001B[0mdf_pred_wav\u001B[0m \u001B[1;33m=\u001B[0m \u001B[0mpd\u001B[0m\u001B[1;33m.\u001B[0m\u001B[0mDataFrame\u001B[0m\u001B[1;33m(\u001B[0m\u001B[0mwav_test_results\u001B[0m\u001B[1;33m,\u001B[0m \u001B[0mcolumns\u001B[0m\u001B[1;33m=\u001B[0m\u001B[1;33m[\u001B[0m\u001B[1;34m\"val\"\u001B[0m\u001B[1;33m]\u001B[0m\u001B[1;33m)\u001B[0m\u001B[1;33m\u001B[0m\u001B[1;33m\u001B[0m\u001B[0m\n\u001B[0m\u001B[0;32m      5\u001B[0m \u001B[1;32mfor\u001B[0m \u001B[0mx\u001B[0m \u001B[1;32min\u001B[0m \u001B[0mdf_pred_wav\u001B[0m\u001B[1;33m[\u001B[0m\u001B[1;34m\"val\"\u001B[0m\u001B[1;33m]\u001B[0m\u001B[1;33m.\u001B[0m\u001B[0mvalues\u001B[0m\u001B[1;33m:\u001B[0m\u001B[1;33m\u001B[0m\u001B[1;33m\u001B[0m\u001B[0m\n\u001B[0;32m      6\u001B[0m     \u001B[0mcol_y\u001B[0m\u001B[1;33m.\u001B[0m\u001B[0mappend\u001B[0m\u001B[1;33m(\u001B[0m\u001B[0mcols\u001B[0m\u001B[1;33m[\u001B[0m\u001B[0mx\u001B[0m\u001B[1;33m]\u001B[0m\u001B[1;33m)\u001B[0m\u001B[1;33m\u001B[0m\u001B[1;33m\u001B[0m\u001B[0m\n",
      "\u001B[1;32mF:\\Program Files\\Ananconda\\envs\\CAP\\lib\\site-packages\\pandas\\core\\frame.py\u001B[0m in \u001B[0;36m__init__\u001B[1;34m(self, data, index, columns, dtype, copy)\u001B[0m\n\u001B[0;32m    495\u001B[0m                 \u001B[0mmgr\u001B[0m \u001B[1;33m=\u001B[0m \u001B[0minit_dict\u001B[0m\u001B[1;33m(\u001B[0m\u001B[1;33m{\u001B[0m\u001B[0mdata\u001B[0m\u001B[1;33m.\u001B[0m\u001B[0mname\u001B[0m\u001B[1;33m:\u001B[0m \u001B[0mdata\u001B[0m\u001B[1;33m}\u001B[0m\u001B[1;33m,\u001B[0m \u001B[0mindex\u001B[0m\u001B[1;33m,\u001B[0m \u001B[0mcolumns\u001B[0m\u001B[1;33m,\u001B[0m \u001B[0mdtype\u001B[0m\u001B[1;33m=\u001B[0m\u001B[0mdtype\u001B[0m\u001B[1;33m)\u001B[0m\u001B[1;33m\u001B[0m\u001B[1;33m\u001B[0m\u001B[0m\n\u001B[0;32m    496\u001B[0m             \u001B[1;32melse\u001B[0m\u001B[1;33m:\u001B[0m\u001B[1;33m\u001B[0m\u001B[1;33m\u001B[0m\u001B[0m\n\u001B[1;32m--> 497\u001B[1;33m                 \u001B[0mmgr\u001B[0m \u001B[1;33m=\u001B[0m \u001B[0minit_ndarray\u001B[0m\u001B[1;33m(\u001B[0m\u001B[0mdata\u001B[0m\u001B[1;33m,\u001B[0m \u001B[0mindex\u001B[0m\u001B[1;33m,\u001B[0m \u001B[0mcolumns\u001B[0m\u001B[1;33m,\u001B[0m \u001B[0mdtype\u001B[0m\u001B[1;33m=\u001B[0m\u001B[0mdtype\u001B[0m\u001B[1;33m,\u001B[0m \u001B[0mcopy\u001B[0m\u001B[1;33m=\u001B[0m\u001B[0mcopy\u001B[0m\u001B[1;33m)\u001B[0m\u001B[1;33m\u001B[0m\u001B[1;33m\u001B[0m\u001B[0m\n\u001B[0m\u001B[0;32m    498\u001B[0m \u001B[1;33m\u001B[0m\u001B[0m\n\u001B[0;32m    499\u001B[0m         \u001B[1;31m# For data is list-like, or Iterable (will consume into list)\u001B[0m\u001B[1;33m\u001B[0m\u001B[1;33m\u001B[0m\u001B[1;33m\u001B[0m\u001B[0m\n",
      "\u001B[1;32mF:\\Program Files\\Ananconda\\envs\\CAP\\lib\\site-packages\\pandas\\core\\internals\\construction.py\u001B[0m in \u001B[0;36minit_ndarray\u001B[1;34m(values, index, columns, dtype, copy)\u001B[0m\n\u001B[0;32m    232\u001B[0m         \u001B[0mblock_values\u001B[0m \u001B[1;33m=\u001B[0m \u001B[1;33m[\u001B[0m\u001B[0mvalues\u001B[0m\u001B[1;33m]\u001B[0m\u001B[1;33m\u001B[0m\u001B[1;33m\u001B[0m\u001B[0m\n\u001B[0;32m    233\u001B[0m \u001B[1;33m\u001B[0m\u001B[0m\n\u001B[1;32m--> 234\u001B[1;33m     \u001B[1;32mreturn\u001B[0m \u001B[0mcreate_block_manager_from_blocks\u001B[0m\u001B[1;33m(\u001B[0m\u001B[0mblock_values\u001B[0m\u001B[1;33m,\u001B[0m \u001B[1;33m[\u001B[0m\u001B[0mcolumns\u001B[0m\u001B[1;33m,\u001B[0m \u001B[0mindex\u001B[0m\u001B[1;33m]\u001B[0m\u001B[1;33m)\u001B[0m\u001B[1;33m\u001B[0m\u001B[1;33m\u001B[0m\u001B[0m\n\u001B[0m\u001B[0;32m    235\u001B[0m \u001B[1;33m\u001B[0m\u001B[0m\n\u001B[0;32m    236\u001B[0m \u001B[1;33m\u001B[0m\u001B[0m\n",
      "\u001B[1;32mF:\\Program Files\\Ananconda\\envs\\CAP\\lib\\site-packages\\pandas\\core\\internals\\managers.py\u001B[0m in \u001B[0;36mcreate_block_manager_from_blocks\u001B[1;34m(blocks, axes)\u001B[0m\n\u001B[0;32m   1670\u001B[0m         \u001B[0mblocks\u001B[0m \u001B[1;33m=\u001B[0m \u001B[1;33m[\u001B[0m\u001B[0mgetattr\u001B[0m\u001B[1;33m(\u001B[0m\u001B[0mb\u001B[0m\u001B[1;33m,\u001B[0m \u001B[1;34m\"values\"\u001B[0m\u001B[1;33m,\u001B[0m \u001B[0mb\u001B[0m\u001B[1;33m)\u001B[0m \u001B[1;32mfor\u001B[0m \u001B[0mb\u001B[0m \u001B[1;32min\u001B[0m \u001B[0mblocks\u001B[0m\u001B[1;33m]\u001B[0m\u001B[1;33m\u001B[0m\u001B[1;33m\u001B[0m\u001B[0m\n\u001B[0;32m   1671\u001B[0m         \u001B[0mtot_items\u001B[0m \u001B[1;33m=\u001B[0m \u001B[0msum\u001B[0m\u001B[1;33m(\u001B[0m\u001B[0mb\u001B[0m\u001B[1;33m.\u001B[0m\u001B[0mshape\u001B[0m\u001B[1;33m[\u001B[0m\u001B[1;36m0\u001B[0m\u001B[1;33m]\u001B[0m \u001B[1;32mfor\u001B[0m \u001B[0mb\u001B[0m \u001B[1;32min\u001B[0m \u001B[0mblocks\u001B[0m\u001B[1;33m)\u001B[0m\u001B[1;33m\u001B[0m\u001B[1;33m\u001B[0m\u001B[0m\n\u001B[1;32m-> 1672\u001B[1;33m         \u001B[1;32mraise\u001B[0m \u001B[0mconstruction_error\u001B[0m\u001B[1;33m(\u001B[0m\u001B[0mtot_items\u001B[0m\u001B[1;33m,\u001B[0m \u001B[0mblocks\u001B[0m\u001B[1;33m[\u001B[0m\u001B[1;36m0\u001B[0m\u001B[1;33m]\u001B[0m\u001B[1;33m.\u001B[0m\u001B[0mshape\u001B[0m\u001B[1;33m[\u001B[0m\u001B[1;36m1\u001B[0m\u001B[1;33m:\u001B[0m\u001B[1;33m]\u001B[0m\u001B[1;33m,\u001B[0m \u001B[0maxes\u001B[0m\u001B[1;33m,\u001B[0m \u001B[0me\u001B[0m\u001B[1;33m)\u001B[0m\u001B[1;33m\u001B[0m\u001B[1;33m\u001B[0m\u001B[0m\n\u001B[0m\u001B[0;32m   1673\u001B[0m \u001B[1;33m\u001B[0m\u001B[0m\n\u001B[0;32m   1674\u001B[0m \u001B[1;33m\u001B[0m\u001B[0m\n",
      "\u001B[1;31mValueError\u001B[0m: Shape of passed values is (60, 4), indices imply (60, 1)"
     ]
    }
   ],
   "source": [
    "# formatting the predicted data\n",
    "cols = ['ang', 'exc', 'neu', 'sad']\n",
    "col_y = []\n",
    "df_pred_wav = pd.DataFrame(wav_test_results, columns=[\"val\"])\n",
    "for x in df_pred_wav[\"val\"].values:\n",
    "    col_y.append(cols[x])\n",
    "\n",
    "df_pred_wav[\"emotion\"] = col_y\n",
    "df_pred_wav.head()\n",
    "\n"
   ],
   "metadata": {
    "collapsed": false,
    "pycharm": {
     "name": "#%%\n"
    }
   }
  }
 ],
 "metadata": {
  "kernelspec": {
   "display_name": "Python 3",
   "language": "python",
   "name": "python3"
  },
  "language_info": {
   "codemirror_mode": {
    "name": "ipython",
    "version": 2
   },
   "file_extension": ".py",
   "mimetype": "text/x-python",
   "name": "python",
   "nbconvert_exporter": "python",
   "pygments_lexer": "ipython2",
   "version": "2.7.6"
  }
 },
 "nbformat": 4,
 "nbformat_minor": 0
}