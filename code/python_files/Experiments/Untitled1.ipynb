{
 "cells": [
  {
   "cell_type": "code",
   "execution_count": 1,
   "metadata": {},
   "outputs": [
    {
     "name": "stderr",
     "output_type": "stream",
     "text": [
      "/usr/local/lib/python3.5/dist-packages/sklearn/cross_validation.py:41: DeprecationWarning: This module was deprecated in version 0.18 in favor of the model_selection module into which all the refactored classes and functions are moved. Also note that the interface of the new CV iterators are different from that of this module. This module will be removed in 0.20.\n",
      "  \"This module will be removed in 0.20.\", DeprecationWarning)\n",
      "/usr/local/lib/python3.5/dist-packages/sklearn/grid_search.py:42: DeprecationWarning: This module was deprecated in version 0.18 in favor of the model_selection module into which all the refactored classes and functions are moved. This module will be removed in 0.20.\n",
      "  DeprecationWarning)\n",
      "Using TensorFlow backend.\n"
     ]
    }
   ],
   "source": [
    "import os\n",
    "import sys\n",
    "import csv\n",
    "import wave\n",
    "import copy\n",
    "import math\n",
    "\n",
    "import numpy as np\n",
    "import pandas as pd\n",
    "\n",
    "from sklearn.preprocessing import label_binarize\n",
    "from sklearn.cross_validation import StratifiedKFold, KFold, train_test_split\n",
    "from sklearn.svm import OneClassSVM, SVC\n",
    "from sklearn.ensemble import RandomForestClassifier\n",
    "from sklearn.grid_search import GridSearchCV\n",
    "from sklearn.manifold import TSNE\n",
    "from sklearn.decomposition import PCA\n",
    "\n",
    "from keras.models import Sequential, Model\n",
    "from keras.layers.core import Dense, Activation\n",
    "from keras.layers import LSTM, Input\n",
    "from keras.layers.wrappers import TimeDistributed\n",
    "from keras.optimizers import SGD, Adam, RMSprop\n",
    "\n",
    "sys.path.append(\"../\")\n",
    "\n",
    "from utilities.utils import *\n",
    "\n",
    "import matplotlib\n",
    "import matplotlib.pyplot as plt\n",
    "import matplotlib.ticker as ticker\n",
    "%matplotlib inline\n",
    "\n",
    "from IPython.display import clear_output"
   ]
  },
  {
   "cell_type": "code",
   "execution_count": 2,
   "metadata": {},
   "outputs": [],
   "source": [
    "batch_size = 64\n",
    "nb_feat = 34\n",
    "nb_class = 4\n",
    "nb_epoch = 80\n",
    "\n",
    "optimizer = 'Adadelta'"
   ]
  },
  {
   "cell_type": "code",
   "execution_count": 3,
   "metadata": {},
   "outputs": [
    {
     "name": "stdout",
     "output_type": "stream",
     "text": [
      "----------------------------------------------------------------------------------------------------\n",
      "available_emotions            ['ang' 'exc' 'neu' 'sad']                                             \n",
      "conf_matrix_prefix            iemocap                                                               \n",
      "framerate                     16000                                                                 \n",
      "path_to_data                  /home/samarth/emotion_recognition-master/code/utilities/../../data/ses\n",
      "path_to_features              /home/samarth/emotion_recognition-master/code/utilities/../../data/fea\n",
      "sessions                      ['Session1', 'Session2', 'Session3', 'Session4', 'Session5']          \n",
      "types                         {1: <class 'numpy.int8'>, 2: <class 'numpy.int16'>, 4: <class 'numpy.i\n",
      "----------------------------------------------------------------------------------------------------\n"
     ]
    }
   ],
   "source": [
    "params = Constants()\n",
    "print(params)"
   ]
  },
  {
   "cell_type": "code",
   "execution_count": 4,
   "metadata": {},
   "outputs": [],
   "source": [
    "path_to_avi = params.path_to_data + 'Session1' + '/dialog/MOCAP_rotated/Ses01F_impro01.txt'"
   ]
  },
  {
   "cell_type": "code",
   "execution_count": 5,
   "metadata": {},
   "outputs": [
    {
     "name": "stdout",
     "output_type": "stream",
     "text": [
      "13836\n",
      "165\n",
      "['-28.03277', '32.01503', '-53.26572', '-0.24866', '22.38171', '-57.92426', '23.89061', '32.98670', '-55.86006', '-23.24082', '35.50025', '98.77892', '0.71984', '23.85440', '80.29511', '27.32115', '37.51287', '96.66002', '51.59958', '59.66769', '-45.87803', '60.92136', '59.61728', '-20.87795', '62.02471', '54.14578', '23.94855', '29.54917', '30.67098', '-18.71798', '43.29584', '34.50971', '-2.27367', '21.20029', '27.47530', '8.28366', '42.79253', '35.78905', '13.05869', '17.40279', '30.54087', '21.57486', '-57.80894', '54.44732', '-44.84093', '-66.45131', '55.02972', '-16.50413', '-64.02947', '48.72470', '26.91160', '-33.81545', '28.04140', '-17.92018', '-48.29249', '32.37606', '-1.73251', '-24.59868', '26.37021', '9.31240', '-43.71247', '32.21557', '14.81166', '-21.03775', '30.50886', '22.34581', '34.57282', '29.54649', '43.73436', '-32.64363', '26.91946', '44.83178', '-1.36057', '18.92686', '39.72273', '0.42066', '11.90556', '21.39331', '13.83638', '18.32322', '0.56940', '0.00000', '0.00000', '0.00000', '-16.05221', '16.10618', '0.62316', '27.33057', '25.37229', '65.29943', '18.11840', '28.00020', '81.90112', '38.13925', '38.45288', '80.18851', '47.46906', '37.54714', '64.90107', '-30.82293', '24.71270', '66.90566', '-18.96398', '26.42704', '82.16083', '-39.70339', '37.09464', '82.69565', '-48.13191', '34.97603', '66.15798', '5.61988', '18.89887', '58.03348', '30.01712', '27.04831', '50.84226', '47.75647', '32.61189', '52.66296', '61.45472', '50.85822', '44.88805', '-7.91337', '18.79014', '57.58971', '-29.20130', '24.25750', '51.94650', '-45.59485', '28.08786', '54.60126', '-61.77840', '44.49981', '49.46865', '-30.01637', '31.67842', '-34.02330', '-11.14552', '18.31168', '-24.12647', '-0.50802', '17.71366', '-22.99762', '9.73207', '18.39289', '-23.72211', '25.52699', '32.51104', '-35.71519', '11.01180', '22.10237', '-43.29699', '-1.80378', '20.09902', '-44.37196', '-14.90783', '21.68261', '-43.12778', '56.16466', '55.63724', '121.76000', '-45.39231', '52.91951', '130.26963']\n"
     ]
    }
   ],
   "source": [
    "f = open(path_to_avi).read()\n",
    "f = np.array(f.split('\\n'))\n",
    "f = f[2:]\n",
    "mocap_rot = []\n",
    "counter = 0\n",
    "for data in f:\n",
    "    mocap_rot.append(data.split(' ')[2:])\n",
    "print(len(mocap_rot))\n",
    "print(len(mocap_rot[0]))\n",
    "print(mocap_rot[0])"
   ]
  },
  {
   "cell_type": "code",
   "execution_count": 49,
   "metadata": {},
   "outputs": [],
   "source": [
    "def get_mocap_rot(path_to_mocap_rot, filename, params=Constants()):\n",
    "    f = open(path_to_mocap_rot + filename, 'r').read()\n",
    "    f = np.array(f.split('\\n'))\n",
    "    mocap_rot = []\n",
    "    mocap_rot_avg = []\n",
    "    f = f[2:]\n",
    "    counter = 0\n",
    "    for data in f:\n",
    "        counter+=1\n",
    "        data2 = np.array(data.split(' ')[2:]).astype(np.float)\n",
    "        if(len(data2)>0):\n",
    "            mocap_rot_avg.append(data2)\n",
    "            \n",
    "    mocap_rot_avg = np.array_split(np.array(mocap_rot_avg), 200)\n",
    "    for spl in mocap_rot_avg:\n",
    "        mocap_rot.append(np.mean(spl, axis=0))\n",
    "    return np.array(mocap_rot)"
   ]
  },
  {
   "cell_type": "code",
   "execution_count": 50,
   "metadata": {},
   "outputs": [],
   "source": [
    "\n",
    "mocap_rot = get_mocap_rot(params.path_to_data + 'Session1' + '/dialog/MOCAP_rotated/', 'Ses01F_impro01.txt')"
   ]
  },
  {
   "cell_type": "code",
   "execution_count": 51,
   "metadata": {},
   "outputs": [
    {
     "data": {
      "text/plain": [
       "(200, 165)"
      ]
     },
     "execution_count": 51,
     "metadata": {},
     "output_type": "execute_result"
    }
   ],
   "source": [
    "mocap_rot.shape\n"
   ]
  },
  {
   "cell_type": "code",
   "execution_count": 52,
   "metadata": {},
   "outputs": [],
   "source": [
    "\n",
    "\n",
    "def read_iemocap_mocap_rot(params=Constants()):\n",
    "    data = []\n",
    "    for session in params.sessions:\n",
    "        path_to_mocap_rot = params.path_to_data + session + '/dialog/MOCAP_rotated/'\n",
    "        path_to_emotions = params.path_to_data + session + '/dialog/EmoEvaluation/'\n",
    "        #path_to_transcriptions = params.path_to_data + session + '/dialog/transcriptions/'\n",
    "        \n",
    "        files2 = os.listdir(path_to_mocap_rot)\n",
    "        #print (files2.sort())\n",
    "        files = []\n",
    "        for f in files2:\n",
    "            if f.endswith(\".txt\"):\n",
    "                if f[0] == '.':\n",
    "                    files.append(f[2:-4])\n",
    "                else:\n",
    "                    files.append(f[:-4])\n",
    "                    \n",
    "        print (session)   \n",
    "        for f in files:\n",
    "            print (f)\n",
    "            mocap_rot = get_mocap_rot(path_to_mocap_rot, f + '.txt')\n",
    "            emotions = get_emotions(path_to_emotions, f + '.txt')\n",
    "\n",
    "            for ie, e in enumerate(emotions):\n",
    "                e.pop(\"left\", None)\n",
    "                e.pop(\"right\", None)\n",
    "                e['mocap_rot'] = mocap_rot\n",
    "                if e['emotion'] in params.available_emotions:\n",
    "                    data.append(e)\n",
    "    sort_key = get_field(data, \"id\")\n",
    "    return np.array(data)[np.argsort(sort_key)]"
   ]
  },
  {
   "cell_type": "code",
   "execution_count": 53,
   "metadata": {
    "scrolled": true
   },
   "outputs": [
    {
     "name": "stdout",
     "output_type": "stream",
     "text": [
      "Session1\n",
      "Ses01F_script02_2\n",
      "Ses01M_script02_1\n",
      "Ses01F_impro04\n",
      "Ses01M_impro02\n",
      "Ses01M_impro05\n",
      "Ses01F_impro05\n",
      "Ses01M_impro06\n",
      "Ses01M_script03_2\n",
      "Ses01M_impro07\n",
      "Ses01F_script01_1\n",
      "Ses01F_script02_1\n",
      "Ses01M_script03_1\n",
      "Ses01M_impro04\n",
      "Ses01M_script03_2\n",
      "Ses01M_impro03\n",
      "Ses01F_script02_1\n",
      "Ses01M_script01_3\n",
      "Ses01F_impro04\n",
      "Ses01F_impro03\n",
      "Ses01M_script01_1\n",
      "Ses01F_impro02\n",
      "Ses01F_impro02\n",
      "Ses01M_impro03\n",
      "Ses01M_impro01\n",
      "Ses01F_impro01\n",
      "Ses01M_script01_2\n",
      "Ses01F_script03_1\n",
      "Ses01F_script01_2\n",
      "Ses01M_script01_1\n",
      "Ses01M_impro07\n",
      "Ses01F_impro05\n",
      "Ses01M_script02_1\n",
      "Ses01M_impro05\n",
      "Ses01M_script01_3\n",
      "Ses01M_script02_2\n",
      "Ses01F_impro07\n",
      "Ses01M_impro06\n",
      "Ses01F_impro07\n",
      "Ses01F_script01_3\n",
      "Ses01F_script01_3\n",
      "Ses01M_script01_2\n",
      "Ses01M_script02_2\n",
      "Ses01F_impro01\n",
      "Ses01F_script02_2\n",
      "Ses01F_impro06\n",
      "Ses01M_impro04\n",
      "Ses01F_script03_2\n",
      "Ses01F_script03_1\n",
      "Ses01F_impro03\n",
      "Ses01F_script03_2\n",
      "Ses01F_script01_2\n",
      "Ses01M_script03_1\n",
      "Ses01F_script01_1\n",
      "Ses01F_impro06\n",
      "Ses01M_impro02\n",
      "Ses01M_impro01\n",
      "Session2\n",
      "Ses02F_script01_2\n",
      "Ses02M_impro08\n",
      "Ses02F_impro03\n",
      "Ses02F_script03_2\n",
      "Ses02M_script01_3\n",
      "Ses02F_impro01\n",
      "Ses02M_script01_2\n",
      "Ses02F_impro05\n",
      "Ses02F_script03_1\n",
      "Ses02F_script03_1\n",
      "Ses02M_impro08\n",
      "Ses02F_impro01\n",
      "Ses02F_impro07\n",
      "Ses02F_script02_1\n",
      "Ses02F_script01_2\n",
      "Ses02M_impro07\n",
      "Ses02F_impro08\n",
      "Ses02M_impro04\n",
      "Ses02F_script02_1\n",
      "Ses02M_script01_1\n",
      "Ses02F_impro05\n",
      "Ses02M_impro03\n",
      "Ses02M_impro02\n",
      "Ses02F_script01_3\n",
      "Ses02M_impro06\n",
      "Ses02M_script03_2\n",
      "Ses02M_impro01\n",
      "Ses02M_script03_1\n",
      "Ses02F_impro06\n",
      "Ses02F_impro07\n",
      "Ses02M_script01_1\n",
      "Ses02M_impro02\n",
      "Ses02M_impro05\n",
      "Ses02M_impro01\n",
      "Ses02M_script02_1\n",
      "Ses02M_script02_2\n",
      "Ses02F_script03_2\n",
      "Ses02M_impro05\n",
      "Ses02F_script02_2\n",
      "Ses02F_script01_3\n",
      "Ses02F_impro04\n",
      "Ses02M_impro06\n",
      "Ses02F_script01_1\n",
      "Ses02M_script03_1\n",
      "Ses02F_impro08\n",
      "Ses02M_impro07\n",
      "Ses02F_impro03\n",
      "Ses02M_script01_3\n",
      "Ses02M_script02_2\n",
      "Ses02F_impro02\n",
      "Ses02F_impro04\n",
      "Ses02M_script02_1\n",
      "Ses02F_script01_1\n",
      "Ses02F_impro06\n",
      "Ses02M_script03_2\n",
      "Ses02F_impro02\n",
      "Ses02F_script02_2\n",
      "Ses02M_script01_2\n",
      "Ses02M_impro03\n",
      "Ses02M_impro04\n",
      "Session3\n",
      "Ses03F_script01_3\n",
      "Ses03M_impro06\n",
      "Ses03M_impro02\n",
      "Ses03F_impro04\n",
      "Ses03F_impro04\n",
      "Ses03M_impro01\n",
      "Ses03F_script03_2\n",
      "Ses03F_script03_1\n",
      "Ses03M_impro07\n",
      "Ses03M_impro03\n",
      "Ses03M_impro08b\n",
      "Ses03M_impro06\n",
      "Ses03M_script03_1\n",
      "Ses03F_impro08\n",
      "Ses03M_script01_1\n",
      "Ses03F_impro07\n",
      "Ses03M_impro05b\n",
      "Ses03M_script01_1\n",
      "Ses03M_script02_1\n",
      "Ses03F_script02_2\n",
      "Ses03F_impro03\n",
      "Ses03F_script01_2\n",
      "Ses03M_impro05a\n",
      "Ses03M_script01_3\n",
      "Ses03F_script01_3\n",
      "Ses03M_impro02\n",
      "Ses03F_impro06\n",
      "Ses03F_impro01\n",
      "Ses03M_script03_1\n",
      "Ses03M_impro08a\n",
      "Ses03M_impro01\n",
      "Ses03M_script02_2\n",
      "Ses03F_script02_2\n",
      "Ses03F_script02_1\n",
      "Ses03F_impro06\n",
      "Ses03F_impro05\n",
      "Ses03M_impro04\n",
      "Ses03F_impro01\n",
      "Ses03M_impro03\n",
      "Ses03F_impro02\n",
      "Ses03F_script02_1\n",
      "Ses03F_script03_1\n",
      "Ses03F_impro07\n",
      "Ses03F_script01_1\n",
      "Ses03M_impro08b\n",
      "Ses03M_script01_2\n",
      "Ses03M_impro07\n",
      "Ses03M_script01_2\n",
      "Ses03F_script01_2\n",
      "Ses03M_impro08a\n",
      "Ses03F_impro02\n",
      "Ses03F_script03_2\n",
      "Ses03M_impro05a\n",
      "Ses03M_script03_2\n",
      "Ses03M_script01_3\n",
      "Ses03M_script02_2\n",
      "Ses03M_script02_1\n",
      "Ses03M_impro05b\n",
      "Ses03F_script01_1\n",
      "Ses03F_impro08\n",
      "Ses03F_impro05\n",
      "Ses03M_script03_2\n",
      "Ses03F_impro03\n",
      "Ses03M_impro04\n",
      "Session4\n",
      "Ses04M_impro02\n",
      "Ses04M_impro06\n",
      "Ses04F_script01_3\n",
      "Ses04M_impro04\n",
      "Ses04F_script01_2\n",
      "Ses04M_script02_2\n",
      "Ses04F_impro04\n",
      "Ses04F_impro02\n",
      "Ses04F_impro02\n",
      "Ses04M_script03_1\n",
      "Ses04M_script02_2\n",
      "Ses04M_impro04\n",
      "Ses04F_script01_1\n",
      "Ses04M_script01_3\n",
      "Ses04M_script03_1\n",
      "Ses04F_script01_3\n",
      "Ses04F_script01_1\n",
      "Ses04M_script01_1\n",
      "Ses04F_impro06\n",
      "Ses04M_script03_2\n",
      "Ses04F_impro07\n",
      "Ses04M_impro05\n",
      "Ses04F_impro03\n",
      "Ses04F_script03_1\n",
      "Ses04F_impro01\n",
      "Ses04F_impro04\n",
      "Ses04M_impro03\n",
      "Ses04F_impro06\n",
      "Ses04F_script02_1\n",
      "Ses04F_impro05\n",
      "Ses04M_script01_2\n",
      "Ses04F_script03_1\n",
      "Ses04F_script03_2\n",
      "Ses04F_impro08\n",
      "Ses04M_impro01\n",
      "Ses04F_script01_2\n",
      "Ses04M_impro07\n",
      "Ses04F_impro03\n",
      "Ses04M_impro05\n",
      "Ses04M_script01_2\n",
      "Ses04M_impro03\n",
      "Ses04M_impro08\n",
      "Ses04M_impro06\n",
      "Ses04F_impro01\n",
      "Ses04M_script01_3\n",
      "Ses04M_impro02\n",
      "Ses04F_impro07\n",
      "Ses04F_impro08\n",
      "Ses04F_script03_2\n",
      "Ses04M_script03_2\n",
      "Ses04M_impro07\n",
      "Ses04F_script02_2\n",
      "Ses04M_impro01\n",
      "Ses04F_script02_2\n",
      "Ses04M_script02_1\n",
      "Ses04M_script02_1\n",
      "Ses04F_script02_1\n",
      "Ses04M_impro08\n",
      "Ses04M_script01_1\n",
      "Ses04F_impro05\n",
      "Session5\n",
      "Ses05F_script02_2\n",
      "Ses05M_impro02\n",
      "Ses05M_script02_1\n",
      "Ses05M_impro05\n",
      "Ses05F_script03_2\n",
      "Ses05M_impro08\n",
      "Ses05M_script02_2\n",
      "Ses05F_script02_1\n",
      "Ses05F_impro08\n",
      "Ses05F_script01_1\n",
      "Ses05F_impro02\n",
      "Ses05F_impro06\n",
      "Ses05M_impro05\n",
      "Ses05F_impro03\n",
      "Ses05F_impro06\n",
      "Ses05M_impro02\n",
      "Ses05M_impro08\n",
      "Ses05M_script01_1\n",
      "Ses05F_script01_3\n",
      "Ses05M_impro03\n",
      "Ses05M_script02_1\n",
      "Ses05M_impro04\n",
      "Ses05F_impro04\n",
      "Ses05M_script01_2\n",
      "Ses05M_script03_2\n",
      "Ses05F_script02_2\n",
      "Ses05M_impro01\n",
      "Ses05M_impro06\n",
      "Ses05M_impro07\n",
      "Ses05M_script01_3\n",
      "Ses05F_impro07\n",
      "Ses05M_script03_1\n",
      "Ses05F_script01_2\n",
      "Ses05M_impro07\n",
      "Ses05M_script01_3\n",
      "Ses05F_impro01\n",
      "Ses05F_script01_1\n",
      "Ses05M_script03_1\n",
      "Ses05F_impro08\n",
      "Ses05M_impro03\n",
      "Ses05F_script02_1\n",
      "Ses05F_impro01\n",
      "Ses05M_script01_2\n",
      "Ses05M_impro04\n",
      "Ses05F_script01_2\n",
      "Ses05F_script03_1\n",
      "Ses05F_impro07\n",
      "Ses05F_impro02\n",
      "Ses05F_script03_1\n",
      "Ses05F_impro05\n",
      "Ses05F_impro03\n",
      "Ses05M_script03_2\n",
      "Ses05F_impro04\n",
      "Ses05M_impro06\n",
      "Ses05F_impro05\n",
      "Ses05F_script03_2\n",
      "Ses05F_script01_3\n",
      "Ses05M_impro01\n",
      "Ses05M_script01_1\n",
      "Ses05M_script02_2\n"
     ]
    }
   ],
   "source": [
    "data = read_iemocap_mocap_rot(params=params)"
   ]
  },
  {
   "cell_type": "code",
   "execution_count": 54,
   "metadata": {},
   "outputs": [],
   "source": [
    "import pickle\n",
    "with open(params.path_to_data + '/../'+'params.pickle', 'wb') as handle:\n",
    "    pickle.dump(data, handle, protocol=pickle.HIGHEST_PROTOCOL)\n",
    "    \n"
   ]
  },
  {
   "cell_type": "code",
   "execution_count": null,
   "metadata": {},
   "outputs": [],
   "source": []
  },
  {
   "cell_type": "code",
   "execution_count": null,
   "metadata": {},
   "outputs": [],
   "source": []
  },
  {
   "cell_type": "code",
   "execution_count": 59,
   "metadata": {},
   "outputs": [],
   "source": [
    "from os import listdir\n",
    "import random\n",
    "from keras.preprocessing.text import Tokenizer\n",
    "from keras.preprocessing.sequence import pad_sequences\n",
    "from keras.models import Sequential\n",
    "from keras.layers import Embedding, Conv2D, Dense, Dropout, Reshape, Merge, BatchNormalization, TimeDistributed, Lambda, Activation, LSTM, Flatten, Convolution2D, GRU, MaxPooling1D\n",
    "from keras.regularizers import l2\n",
    "from keras.callbacks import Callback, ModelCheckpoint, EarlyStopping\n",
    "#from keras import initializers\n",
    "from keras import backend as K\n",
    "from keras.optimizers import SGD\n",
    "from keras.optimizers import Adadelta\n",
    "from keras.utils import np_utils\n",
    "from keras.preprocessing import sequence\n",
    "from keras import optimizers\n",
    "import numpy as np"
   ]
  },
  {
   "cell_type": "code",
   "execution_count": 103,
   "metadata": {},
   "outputs": [],
   "source": [
    "def build_simple_lstm(nb_feat, nb_class, optimizer='SGD'):\n",
    "    model = Sequential()\n",
    "    model.add(Conv2D(32, 3, strides=(2, 2), border_mode='same', input_shape=(200, 165, 1)))\n",
    "    model.add(Dropout(0.2))\n",
    "    model.add(Activation('relu'))\n",
    "    model.add(Conv2D(64, 3, strides=(2, 2), border_mode='same'))\n",
    "    model.add(Dropout(0.2))\n",
    "    model.add(Activation('relu'))\n",
    "    model.add(Conv2D(64, 3, strides=(2, 2), border_mode='same'))\n",
    "    model.add(Dropout(0.2))\n",
    "    model.add(Activation('relu'))\n",
    "    model.add(Conv2D(128, 3, strides=(2, 2), border_mode='same'))\n",
    "    model.add(Dropout(0.2))\n",
    "    model.add(Activation('relu'))\n",
    "    model.add(Conv2D(128, 3, strides=(2, 2), border_mode='same'))\n",
    "    model.add(Dropout(0.2))\n",
    "    model.add(Activation('relu'))\n",
    "    model.add(Flatten())\n",
    "    model.add(Dropout(0.2))\n",
    "    model.add(Dense(256))\n",
    "    model.add(Activation('relu')) \n",
    "    model.add(Dropout(0.2))\n",
    "    model.add(Dense(4))\n",
    "    model.add(Activation('softmax'))\n",
    "\n",
    "    model.compile(loss='categorical_crossentropy', optimizer=optimizer, metrics=['accuracy'])\n",
    "\n",
    "    return model"
   ]
  },
  {
   "cell_type": "code",
   "execution_count": 104,
   "metadata": {},
   "outputs": [
    {
     "name": "stdout",
     "output_type": "stream",
     "text": [
      "_________________________________________________________________\n",
      "Layer (type)                 Output Shape              Param #   \n",
      "=================================================================\n",
      "conv2d_25 (Conv2D)           (None, 100, 83, 32)       320       \n",
      "_________________________________________________________________\n",
      "dropout_35 (Dropout)         (None, 100, 83, 32)       0         \n",
      "_________________________________________________________________\n",
      "activation_35 (Activation)   (None, 100, 83, 32)       0         \n",
      "_________________________________________________________________\n",
      "conv2d_26 (Conv2D)           (None, 50, 42, 64)        18496     \n",
      "_________________________________________________________________\n",
      "dropout_36 (Dropout)         (None, 50, 42, 64)        0         \n",
      "_________________________________________________________________\n",
      "activation_36 (Activation)   (None, 50, 42, 64)        0         \n",
      "_________________________________________________________________\n",
      "conv2d_27 (Conv2D)           (None, 25, 21, 64)        36928     \n",
      "_________________________________________________________________\n",
      "dropout_37 (Dropout)         (None, 25, 21, 64)        0         \n",
      "_________________________________________________________________\n",
      "activation_37 (Activation)   (None, 25, 21, 64)        0         \n",
      "_________________________________________________________________\n",
      "conv2d_28 (Conv2D)           (None, 13, 11, 128)       73856     \n",
      "_________________________________________________________________\n",
      "dropout_38 (Dropout)         (None, 13, 11, 128)       0         \n",
      "_________________________________________________________________\n",
      "activation_38 (Activation)   (None, 13, 11, 128)       0         \n",
      "_________________________________________________________________\n",
      "conv2d_29 (Conv2D)           (None, 7, 6, 128)         147584    \n",
      "_________________________________________________________________\n",
      "dropout_39 (Dropout)         (None, 7, 6, 128)         0         \n",
      "_________________________________________________________________\n",
      "activation_39 (Activation)   (None, 7, 6, 128)         0         \n",
      "_________________________________________________________________\n",
      "flatten_6 (Flatten)          (None, 5376)              0         \n",
      "_________________________________________________________________\n",
      "dropout_40 (Dropout)         (None, 5376)              0         \n",
      "_________________________________________________________________\n",
      "dense_11 (Dense)             (None, 256)               1376512   \n",
      "_________________________________________________________________\n",
      "activation_40 (Activation)   (None, 256)               0         \n",
      "_________________________________________________________________\n",
      "dropout_41 (Dropout)         (None, 256)               0         \n",
      "_________________________________________________________________\n",
      "dense_12 (Dense)             (None, 4)                 1028      \n",
      "_________________________________________________________________\n",
      "activation_41 (Activation)   (None, 4)                 0         \n",
      "=================================================================\n",
      "Total params: 1,654,724\n",
      "Trainable params: 1,654,724\n",
      "Non-trainable params: 0\n",
      "_________________________________________________________________\n"
     ]
    },
    {
     "name": "stderr",
     "output_type": "stream",
     "text": [
      "/usr/local/lib/python3.5/dist-packages/ipykernel_launcher.py:3: UserWarning: Update your `Conv2D` call to the Keras 2 API: `Conv2D(32, 3, padding=\"same\", input_shape=(200, 165,..., strides=(2, 2))`\n",
      "  This is separate from the ipykernel package so we can avoid doing imports until\n",
      "/usr/local/lib/python3.5/dist-packages/ipykernel_launcher.py:6: UserWarning: Update your `Conv2D` call to the Keras 2 API: `Conv2D(64, 3, padding=\"same\", strides=(2, 2))`\n",
      "  \n",
      "/usr/local/lib/python3.5/dist-packages/ipykernel_launcher.py:9: UserWarning: Update your `Conv2D` call to the Keras 2 API: `Conv2D(64, 3, padding=\"same\", strides=(2, 2))`\n",
      "  if __name__ == '__main__':\n",
      "/usr/local/lib/python3.5/dist-packages/ipykernel_launcher.py:12: UserWarning: Update your `Conv2D` call to the Keras 2 API: `Conv2D(128, 3, padding=\"same\", strides=(2, 2))`\n",
      "  if sys.path[0] == '':\n",
      "/usr/local/lib/python3.5/dist-packages/ipykernel_launcher.py:15: UserWarning: Update your `Conv2D` call to the Keras 2 API: `Conv2D(128, 3, padding=\"same\", strides=(2, 2))`\n",
      "  from ipykernel import kernelapp as app\n"
     ]
    }
   ],
   "source": [
    "model = build_simple_lstm(nb_feat, nb_class)\n",
    "model.summary()"
   ]
  },
  {
   "cell_type": "code",
   "execution_count": 91,
   "metadata": {},
   "outputs": [],
   "source": [
    "Y=[]\n",
    "for ses_mod in data:\n",
    "    Y.append(ses_mod['emotion'])\n",
    "    \n",
    "Y = to_categorical(Y)"
   ]
  },
  {
   "cell_type": "code",
   "execution_count": 92,
   "metadata": {},
   "outputs": [
    {
     "data": {
      "text/plain": [
       "(9824, 4)"
      ]
     },
     "execution_count": 92,
     "metadata": {},
     "output_type": "execute_result"
    }
   ],
   "source": [
    "Y.shape"
   ]
  },
  {
   "cell_type": "code",
   "execution_count": 99,
   "metadata": {},
   "outputs": [
    {
     "name": "stderr",
     "output_type": "stream",
     "text": [
      "/usr/local/lib/python3.5/dist-packages/ipykernel_launcher.py:6: RuntimeWarning: invalid value encountered in true_divide\n",
      "  \n"
     ]
    }
   ],
   "source": [
    "x_train = []\n",
    "from sklearn.preprocessing import normalize\n",
    "\n",
    "for ses_mod in data:\n",
    "    x = ses_mod['mocap_rot']\n",
    "    x_normed = (x - x.min(0)) / x.ptp(0)\n",
    "    x_normed = x_normed - 0.5\n",
    "    x_train.append( x_normed )\n",
    "    \n"
   ]
  },
  {
   "cell_type": "code",
   "execution_count": 100,
   "metadata": {},
   "outputs": [
    {
     "data": {
      "text/plain": [
       "(9824, 200, 165)"
      ]
     },
     "execution_count": 100,
     "metadata": {},
     "output_type": "execute_result"
    }
   ],
   "source": [
    "x_train = np.array(x_train)\n",
    "x_train.shape"
   ]
  },
  {
   "cell_type": "code",
   "execution_count": 101,
   "metadata": {},
   "outputs": [
    {
     "data": {
      "text/plain": [
       "array([[ 0.29300938, -0.4291221 ,  0.22139652, ...,  0.25505516,\n",
       "        -0.28289607,  0.45246834],\n",
       "       [ 0.28025547, -0.43105038,  0.21967559, ...,  0.26057733,\n",
       "        -0.27699887,  0.46162557],\n",
       "       [ 0.28229448, -0.43282538,  0.21574789, ...,  0.26255707,\n",
       "        -0.28204962,  0.45608459],\n",
       "       ..., \n",
       "       [-0.3041923 ,  0.11176282,  0.00220133, ...,  0.18818161,\n",
       "         0.40186788,  0.11323058],\n",
       "       [-0.5       , -0.05297497,  0.14160482, ...,  0.23435174,\n",
       "         0.48959544, -0.17426309],\n",
       "       [-0.48213394, -0.03131693,  0.16252626, ...,  0.1620585 ,\n",
       "         0.5       , -0.22253319]])"
      ]
     },
     "execution_count": 101,
     "metadata": {},
     "output_type": "execute_result"
    }
   ],
   "source": [
    "x_train[0]"
   ]
  },
  {
   "cell_type": "code",
   "execution_count": 102,
   "metadata": {},
   "outputs": [
    {
     "data": {
      "text/plain": [
       "(9824, 200, 165, 1)"
      ]
     },
     "execution_count": 102,
     "metadata": {},
     "output_type": "execute_result"
    }
   ],
   "source": [
    "x_train = x_train.reshape(-1,200,165,1)\n",
    "x_train.shape"
   ]
  },
  {
   "cell_type": "code",
   "execution_count": 105,
   "metadata": {},
   "outputs": [
    {
     "name": "stderr",
     "output_type": "stream",
     "text": [
      "/usr/local/lib/python3.5/dist-packages/keras/models.py:939: UserWarning: The `nb_epoch` argument in `fit` has been renamed `epochs`.\n",
      "  warnings.warn('The `nb_epoch` argument in `fit` '\n"
     ]
    },
    {
     "name": "stdout",
     "output_type": "stream",
     "text": [
      "Train on 7859 samples, validate on 1965 samples\n",
      "Epoch 1/30\n",
      "7859/7859 [==============================] - 14s 2ms/step - loss: 1.3750 - acc: 0.3374 - val_loss: 1.3618 - val_acc: 0.3817\n",
      "Epoch 2/30\n",
      "7859/7859 [==============================] - 13s 2ms/step - loss: 1.3664 - acc: 0.3382 - val_loss: 1.3579 - val_acc: 0.3817\n",
      "Epoch 3/30\n",
      "4864/7859 [=================>............] - ETA: 4s - loss: 1.3661 - acc: 0.3372"
     ]
    },
    {
     "ename": "KeyboardInterrupt",
     "evalue": "",
     "output_type": "error",
     "traceback": [
      "\u001b[0;31m---------------------------------------------------------------------------\u001b[0m",
      "\u001b[0;31mKeyboardInterrupt\u001b[0m                         Traceback (most recent call last)",
      "\u001b[0;32m<ipython-input-105-18da4cf3f3c5>\u001b[0m in \u001b[0;36m<module>\u001b[0;34m()\u001b[0m\n\u001b[1;32m      1\u001b[0m hist = model.fit(x_train, Y, \n\u001b[1;32m      2\u001b[0m                  \u001b[0mbatch_size\u001b[0m\u001b[0;34m=\u001b[0m\u001b[0mbatch_size\u001b[0m\u001b[0;34m,\u001b[0m \u001b[0mnb_epoch\u001b[0m\u001b[0;34m=\u001b[0m\u001b[0;36m30\u001b[0m\u001b[0;34m,\u001b[0m \u001b[0mverbose\u001b[0m\u001b[0;34m=\u001b[0m\u001b[0;36m1\u001b[0m\u001b[0;34m,\u001b[0m \u001b[0mshuffle\u001b[0m \u001b[0;34m=\u001b[0m \u001b[0;32mTrue\u001b[0m\u001b[0;34m,\u001b[0m\u001b[0;34m\u001b[0m\u001b[0m\n\u001b[0;32m----> 3\u001b[0;31m                  validation_split=0.2)\n\u001b[0m",
      "\u001b[0;32m/usr/local/lib/python3.5/dist-packages/keras/models.py\u001b[0m in \u001b[0;36mfit\u001b[0;34m(self, x, y, batch_size, epochs, verbose, callbacks, validation_split, validation_data, shuffle, class_weight, sample_weight, initial_epoch, steps_per_epoch, validation_steps, **kwargs)\u001b[0m\n\u001b[1;32m    958\u001b[0m                               \u001b[0minitial_epoch\u001b[0m\u001b[0;34m=\u001b[0m\u001b[0minitial_epoch\u001b[0m\u001b[0;34m,\u001b[0m\u001b[0;34m\u001b[0m\u001b[0m\n\u001b[1;32m    959\u001b[0m                               \u001b[0msteps_per_epoch\u001b[0m\u001b[0;34m=\u001b[0m\u001b[0msteps_per_epoch\u001b[0m\u001b[0;34m,\u001b[0m\u001b[0;34m\u001b[0m\u001b[0m\n\u001b[0;32m--> 960\u001b[0;31m                               validation_steps=validation_steps)\n\u001b[0m\u001b[1;32m    961\u001b[0m \u001b[0;34m\u001b[0m\u001b[0m\n\u001b[1;32m    962\u001b[0m     def evaluate(self, x, y, batch_size=32, verbose=1,\n",
      "\u001b[0;32m/usr/local/lib/python3.5/dist-packages/keras/engine/training.py\u001b[0m in \u001b[0;36mfit\u001b[0;34m(self, x, y, batch_size, epochs, verbose, callbacks, validation_split, validation_data, shuffle, class_weight, sample_weight, initial_epoch, steps_per_epoch, validation_steps, **kwargs)\u001b[0m\n\u001b[1;32m   1655\u001b[0m                               \u001b[0minitial_epoch\u001b[0m\u001b[0;34m=\u001b[0m\u001b[0minitial_epoch\u001b[0m\u001b[0;34m,\u001b[0m\u001b[0;34m\u001b[0m\u001b[0m\n\u001b[1;32m   1656\u001b[0m                               \u001b[0msteps_per_epoch\u001b[0m\u001b[0;34m=\u001b[0m\u001b[0msteps_per_epoch\u001b[0m\u001b[0;34m,\u001b[0m\u001b[0;34m\u001b[0m\u001b[0m\n\u001b[0;32m-> 1657\u001b[0;31m                               validation_steps=validation_steps)\n\u001b[0m\u001b[1;32m   1658\u001b[0m \u001b[0;34m\u001b[0m\u001b[0m\n\u001b[1;32m   1659\u001b[0m     def evaluate(self, x=None, y=None,\n",
      "\u001b[0;32m/usr/local/lib/python3.5/dist-packages/keras/engine/training.py\u001b[0m in \u001b[0;36m_fit_loop\u001b[0;34m(self, f, ins, out_labels, batch_size, epochs, verbose, callbacks, val_f, val_ins, shuffle, callback_metrics, initial_epoch, steps_per_epoch, validation_steps)\u001b[0m\n\u001b[1;32m   1211\u001b[0m                     \u001b[0mbatch_logs\u001b[0m\u001b[0;34m[\u001b[0m\u001b[0;34m'size'\u001b[0m\u001b[0;34m]\u001b[0m \u001b[0;34m=\u001b[0m \u001b[0mlen\u001b[0m\u001b[0;34m(\u001b[0m\u001b[0mbatch_ids\u001b[0m\u001b[0;34m)\u001b[0m\u001b[0;34m\u001b[0m\u001b[0m\n\u001b[1;32m   1212\u001b[0m                     \u001b[0mcallbacks\u001b[0m\u001b[0;34m.\u001b[0m\u001b[0mon_batch_begin\u001b[0m\u001b[0;34m(\u001b[0m\u001b[0mbatch_index\u001b[0m\u001b[0;34m,\u001b[0m \u001b[0mbatch_logs\u001b[0m\u001b[0;34m)\u001b[0m\u001b[0;34m\u001b[0m\u001b[0m\n\u001b[0;32m-> 1213\u001b[0;31m                     \u001b[0mouts\u001b[0m \u001b[0;34m=\u001b[0m \u001b[0mf\u001b[0m\u001b[0;34m(\u001b[0m\u001b[0mins_batch\u001b[0m\u001b[0;34m)\u001b[0m\u001b[0;34m\u001b[0m\u001b[0m\n\u001b[0m\u001b[1;32m   1214\u001b[0m                     \u001b[0;32mif\u001b[0m \u001b[0;32mnot\u001b[0m \u001b[0misinstance\u001b[0m\u001b[0;34m(\u001b[0m\u001b[0mouts\u001b[0m\u001b[0;34m,\u001b[0m \u001b[0mlist\u001b[0m\u001b[0;34m)\u001b[0m\u001b[0;34m:\u001b[0m\u001b[0;34m\u001b[0m\u001b[0m\n\u001b[1;32m   1215\u001b[0m                         \u001b[0mouts\u001b[0m \u001b[0;34m=\u001b[0m \u001b[0;34m[\u001b[0m\u001b[0mouts\u001b[0m\u001b[0;34m]\u001b[0m\u001b[0;34m\u001b[0m\u001b[0m\n",
      "\u001b[0;32m/usr/local/lib/python3.5/dist-packages/keras/backend/tensorflow_backend.py\u001b[0m in \u001b[0;36m__call__\u001b[0;34m(self, inputs)\u001b[0m\n\u001b[1;32m   2355\u001b[0m         \u001b[0msession\u001b[0m \u001b[0;34m=\u001b[0m \u001b[0mget_session\u001b[0m\u001b[0;34m(\u001b[0m\u001b[0;34m)\u001b[0m\u001b[0;34m\u001b[0m\u001b[0m\n\u001b[1;32m   2356\u001b[0m         updated = session.run(fetches=fetches, feed_dict=feed_dict,\n\u001b[0;32m-> 2357\u001b[0;31m                               **self.session_kwargs)\n\u001b[0m\u001b[1;32m   2358\u001b[0m         \u001b[0;32mreturn\u001b[0m \u001b[0mupdated\u001b[0m\u001b[0;34m[\u001b[0m\u001b[0;34m:\u001b[0m\u001b[0mlen\u001b[0m\u001b[0;34m(\u001b[0m\u001b[0mself\u001b[0m\u001b[0;34m.\u001b[0m\u001b[0moutputs\u001b[0m\u001b[0;34m)\u001b[0m\u001b[0;34m]\u001b[0m\u001b[0;34m\u001b[0m\u001b[0m\n\u001b[1;32m   2359\u001b[0m \u001b[0;34m\u001b[0m\u001b[0m\n",
      "\u001b[0;32m/usr/local/lib/python3.5/dist-packages/tensorflow/python/client/session.py\u001b[0m in \u001b[0;36mrun\u001b[0;34m(self, fetches, feed_dict, options, run_metadata)\u001b[0m\n\u001b[1;32m    887\u001b[0m     \u001b[0;32mtry\u001b[0m\u001b[0;34m:\u001b[0m\u001b[0;34m\u001b[0m\u001b[0m\n\u001b[1;32m    888\u001b[0m       result = self._run(None, fetches, feed_dict, options_ptr,\n\u001b[0;32m--> 889\u001b[0;31m                          run_metadata_ptr)\n\u001b[0m\u001b[1;32m    890\u001b[0m       \u001b[0;32mif\u001b[0m \u001b[0mrun_metadata\u001b[0m\u001b[0;34m:\u001b[0m\u001b[0;34m\u001b[0m\u001b[0m\n\u001b[1;32m    891\u001b[0m         \u001b[0mproto_data\u001b[0m \u001b[0;34m=\u001b[0m \u001b[0mtf_session\u001b[0m\u001b[0;34m.\u001b[0m\u001b[0mTF_GetBuffer\u001b[0m\u001b[0;34m(\u001b[0m\u001b[0mrun_metadata_ptr\u001b[0m\u001b[0;34m)\u001b[0m\u001b[0;34m\u001b[0m\u001b[0m\n",
      "\u001b[0;32m/usr/local/lib/python3.5/dist-packages/tensorflow/python/client/session.py\u001b[0m in \u001b[0;36m_run\u001b[0;34m(self, handle, fetches, feed_dict, options, run_metadata)\u001b[0m\n\u001b[1;32m   1118\u001b[0m     \u001b[0;32mif\u001b[0m \u001b[0mfinal_fetches\u001b[0m \u001b[0;32mor\u001b[0m \u001b[0mfinal_targets\u001b[0m \u001b[0;32mor\u001b[0m \u001b[0;34m(\u001b[0m\u001b[0mhandle\u001b[0m \u001b[0;32mand\u001b[0m \u001b[0mfeed_dict_tensor\u001b[0m\u001b[0;34m)\u001b[0m\u001b[0;34m:\u001b[0m\u001b[0;34m\u001b[0m\u001b[0m\n\u001b[1;32m   1119\u001b[0m       results = self._do_run(handle, final_targets, final_fetches,\n\u001b[0;32m-> 1120\u001b[0;31m                              feed_dict_tensor, options, run_metadata)\n\u001b[0m\u001b[1;32m   1121\u001b[0m     \u001b[0;32melse\u001b[0m\u001b[0;34m:\u001b[0m\u001b[0;34m\u001b[0m\u001b[0m\n\u001b[1;32m   1122\u001b[0m       \u001b[0mresults\u001b[0m \u001b[0;34m=\u001b[0m \u001b[0;34m[\u001b[0m\u001b[0;34m]\u001b[0m\u001b[0;34m\u001b[0m\u001b[0m\n",
      "\u001b[0;32m/usr/local/lib/python3.5/dist-packages/tensorflow/python/client/session.py\u001b[0m in \u001b[0;36m_do_run\u001b[0;34m(self, handle, target_list, fetch_list, feed_dict, options, run_metadata)\u001b[0m\n\u001b[1;32m   1315\u001b[0m     \u001b[0;32mif\u001b[0m \u001b[0mhandle\u001b[0m \u001b[0;32mis\u001b[0m \u001b[0;32mNone\u001b[0m\u001b[0;34m:\u001b[0m\u001b[0;34m\u001b[0m\u001b[0m\n\u001b[1;32m   1316\u001b[0m       return self._do_call(_run_fn, self._session, feeds, fetches, targets,\n\u001b[0;32m-> 1317\u001b[0;31m                            options, run_metadata)\n\u001b[0m\u001b[1;32m   1318\u001b[0m     \u001b[0;32melse\u001b[0m\u001b[0;34m:\u001b[0m\u001b[0;34m\u001b[0m\u001b[0m\n\u001b[1;32m   1319\u001b[0m       \u001b[0;32mreturn\u001b[0m \u001b[0mself\u001b[0m\u001b[0;34m.\u001b[0m\u001b[0m_do_call\u001b[0m\u001b[0;34m(\u001b[0m\u001b[0m_prun_fn\u001b[0m\u001b[0;34m,\u001b[0m \u001b[0mself\u001b[0m\u001b[0;34m.\u001b[0m\u001b[0m_session\u001b[0m\u001b[0;34m,\u001b[0m \u001b[0mhandle\u001b[0m\u001b[0;34m,\u001b[0m \u001b[0mfeeds\u001b[0m\u001b[0;34m,\u001b[0m \u001b[0mfetches\u001b[0m\u001b[0;34m)\u001b[0m\u001b[0;34m\u001b[0m\u001b[0m\n",
      "\u001b[0;32m/usr/local/lib/python3.5/dist-packages/tensorflow/python/client/session.py\u001b[0m in \u001b[0;36m_do_call\u001b[0;34m(self, fn, *args)\u001b[0m\n\u001b[1;32m   1321\u001b[0m   \u001b[0;32mdef\u001b[0m \u001b[0m_do_call\u001b[0m\u001b[0;34m(\u001b[0m\u001b[0mself\u001b[0m\u001b[0;34m,\u001b[0m \u001b[0mfn\u001b[0m\u001b[0;34m,\u001b[0m \u001b[0;34m*\u001b[0m\u001b[0margs\u001b[0m\u001b[0;34m)\u001b[0m\u001b[0;34m:\u001b[0m\u001b[0;34m\u001b[0m\u001b[0m\n\u001b[1;32m   1322\u001b[0m     \u001b[0;32mtry\u001b[0m\u001b[0;34m:\u001b[0m\u001b[0;34m\u001b[0m\u001b[0m\n\u001b[0;32m-> 1323\u001b[0;31m       \u001b[0;32mreturn\u001b[0m \u001b[0mfn\u001b[0m\u001b[0;34m(\u001b[0m\u001b[0;34m*\u001b[0m\u001b[0margs\u001b[0m\u001b[0;34m)\u001b[0m\u001b[0;34m\u001b[0m\u001b[0m\n\u001b[0m\u001b[1;32m   1324\u001b[0m     \u001b[0;32mexcept\u001b[0m \u001b[0merrors\u001b[0m\u001b[0;34m.\u001b[0m\u001b[0mOpError\u001b[0m \u001b[0;32mas\u001b[0m \u001b[0me\u001b[0m\u001b[0;34m:\u001b[0m\u001b[0;34m\u001b[0m\u001b[0m\n\u001b[1;32m   1325\u001b[0m       \u001b[0mmessage\u001b[0m \u001b[0;34m=\u001b[0m \u001b[0mcompat\u001b[0m\u001b[0;34m.\u001b[0m\u001b[0mas_text\u001b[0m\u001b[0;34m(\u001b[0m\u001b[0me\u001b[0m\u001b[0;34m.\u001b[0m\u001b[0mmessage\u001b[0m\u001b[0;34m)\u001b[0m\u001b[0;34m\u001b[0m\u001b[0m\n",
      "\u001b[0;32m/usr/local/lib/python3.5/dist-packages/tensorflow/python/client/session.py\u001b[0m in \u001b[0;36m_run_fn\u001b[0;34m(session, feed_dict, fetch_list, target_list, options, run_metadata)\u001b[0m\n\u001b[1;32m   1300\u001b[0m           return tf_session.TF_Run(session, options,\n\u001b[1;32m   1301\u001b[0m                                    \u001b[0mfeed_dict\u001b[0m\u001b[0;34m,\u001b[0m \u001b[0mfetch_list\u001b[0m\u001b[0;34m,\u001b[0m \u001b[0mtarget_list\u001b[0m\u001b[0;34m,\u001b[0m\u001b[0;34m\u001b[0m\u001b[0m\n\u001b[0;32m-> 1302\u001b[0;31m                                    status, run_metadata)\n\u001b[0m\u001b[1;32m   1303\u001b[0m \u001b[0;34m\u001b[0m\u001b[0m\n\u001b[1;32m   1304\u001b[0m     \u001b[0;32mdef\u001b[0m \u001b[0m_prun_fn\u001b[0m\u001b[0;34m(\u001b[0m\u001b[0msession\u001b[0m\u001b[0;34m,\u001b[0m \u001b[0mhandle\u001b[0m\u001b[0;34m,\u001b[0m \u001b[0mfeed_dict\u001b[0m\u001b[0;34m,\u001b[0m \u001b[0mfetch_list\u001b[0m\u001b[0;34m)\u001b[0m\u001b[0;34m:\u001b[0m\u001b[0;34m\u001b[0m\u001b[0m\n",
      "\u001b[0;31mKeyboardInterrupt\u001b[0m: "
     ]
    }
   ],
   "source": [
    "hist = model.fit(x_train, Y, \n",
    "                 batch_size=batch_size, nb_epoch=30, verbose=1, shuffle = True, \n",
    "                 validation_split=0.2)"
   ]
  },
  {
   "cell_type": "code",
   "execution_count": 95,
   "metadata": {},
   "outputs": [
    {
     "data": {
      "text/plain": [
       "array([1, 0, 0, 0])"
      ]
     },
     "execution_count": 95,
     "metadata": {},
     "output_type": "execute_result"
    }
   ],
   "source": [
    "Y[5000]"
   ]
  },
  {
   "cell_type": "code",
   "execution_count": null,
   "metadata": {},
   "outputs": [],
   "source": [
    "hist = model.fit(X_train, y_train, \n",
    "                 batch_size=batch_size, nb_epoch=nb_epoch, verbose=1, \n",
    "                 validation_data=(X_test, y_test))"
   ]
  },
  {
   "cell_type": "code",
   "execution_count": 106,
   "metadata": {},
   "outputs": [],
   "source": [
    "path_to_avi = params.path_to_data + 'Session1' + '/dialog/MOCAP_head/Ses01F_impro01.txt'"
   ]
  },
  {
   "cell_type": "code",
   "execution_count": 112,
   "metadata": {},
   "outputs": [
    {
     "name": "stdout",
     "output_type": "stream",
     "text": [
      "1 0.00834 -7.98901 -3.79535 -16.42346 -52.87054 -130.52053 -19.19184\n",
      "2 0.01668 -7.99849 -3.79422 -16.41632 -52.90273 -130.55276 -19.21793\n",
      "13836\n",
      "6\n",
      "['-7.98901', '-3.79535', '-16.42346', '-52.87054', '-130.52053', '-19.19184']\n"
     ]
    }
   ],
   "source": [
    "f = open(path_to_avi).read()\n",
    "f = np.array(f.split('\\n'))\n",
    "f = f[2:]\n",
    "mocap_head = []\n",
    "print(f[0])\n",
    "print(f[1])\n",
    "for data in f:\n",
    "    mocap_head.append(data.split(' ')[2:])\n",
    "print(len(mocap_head))\n",
    "print(len(mocap_head[0]))\n",
    "print(mocap_head[0])"
   ]
  },
  {
   "cell_type": "code",
   "execution_count": 113,
   "metadata": {},
   "outputs": [],
   "source": [
    "def get_mocap_head(path_to_mocap_head, filename, params=Constants()):\n",
    "    f = open(path_to_mocap_head + filename, 'r').read()\n",
    "    f = np.array(f.split('\\n'))\n",
    "    mocap_head = []\n",
    "    mocap_head_avg = []\n",
    "    f = f[2:]\n",
    "    counter = 0\n",
    "    for data in f:\n",
    "        counter+=1\n",
    "        data2 = np.array(data.split(' ')[2:]).astype(np.float)\n",
    "        if(len(data2)>0):\n",
    "            mocap_head_avg.append(data2)\n",
    "            \n",
    "    mocap_head_avg = np.array_split(np.array(mocap_head_avg), 200)\n",
    "    for spl in mocap_head_avg:\n",
    "        mocap_head.append(np.mean(spl, axis=0))\n",
    "    return np.array(mocap_head)"
   ]
  },
  {
   "cell_type": "code",
   "execution_count": 154,
   "metadata": {},
   "outputs": [
    {
     "data": {
      "text/plain": [
       "array([[  -6.91419826,   -1.85966265,  -12.07068167,  -37.72171902,\n",
       "        -151.00772864,  -20.07986962],\n",
       "       [  -4.58851553,   -0.30118333,   -6.02337523,  -53.8311622 ,\n",
       "        -146.74033379,  -13.20579311],\n",
       "       [   7.1994847 ,    2.57165091,   28.19405811, -153.08642182,\n",
       "        -143.6798722 ,   23.9247872 ],\n",
       "       ..., \n",
       "       [  13.79968847,   -0.29111893,  -11.53979985,  -36.96312901,\n",
       "        -150.93543794,   27.45288145],\n",
       "       [  15.19663641,   -2.04341282,   -8.96844153,  -38.62445702,\n",
       "        -142.00212374,   34.55065611],\n",
       "       [  19.96432466,   -2.16521305,   -8.99754145,  -37.51060618,\n",
       "        -137.48809   ,   52.02116183]])"
      ]
     },
     "execution_count": 154,
     "metadata": {},
     "output_type": "execute_result"
    }
   ],
   "source": [
    "path_to_mocap_head = params.path_to_data + 'Session1' + '/dialog/MOCAP_head/'\n",
    "\n",
    "p1 = get_mocap_head(path_to_mocap_head, 'Ses01F_impro05.txt')\n",
    "\n",
    "p1"
   ]
  },
  {
   "cell_type": "code",
   "execution_count": 155,
   "metadata": {},
   "outputs": [
    {
     "data": {
      "text/plain": [
       "array([[  1.05682447,   4.69745569, -10.69277447, -29.03314748,\n",
       "        -80.98679854,  -6.3053552 ],\n",
       "       [  2.10166244,   8.03192106,  -5.80895837, -47.15584951,\n",
       "        -56.99279862,   3.10244634],\n",
       "       [ 15.98890211,   9.21809146,  -4.72620081, -43.60227382,\n",
       "        -19.08773203,  49.29260309],\n",
       "       ..., \n",
       "       [ -5.16972221,  -7.26767049, -18.44535713,  10.7866441 ,\n",
       "        -30.72164689, -22.35441459],\n",
       "       [-16.44222098,   0.81542828,  -3.3361623 , -37.65814049,\n",
       "        -43.93689721, -49.17171811],\n",
       "       [ -8.77459352,  -3.28866311,  -9.63507549, -14.80306582,\n",
       "        -37.70863311, -37.31502934]])"
      ]
     },
     "execution_count": 155,
     "metadata": {},
     "output_type": "execute_result"
    }
   ],
   "source": [
    "path_to_mocap_head = params.path_to_data + 'Session1' + '/dialog/MOCAP_head/'\n",
    "\n",
    "p2 = get_mocap_head(path_to_mocap_head, 'Ses01F_impro04.txt')\n",
    "\n",
    "p2"
   ]
  },
  {
   "cell_type": "code",
   "execution_count": 186,
   "metadata": {},
   "outputs": [],
   "source": [
    "def read_iemocap_mocap_head(params=Constants()):\n",
    "    data = []\n",
    "    ids = {}\n",
    "    for session in params.sessions:\n",
    "        path_to_mocap_head = params.path_to_data + session + '/dialog/MOCAP_head/'\n",
    "        path_to_emotions = params.path_to_data + session + '/dialog/EmoEvaluation/'\n",
    "        #path_to_transcriptions = params.path_to_data + session + '/dialog/transcriptions/'\n",
    "        \n",
    "        files2 = os.listdir(path_to_mocap_head)\n",
    "        #print (files2.sort())\n",
    "        files = []\n",
    "        for f in files2:\n",
    "            if f.endswith(\".txt\"):\n",
    "                if f[0] == '.':\n",
    "                    files.append(f[2:-4])\n",
    "                else:\n",
    "                    files.append(f[:-4])\n",
    "                    \n",
    "        print (session)   \n",
    "        for f in files:\n",
    "            print (f)\n",
    "            #mocap_head = get_mocap_head(path_to_mocap_head, f + '.txt')\n",
    "            emotions = get_emotions(path_to_emotions, f + '.txt')\n",
    "            #print(mocap_head[:10])\n",
    "            for ie, e in enumerate(emotions):\n",
    "                e.pop(\"left\", None)\n",
    "                e.pop(\"right\", None)\n",
    "                #e['mocap_head'] = mocap_head\n",
    "                if e['emotion'] in params.available_emotions:\n",
    "                    if e['id'] not in ids:\n",
    "                        e['mocap_head'] = get_mocap_head(path_to_mocap_head, f + '.txt')\n",
    "                        data.append(e)\n",
    "                        ids[e['id']] = 1\n",
    "                        \n",
    "            break\n",
    "    sort_key = get_field(data, \"id\")\n",
    "    return np.array(data)[np.argsort(sort_key)]"
   ]
  },
  {
   "cell_type": "code",
   "execution_count": 187,
   "metadata": {
    "scrolled": true
   },
   "outputs": [
    {
     "name": "stdout",
     "output_type": "stream",
     "text": [
      "Session1\n",
      "Ses01F_script02_2\n",
      "Session2\n",
      "Ses02F_script01_2\n",
      "Session3\n",
      "Ses03F_script01_3\n",
      "Session4\n",
      "Ses04M_impro02\n",
      "Session5\n",
      "Ses05F_script02_2\n"
     ]
    }
   ],
   "source": [
    "data2 = read_iemocap_mocap_head(params=params)"
   ]
  },
  {
   "cell_type": "code",
   "execution_count": 188,
   "metadata": {},
   "outputs": [
    {
     "data": {
      "text/plain": [
       "{'a': 1.5,\n",
       " 'd': 2.5,\n",
       " 'emo_evo': [['fru'], ['neu'], ['neu']],\n",
       " 'emotion': 'neu',\n",
       " 'end': 8.3081,\n",
       " 'id': 'Ses01F_script02_2_F000',\n",
       " 'mocap_head': array([[ -7.48291148,   2.12162028,  -7.78480997, -17.49848272,\n",
       "         -12.30308821, -30.03441803],\n",
       "        [-10.24596731,   3.68007779,  -6.24543576, -23.34865948,\n",
       "         -10.0190611 , -34.19517483],\n",
       "        [ -6.87802783,  -7.19703834, -13.96951352,   6.12203683,\n",
       "         -17.40342248, -29.75377941],\n",
       "        ..., \n",
       "        [  1.45773962, -12.27991038,  -7.45092104,   2.46887024,\n",
       "         -26.53674353, -10.02888495],\n",
       "        [  0.36206118, -10.44756211,  -8.07600308,   4.5343818 ,\n",
       "         -24.01096038, -13.95601301],\n",
       "        [  5.01136318,  -2.53337533, -10.45531194,   0.69937439,\n",
       "         -19.45046564,  -1.03147215]]),\n",
       " 'start': 5.83,\n",
       " 'v': 3.0}"
      ]
     },
     "execution_count": 188,
     "metadata": {},
     "output_type": "execute_result"
    }
   ],
   "source": [
    "data2[0]"
   ]
  },
  {
   "cell_type": "code",
   "execution_count": 189,
   "metadata": {},
   "outputs": [
    {
     "data": {
      "text/plain": [
       "{'a': 2.0,\n",
       " 'd': 3.0,\n",
       " 'emo_evo': [['ang'], ['neu'], ['neu']],\n",
       " 'emotion': 'neu',\n",
       " 'end': 11.4525,\n",
       " 'id': 'Ses01F_script02_2_F001',\n",
       " 'mocap_head': array([[ -7.48291148,   2.12162028,  -7.78480997, -17.49848272,\n",
       "         -12.30308821, -30.03441803],\n",
       "        [-10.24596731,   3.68007779,  -6.24543576, -23.34865948,\n",
       "         -10.0190611 , -34.19517483],\n",
       "        [ -6.87802783,  -7.19703834, -13.96951352,   6.12203683,\n",
       "         -17.40342248, -29.75377941],\n",
       "        ..., \n",
       "        [  1.45773962, -12.27991038,  -7.45092104,   2.46887024,\n",
       "         -26.53674353, -10.02888495],\n",
       "        [  0.36206118, -10.44756211,  -8.07600308,   4.5343818 ,\n",
       "         -24.01096038, -13.95601301],\n",
       "        [  5.01136318,  -2.53337533, -10.45531194,   0.69937439,\n",
       "         -19.45046564,  -1.03147215]]),\n",
       " 'start': 9.58,\n",
       " 'v': 2.5}"
      ]
     },
     "execution_count": 189,
     "metadata": {},
     "output_type": "execute_result"
    }
   ],
   "source": [
    "data2[1]"
   ]
  },
  {
   "cell_type": "code",
   "execution_count": 190,
   "metadata": {},
   "outputs": [
    {
     "data": {
      "text/plain": [
       "{'a': 4.5,\n",
       " 'd': 4.0,\n",
       " 'emo_evo': [['ang'], ['ang'], ['fru', 'ang']],\n",
       " 'emotion': 'ang',\n",
       " 'end': 61.96,\n",
       " 'id': 'Ses01F_script02_2_F006',\n",
       " 'mocap_head': array([[ -7.48291148,   2.12162028,  -7.78480997, -17.49848272,\n",
       "         -12.30308821, -30.03441803],\n",
       "        [-10.24596731,   3.68007779,  -6.24543576, -23.34865948,\n",
       "         -10.0190611 , -34.19517483],\n",
       "        [ -6.87802783,  -7.19703834, -13.96951352,   6.12203683,\n",
       "         -17.40342248, -29.75377941],\n",
       "        ..., \n",
       "        [  1.45773962, -12.27991038,  -7.45092104,   2.46887024,\n",
       "         -26.53674353, -10.02888495],\n",
       "        [  0.36206118, -10.44756211,  -8.07600308,   4.5343818 ,\n",
       "         -24.01096038, -13.95601301],\n",
       "        [  5.01136318,  -2.53337533, -10.45531194,   0.69937439,\n",
       "         -19.45046564,  -1.03147215]]),\n",
       " 'start': 55.67,\n",
       " 'v': 1.5}"
      ]
     },
     "execution_count": 190,
     "metadata": {},
     "output_type": "execute_result"
    }
   ],
   "source": [
    "data2[2]"
   ]
  },
  {
   "cell_type": "code",
   "execution_count": 183,
   "metadata": {},
   "outputs": [
    {
     "data": {
      "text/plain": [
       "{'a': 3.5,\n",
       " 'd': 3.5,\n",
       " 'emo_evo': [['ang'], ['dis'], ['ang'], ['fru', 'sur', 'ang']],\n",
       " 'emotion': 'ang',\n",
       " 'end': 88.02,\n",
       " 'id': 'Ses01F_impro01_F012',\n",
       " 'mocap_head': array([[  -7.95062871,   -3.72252457,  -16.39981329,  -53.147115  ,\n",
       "         -130.51994586,  -19.14730614],\n",
       "        [  -8.47873529,   -3.66034714,  -16.36526871,  -53.57795814,\n",
       "         -131.37329743,  -20.33590886],\n",
       "        [  -9.005292  ,   -3.72297329,  -16.69009443,  -52.83459743,\n",
       "         -132.06858314,  -21.55787386],\n",
       "        ..., \n",
       "        [   7.38921232,   -6.65697116,  -12.90909203,  -55.19439797,\n",
       "          -76.15193725,    3.51976522],\n",
       "        [  14.23744116,   -7.33555493,  -22.40803464,  -32.23130667,\n",
       "          -72.34396464,   18.4534029 ],\n",
       "        [  17.01390246,   -7.29852565,  -22.62766928,  -36.76503217,\n",
       "          -71.06919623,   25.12335928]]),\n",
       " 'start': 85.27,\n",
       " 'v': 2.0}"
      ]
     },
     "execution_count": 183,
     "metadata": {},
     "output_type": "execute_result"
    }
   ],
   "source": [
    "data2[4]"
   ]
  },
  {
   "cell_type": "code",
   "execution_count": 185,
   "metadata": {},
   "outputs": [
    {
     "data": {
      "text/plain": [
       "{'a': 1.5,\n",
       " 'd': 1.5,\n",
       " 'emo_evo': [['sad'], ['sad', 'oth'], ['neu'], ['fru', 'sad']],\n",
       " 'emotion': 'sad',\n",
       " 'end': 32.2895,\n",
       " 'id': 'Ses01F_impro02_F002',\n",
       " 'mocap_head': array([[ -2.05221151,   3.01876619, -12.79437294,  -9.60066905,\n",
       "         -14.7897196 , -33.16954889],\n",
       "        [  5.90324278,   4.97932357,  -8.55396071, -15.43189556,\n",
       "         -12.8678431 , -15.51001302],\n",
       "        [ 18.19951222,   9.63267556,  -1.92307087, -26.66475548,\n",
       "          -5.50974667,  14.08803921],\n",
       "        ..., \n",
       "        [ 24.34034152,   1.30974544, -13.4797464 ,  16.3078488 ,\n",
       "          22.81733032,  33.47179176],\n",
       "        [ 23.63422768,   1.27257256, -13.24229936,  14.85766912,\n",
       "          20.95039488,  31.07392616],\n",
       "        [ 10.60502504,  -0.82678224, -13.01421016,  11.67028544,\n",
       "          10.64773928,  -2.66802192]]),\n",
       " 'start': 26.5659,\n",
       " 'v': 2.0}"
      ]
     },
     "execution_count": 185,
     "metadata": {},
     "output_type": "execute_result"
    }
   ],
   "source": [
    "data2[10]"
   ]
  },
  {
   "cell_type": "code",
   "execution_count": null,
   "metadata": {},
   "outputs": [],
   "source": [
    "Ses01F_impro01_F002"
   ]
  },
  {
   "cell_type": "code",
   "execution_count": 142,
   "metadata": {},
   "outputs": [
    {
     "data": {
      "text/plain": [
       "(9824, 200, 6)"
      ]
     },
     "execution_count": 142,
     "metadata": {},
     "output_type": "execute_result"
    }
   ],
   "source": [
    "x_train2 = []\n",
    "from sklearn.preprocessing import normalize\n",
    "\n",
    "for ses_mod in data2:\n",
    "    x = ses_mod['mocap_head']\n",
    "    #x_normed = (x - x.min(0)) / x.ptp(0)\n",
    "    #x_normed = x_normed - 0.5\n",
    "    x_train2.append( x )\n",
    "    \n",
    "x_train2 = np.array(x_train2)\n",
    "x_train2.shape"
   ]
  },
  {
   "cell_type": "code",
   "execution_count": 143,
   "metadata": {},
   "outputs": [
    {
     "data": {
      "text/plain": [
       "(9824, 1200)"
      ]
     },
     "execution_count": 143,
     "metadata": {},
     "output_type": "execute_result"
    }
   ],
   "source": [
    "x_train2 = x_train2.reshape(-1,1200)\n",
    "x_train2.shape"
   ]
  },
  {
   "cell_type": "code",
   "execution_count": 144,
   "metadata": {},
   "outputs": [
    {
     "data": {
      "text/plain": [
       "(9824, 4)"
      ]
     },
     "execution_count": 144,
     "metadata": {},
     "output_type": "execute_result"
    }
   ],
   "source": [
    "Y=[]\n",
    "for ses_mod in data2:\n",
    "    Y.append(ses_mod['emotion'])\n",
    "    \n",
    "Y = to_categorical(Y)\n",
    "\n",
    "Y.shape"
   ]
  },
  {
   "cell_type": "code",
   "execution_count": 156,
   "metadata": {},
   "outputs": [
    {
     "data": {
      "text/plain": [
       "array([ -7.95062871,  -3.72252457, -16.39981329, ..., -36.76503217,\n",
       "       -71.06919623,  25.12335928])"
      ]
     },
     "execution_count": 156,
     "metadata": {},
     "output_type": "execute_result"
    }
   ],
   "source": [
    "x_train2[2]"
   ]
  },
  {
   "cell_type": "code",
   "execution_count": 158,
   "metadata": {},
   "outputs": [
    {
     "data": {
      "text/plain": [
       "array([ -7.95062871,  -3.72252457, -16.39981329, ..., -36.76503217,\n",
       "       -71.06919623,  25.12335928])"
      ]
     },
     "execution_count": 158,
     "metadata": {},
     "output_type": "execute_result"
    }
   ],
   "source": [
    "x_train2[15]"
   ]
  },
  {
   "cell_type": "code",
   "execution_count": 145,
   "metadata": {},
   "outputs": [],
   "source": [
    "def build_simple2(nb_class, optimizer='SGD'):\n",
    "    model = Sequential()\n",
    "    model.add(Dense(512  , input_shape=(1200,)))\n",
    "    model.add(Dropout(0.2))\n",
    "    model.add(Dense(256))\n",
    "    model.add(Activation('relu')) \n",
    "    model.add(Dropout(0.2))\n",
    "    model.add(Dense(4))\n",
    "    model.add(Activation('softmax'))\n",
    "\n",
    "    model.compile(loss='categorical_crossentropy', optimizer=optimizer, metrics=['accuracy'])\n",
    "\n",
    "    return model"
   ]
  },
  {
   "cell_type": "code",
   "execution_count": 146,
   "metadata": {},
   "outputs": [
    {
     "name": "stdout",
     "output_type": "stream",
     "text": [
      "_________________________________________________________________\n",
      "Layer (type)                 Output Shape              Param #   \n",
      "=================================================================\n",
      "dense_18 (Dense)             (None, 512)               614912    \n",
      "_________________________________________________________________\n",
      "dropout_44 (Dropout)         (None, 512)               0         \n",
      "_________________________________________________________________\n",
      "dense_19 (Dense)             (None, 256)               131328    \n",
      "_________________________________________________________________\n",
      "activation_44 (Activation)   (None, 256)               0         \n",
      "_________________________________________________________________\n",
      "dropout_45 (Dropout)         (None, 256)               0         \n",
      "_________________________________________________________________\n",
      "dense_20 (Dense)             (None, 4)                 1028      \n",
      "_________________________________________________________________\n",
      "activation_45 (Activation)   (None, 4)                 0         \n",
      "=================================================================\n",
      "Total params: 747,268\n",
      "Trainable params: 747,268\n",
      "Non-trainable params: 0\n",
      "_________________________________________________________________\n"
     ]
    }
   ],
   "source": [
    "model = build_simple2(nb_class)\n",
    "model.summary()"
   ]
  },
  {
   "cell_type": "code",
   "execution_count": 147,
   "metadata": {},
   "outputs": [
    {
     "name": "stderr",
     "output_type": "stream",
     "text": [
      "/usr/local/lib/python3.5/dist-packages/keras/models.py:939: UserWarning: The `nb_epoch` argument in `fit` has been renamed `epochs`.\n",
      "  warnings.warn('The `nb_epoch` argument in `fit` '\n"
     ]
    },
    {
     "name": "stdout",
     "output_type": "stream",
     "text": [
      "Train on 7859 samples, validate on 1965 samples\n",
      "Epoch 1/30\n",
      "7859/7859 [==============================] - 1s 125us/step - loss: 1.4768 - acc: 0.3353 - val_loss: 1.3743 - val_acc: 0.3817\n",
      "Epoch 2/30\n",
      "7859/7859 [==============================] - 1s 70us/step - loss: 1.3733 - acc: 0.3382 - val_loss: 1.3673 - val_acc: 0.3817\n",
      "Epoch 3/30\n",
      "7859/7859 [==============================] - 1s 69us/step - loss: 1.3692 - acc: 0.3382 - val_loss: 1.3636 - val_acc: 0.3817\n",
      "Epoch 4/30\n",
      "7859/7859 [==============================] - 1s 69us/step - loss: 1.3672 - acc: 0.3382 - val_loss: 1.3615 - val_acc: 0.3817\n",
      "Epoch 5/30\n",
      "7859/7859 [==============================] - 1s 70us/step - loss: 1.3661 - acc: 0.3382 - val_loss: 1.3604 - val_acc: 0.3817\n",
      "Epoch 6/30\n",
      "7859/7859 [==============================] - 1s 70us/step - loss: 1.3656 - acc: 0.3382 - val_loss: 1.3601 - val_acc: 0.3817\n",
      "Epoch 7/30\n",
      "7859/7859 [==============================] - 1s 71us/step - loss: 1.3654 - acc: 0.3382 - val_loss: 1.3598 - val_acc: 0.3817\n",
      "Epoch 8/30\n",
      "7859/7859 [==============================] - 1s 71us/step - loss: 1.3652 - acc: 0.3382 - val_loss: 1.3598 - val_acc: 0.3817\n",
      "Epoch 9/30\n",
      "7859/7859 [==============================] - 1s 69us/step - loss: 1.3651 - acc: 0.3382 - val_loss: 1.3599 - val_acc: 0.3817\n",
      "Epoch 10/30\n",
      "7859/7859 [==============================] - 1s 71us/step - loss: 1.3651 - acc: 0.3382 - val_loss: 1.3599 - val_acc: 0.3817\n",
      "Epoch 11/30\n",
      "7859/7859 [==============================] - 1s 70us/step - loss: 1.3651 - acc: 0.3382 - val_loss: 1.3602 - val_acc: 0.3817\n",
      "Epoch 12/30\n",
      "7859/7859 [==============================] - 1s 71us/step - loss: 1.3651 - acc: 0.3382 - val_loss: 1.3602 - val_acc: 0.3817\n",
      "Epoch 13/30\n"
     ]
    },
    {
     "ename": "KeyboardInterrupt",
     "evalue": "",
     "output_type": "error",
     "traceback": [
      "\u001b[0;31m---------------------------------------------------------------------------\u001b[0m",
      "\u001b[0;31mKeyboardInterrupt\u001b[0m                         Traceback (most recent call last)",
      "\u001b[0;32m<ipython-input-147-702d9285ba09>\u001b[0m in \u001b[0;36m<module>\u001b[0;34m()\u001b[0m\n\u001b[1;32m      1\u001b[0m hist = model.fit(x_train2, Y, \n\u001b[1;32m      2\u001b[0m                  \u001b[0mbatch_size\u001b[0m\u001b[0;34m=\u001b[0m\u001b[0mbatch_size\u001b[0m\u001b[0;34m,\u001b[0m \u001b[0mnb_epoch\u001b[0m\u001b[0;34m=\u001b[0m\u001b[0;36m30\u001b[0m\u001b[0;34m,\u001b[0m \u001b[0mverbose\u001b[0m\u001b[0;34m=\u001b[0m\u001b[0;36m1\u001b[0m\u001b[0;34m,\u001b[0m \u001b[0mshuffle\u001b[0m \u001b[0;34m=\u001b[0m \u001b[0;32mTrue\u001b[0m\u001b[0;34m,\u001b[0m\u001b[0;34m\u001b[0m\u001b[0m\n\u001b[0;32m----> 3\u001b[0;31m                  validation_split=0.2)\n\u001b[0m",
      "\u001b[0;32m/usr/local/lib/python3.5/dist-packages/keras/models.py\u001b[0m in \u001b[0;36mfit\u001b[0;34m(self, x, y, batch_size, epochs, verbose, callbacks, validation_split, validation_data, shuffle, class_weight, sample_weight, initial_epoch, steps_per_epoch, validation_steps, **kwargs)\u001b[0m\n\u001b[1;32m    958\u001b[0m                               \u001b[0minitial_epoch\u001b[0m\u001b[0;34m=\u001b[0m\u001b[0minitial_epoch\u001b[0m\u001b[0;34m,\u001b[0m\u001b[0;34m\u001b[0m\u001b[0m\n\u001b[1;32m    959\u001b[0m                               \u001b[0msteps_per_epoch\u001b[0m\u001b[0;34m=\u001b[0m\u001b[0msteps_per_epoch\u001b[0m\u001b[0;34m,\u001b[0m\u001b[0;34m\u001b[0m\u001b[0m\n\u001b[0;32m--> 960\u001b[0;31m                               validation_steps=validation_steps)\n\u001b[0m\u001b[1;32m    961\u001b[0m \u001b[0;34m\u001b[0m\u001b[0m\n\u001b[1;32m    962\u001b[0m     def evaluate(self, x, y, batch_size=32, verbose=1,\n",
      "\u001b[0;32m/usr/local/lib/python3.5/dist-packages/keras/engine/training.py\u001b[0m in \u001b[0;36mfit\u001b[0;34m(self, x, y, batch_size, epochs, verbose, callbacks, validation_split, validation_data, shuffle, class_weight, sample_weight, initial_epoch, steps_per_epoch, validation_steps, **kwargs)\u001b[0m\n\u001b[1;32m   1655\u001b[0m                               \u001b[0minitial_epoch\u001b[0m\u001b[0;34m=\u001b[0m\u001b[0minitial_epoch\u001b[0m\u001b[0;34m,\u001b[0m\u001b[0;34m\u001b[0m\u001b[0m\n\u001b[1;32m   1656\u001b[0m                               \u001b[0msteps_per_epoch\u001b[0m\u001b[0;34m=\u001b[0m\u001b[0msteps_per_epoch\u001b[0m\u001b[0;34m,\u001b[0m\u001b[0;34m\u001b[0m\u001b[0m\n\u001b[0;32m-> 1657\u001b[0;31m                               validation_steps=validation_steps)\n\u001b[0m\u001b[1;32m   1658\u001b[0m \u001b[0;34m\u001b[0m\u001b[0m\n\u001b[1;32m   1659\u001b[0m     def evaluate(self, x=None, y=None,\n",
      "\u001b[0;32m/usr/local/lib/python3.5/dist-packages/keras/engine/training.py\u001b[0m in \u001b[0;36m_fit_loop\u001b[0;34m(self, f, ins, out_labels, batch_size, epochs, verbose, callbacks, val_f, val_ins, shuffle, callback_metrics, initial_epoch, steps_per_epoch, validation_steps)\u001b[0m\n\u001b[1;32m   1211\u001b[0m                     \u001b[0mbatch_logs\u001b[0m\u001b[0;34m[\u001b[0m\u001b[0;34m'size'\u001b[0m\u001b[0;34m]\u001b[0m \u001b[0;34m=\u001b[0m \u001b[0mlen\u001b[0m\u001b[0;34m(\u001b[0m\u001b[0mbatch_ids\u001b[0m\u001b[0;34m)\u001b[0m\u001b[0;34m\u001b[0m\u001b[0m\n\u001b[1;32m   1212\u001b[0m                     \u001b[0mcallbacks\u001b[0m\u001b[0;34m.\u001b[0m\u001b[0mon_batch_begin\u001b[0m\u001b[0;34m(\u001b[0m\u001b[0mbatch_index\u001b[0m\u001b[0;34m,\u001b[0m \u001b[0mbatch_logs\u001b[0m\u001b[0;34m)\u001b[0m\u001b[0;34m\u001b[0m\u001b[0m\n\u001b[0;32m-> 1213\u001b[0;31m                     \u001b[0mouts\u001b[0m \u001b[0;34m=\u001b[0m \u001b[0mf\u001b[0m\u001b[0;34m(\u001b[0m\u001b[0mins_batch\u001b[0m\u001b[0;34m)\u001b[0m\u001b[0;34m\u001b[0m\u001b[0m\n\u001b[0m\u001b[1;32m   1214\u001b[0m                     \u001b[0;32mif\u001b[0m \u001b[0;32mnot\u001b[0m \u001b[0misinstance\u001b[0m\u001b[0;34m(\u001b[0m\u001b[0mouts\u001b[0m\u001b[0;34m,\u001b[0m \u001b[0mlist\u001b[0m\u001b[0;34m)\u001b[0m\u001b[0;34m:\u001b[0m\u001b[0;34m\u001b[0m\u001b[0m\n\u001b[1;32m   1215\u001b[0m                         \u001b[0mouts\u001b[0m \u001b[0;34m=\u001b[0m \u001b[0;34m[\u001b[0m\u001b[0mouts\u001b[0m\u001b[0;34m]\u001b[0m\u001b[0;34m\u001b[0m\u001b[0m\n",
      "\u001b[0;32m/usr/local/lib/python3.5/dist-packages/keras/backend/tensorflow_backend.py\u001b[0m in \u001b[0;36m__call__\u001b[0;34m(self, inputs)\u001b[0m\n\u001b[1;32m   2355\u001b[0m         \u001b[0msession\u001b[0m \u001b[0;34m=\u001b[0m \u001b[0mget_session\u001b[0m\u001b[0;34m(\u001b[0m\u001b[0;34m)\u001b[0m\u001b[0;34m\u001b[0m\u001b[0m\n\u001b[1;32m   2356\u001b[0m         updated = session.run(fetches=fetches, feed_dict=feed_dict,\n\u001b[0;32m-> 2357\u001b[0;31m                               **self.session_kwargs)\n\u001b[0m\u001b[1;32m   2358\u001b[0m         \u001b[0;32mreturn\u001b[0m \u001b[0mupdated\u001b[0m\u001b[0;34m[\u001b[0m\u001b[0;34m:\u001b[0m\u001b[0mlen\u001b[0m\u001b[0;34m(\u001b[0m\u001b[0mself\u001b[0m\u001b[0;34m.\u001b[0m\u001b[0moutputs\u001b[0m\u001b[0;34m)\u001b[0m\u001b[0;34m]\u001b[0m\u001b[0;34m\u001b[0m\u001b[0m\n\u001b[1;32m   2359\u001b[0m \u001b[0;34m\u001b[0m\u001b[0m\n",
      "\u001b[0;32m/usr/local/lib/python3.5/dist-packages/tensorflow/python/client/session.py\u001b[0m in \u001b[0;36mrun\u001b[0;34m(self, fetches, feed_dict, options, run_metadata)\u001b[0m\n\u001b[1;32m    887\u001b[0m     \u001b[0;32mtry\u001b[0m\u001b[0;34m:\u001b[0m\u001b[0;34m\u001b[0m\u001b[0m\n\u001b[1;32m    888\u001b[0m       result = self._run(None, fetches, feed_dict, options_ptr,\n\u001b[0;32m--> 889\u001b[0;31m                          run_metadata_ptr)\n\u001b[0m\u001b[1;32m    890\u001b[0m       \u001b[0;32mif\u001b[0m \u001b[0mrun_metadata\u001b[0m\u001b[0;34m:\u001b[0m\u001b[0;34m\u001b[0m\u001b[0m\n\u001b[1;32m    891\u001b[0m         \u001b[0mproto_data\u001b[0m \u001b[0;34m=\u001b[0m \u001b[0mtf_session\u001b[0m\u001b[0;34m.\u001b[0m\u001b[0mTF_GetBuffer\u001b[0m\u001b[0;34m(\u001b[0m\u001b[0mrun_metadata_ptr\u001b[0m\u001b[0;34m)\u001b[0m\u001b[0;34m\u001b[0m\u001b[0m\n",
      "\u001b[0;32m/usr/local/lib/python3.5/dist-packages/tensorflow/python/client/session.py\u001b[0m in \u001b[0;36m_run\u001b[0;34m(self, handle, fetches, feed_dict, options, run_metadata)\u001b[0m\n\u001b[1;32m   1118\u001b[0m     \u001b[0;32mif\u001b[0m \u001b[0mfinal_fetches\u001b[0m \u001b[0;32mor\u001b[0m \u001b[0mfinal_targets\u001b[0m \u001b[0;32mor\u001b[0m \u001b[0;34m(\u001b[0m\u001b[0mhandle\u001b[0m \u001b[0;32mand\u001b[0m \u001b[0mfeed_dict_tensor\u001b[0m\u001b[0;34m)\u001b[0m\u001b[0;34m:\u001b[0m\u001b[0;34m\u001b[0m\u001b[0m\n\u001b[1;32m   1119\u001b[0m       results = self._do_run(handle, final_targets, final_fetches,\n\u001b[0;32m-> 1120\u001b[0;31m                              feed_dict_tensor, options, run_metadata)\n\u001b[0m\u001b[1;32m   1121\u001b[0m     \u001b[0;32melse\u001b[0m\u001b[0;34m:\u001b[0m\u001b[0;34m\u001b[0m\u001b[0m\n\u001b[1;32m   1122\u001b[0m       \u001b[0mresults\u001b[0m \u001b[0;34m=\u001b[0m \u001b[0;34m[\u001b[0m\u001b[0;34m]\u001b[0m\u001b[0;34m\u001b[0m\u001b[0m\n",
      "\u001b[0;32m/usr/local/lib/python3.5/dist-packages/tensorflow/python/client/session.py\u001b[0m in \u001b[0;36m_do_run\u001b[0;34m(self, handle, target_list, fetch_list, feed_dict, options, run_metadata)\u001b[0m\n\u001b[1;32m   1315\u001b[0m     \u001b[0;32mif\u001b[0m \u001b[0mhandle\u001b[0m \u001b[0;32mis\u001b[0m \u001b[0;32mNone\u001b[0m\u001b[0;34m:\u001b[0m\u001b[0;34m\u001b[0m\u001b[0m\n\u001b[1;32m   1316\u001b[0m       return self._do_call(_run_fn, self._session, feeds, fetches, targets,\n\u001b[0;32m-> 1317\u001b[0;31m                            options, run_metadata)\n\u001b[0m\u001b[1;32m   1318\u001b[0m     \u001b[0;32melse\u001b[0m\u001b[0;34m:\u001b[0m\u001b[0;34m\u001b[0m\u001b[0m\n\u001b[1;32m   1319\u001b[0m       \u001b[0;32mreturn\u001b[0m \u001b[0mself\u001b[0m\u001b[0;34m.\u001b[0m\u001b[0m_do_call\u001b[0m\u001b[0;34m(\u001b[0m\u001b[0m_prun_fn\u001b[0m\u001b[0;34m,\u001b[0m \u001b[0mself\u001b[0m\u001b[0;34m.\u001b[0m\u001b[0m_session\u001b[0m\u001b[0;34m,\u001b[0m \u001b[0mhandle\u001b[0m\u001b[0;34m,\u001b[0m \u001b[0mfeeds\u001b[0m\u001b[0;34m,\u001b[0m \u001b[0mfetches\u001b[0m\u001b[0;34m)\u001b[0m\u001b[0;34m\u001b[0m\u001b[0m\n",
      "\u001b[0;32m/usr/local/lib/python3.5/dist-packages/tensorflow/python/client/session.py\u001b[0m in \u001b[0;36m_do_call\u001b[0;34m(self, fn, *args)\u001b[0m\n\u001b[1;32m   1321\u001b[0m   \u001b[0;32mdef\u001b[0m \u001b[0m_do_call\u001b[0m\u001b[0;34m(\u001b[0m\u001b[0mself\u001b[0m\u001b[0;34m,\u001b[0m \u001b[0mfn\u001b[0m\u001b[0;34m,\u001b[0m \u001b[0;34m*\u001b[0m\u001b[0margs\u001b[0m\u001b[0;34m)\u001b[0m\u001b[0;34m:\u001b[0m\u001b[0;34m\u001b[0m\u001b[0m\n\u001b[1;32m   1322\u001b[0m     \u001b[0;32mtry\u001b[0m\u001b[0;34m:\u001b[0m\u001b[0;34m\u001b[0m\u001b[0m\n\u001b[0;32m-> 1323\u001b[0;31m       \u001b[0;32mreturn\u001b[0m \u001b[0mfn\u001b[0m\u001b[0;34m(\u001b[0m\u001b[0;34m*\u001b[0m\u001b[0margs\u001b[0m\u001b[0;34m)\u001b[0m\u001b[0;34m\u001b[0m\u001b[0m\n\u001b[0m\u001b[1;32m   1324\u001b[0m     \u001b[0;32mexcept\u001b[0m \u001b[0merrors\u001b[0m\u001b[0;34m.\u001b[0m\u001b[0mOpError\u001b[0m \u001b[0;32mas\u001b[0m \u001b[0me\u001b[0m\u001b[0;34m:\u001b[0m\u001b[0;34m\u001b[0m\u001b[0m\n\u001b[1;32m   1325\u001b[0m       \u001b[0mmessage\u001b[0m \u001b[0;34m=\u001b[0m \u001b[0mcompat\u001b[0m\u001b[0;34m.\u001b[0m\u001b[0mas_text\u001b[0m\u001b[0;34m(\u001b[0m\u001b[0me\u001b[0m\u001b[0;34m.\u001b[0m\u001b[0mmessage\u001b[0m\u001b[0;34m)\u001b[0m\u001b[0;34m\u001b[0m\u001b[0m\n",
      "\u001b[0;32m/usr/local/lib/python3.5/dist-packages/tensorflow/python/client/session.py\u001b[0m in \u001b[0;36m_run_fn\u001b[0;34m(session, feed_dict, fetch_list, target_list, options, run_metadata)\u001b[0m\n\u001b[1;32m   1300\u001b[0m           return tf_session.TF_Run(session, options,\n\u001b[1;32m   1301\u001b[0m                                    \u001b[0mfeed_dict\u001b[0m\u001b[0;34m,\u001b[0m \u001b[0mfetch_list\u001b[0m\u001b[0;34m,\u001b[0m \u001b[0mtarget_list\u001b[0m\u001b[0;34m,\u001b[0m\u001b[0;34m\u001b[0m\u001b[0m\n\u001b[0;32m-> 1302\u001b[0;31m                                    status, run_metadata)\n\u001b[0m\u001b[1;32m   1303\u001b[0m \u001b[0;34m\u001b[0m\u001b[0m\n\u001b[1;32m   1304\u001b[0m     \u001b[0;32mdef\u001b[0m \u001b[0m_prun_fn\u001b[0m\u001b[0;34m(\u001b[0m\u001b[0msession\u001b[0m\u001b[0;34m,\u001b[0m \u001b[0mhandle\u001b[0m\u001b[0;34m,\u001b[0m \u001b[0mfeed_dict\u001b[0m\u001b[0;34m,\u001b[0m \u001b[0mfetch_list\u001b[0m\u001b[0;34m)\u001b[0m\u001b[0;34m:\u001b[0m\u001b[0;34m\u001b[0m\u001b[0m\n",
      "\u001b[0;31mKeyboardInterrupt\u001b[0m: "
     ]
    }
   ],
   "source": [
    "hist = model.fit(x_train2, Y, \n",
    "                 batch_size=batch_size, nb_epoch=30, verbose=1, shuffle = True, \n",
    "                 validation_split=0.2)"
   ]
  },
  {
   "cell_type": "code",
   "execution_count": null,
   "metadata": {},
   "outputs": [],
   "source": []
  }
 ],
 "metadata": {
  "kernelspec": {
   "display_name": "Python 3",
   "language": "python",
   "name": "python3"
  },
  "language_info": {
   "codemirror_mode": {
    "name": "ipython",
    "version": 3
   },
   "file_extension": ".py",
   "mimetype": "text/x-python",
   "name": "python",
   "nbconvert_exporter": "python",
   "pygments_lexer": "ipython3",
   "version": "3.5.2"
  }
 },
 "nbformat": 4,
 "nbformat_minor": 2
}
