{
 "cells": [
  {
   "cell_type": "code",
   "execution_count": 1,
   "metadata": {},
   "outputs": [
    {
     "name": "stderr",
     "output_type": "stream",
     "text": [
      "/usr/local/lib/python3.5/dist-packages/sklearn/cross_validation.py:41: DeprecationWarning: This module was deprecated in version 0.18 in favor of the model_selection module into which all the refactored classes and functions are moved. Also note that the interface of the new CV iterators are different from that of this module. This module will be removed in 0.20.\n",
      "  \"This module will be removed in 0.20.\", DeprecationWarning)\n",
      "/usr/local/lib/python3.5/dist-packages/sklearn/grid_search.py:42: DeprecationWarning: This module was deprecated in version 0.18 in favor of the model_selection module into which all the refactored classes and functions are moved. This module will be removed in 0.20.\n",
      "  DeprecationWarning)\n",
      "Using TensorFlow backend.\n"
     ]
    }
   ],
   "source": [
    "import os\n",
    "import sys\n",
    "import csv\n",
    "import wave\n",
    "import copy\n",
    "import math\n",
    "\n",
    "import numpy as np\n",
    "import pandas as pd\n",
    "\n",
    "from sklearn.preprocessing import label_binarize\n",
    "from sklearn.cross_validation import StratifiedKFold, KFold, train_test_split\n",
    "from sklearn.svm import OneClassSVM, SVC\n",
    "from sklearn.ensemble import RandomForestClassifier\n",
    "from sklearn.grid_search import GridSearchCV\n",
    "from sklearn.manifold import TSNE\n",
    "from sklearn.decomposition import PCA\n",
    "\n",
    "from keras.models import Sequential, Model\n",
    "from keras.layers.core import Dense, Activation\n",
    "from keras.layers import LSTM, Input\n",
    "from keras.layers.wrappers import TimeDistributed\n",
    "from keras.optimizers import SGD, Adam, RMSprop\n",
    "\n",
    "sys.path.append(\"../\")\n",
    "\n",
    "from utilities.utils import *\n",
    "\n",
    "import matplotlib\n",
    "import matplotlib.pyplot as plt\n",
    "import matplotlib.ticker as ticker\n",
    "%matplotlib inline\n",
    "\n",
    "from IPython.display import clear_output"
   ]
  },
  {
   "cell_type": "code",
   "execution_count": 2,
   "metadata": {},
   "outputs": [],
   "source": [
    "batch_size = 64\n",
    "nb_feat = 34\n",
    "nb_class = 4\n",
    "nb_epoch = 80\n",
    "\n",
    "optimizer = 'Adadelta'"
   ]
  },
  {
   "cell_type": "code",
   "execution_count": 3,
   "metadata": {},
   "outputs": [
    {
     "name": "stdout",
     "output_type": "stream",
     "text": [
      "----------------------------------------------------------------------------------------------------\n",
      "available_emotions            ['ang' 'exc' 'neu' 'sad']                                             \n",
      "conf_matrix_prefix            iemocap                                                               \n",
      "framerate                     16000                                                                 \n",
      "path_to_data                  /home/samarth/sail.usc.edu/databases/iemocap/small/emotion_recognition\n",
      "path_to_features              /home/samarth/sail.usc.edu/databases/iemocap/small/emotion_recognition\n",
      "sessions                      ['Session1', 'Session2', 'Session3', 'Session4', 'Session5']          \n",
      "types                         {1: <class 'numpy.int8'>, 2: <class 'numpy.int16'>, 4: <class 'numpy.i\n",
      "----------------------------------------------------------------------------------------------------\n"
     ]
    }
   ],
   "source": [
    "params = Constants()\n",
    "print(params)"
   ]
  },
  {
   "cell_type": "code",
   "execution_count": 4,
   "metadata": {},
   "outputs": [],
   "source": [
    "def read_iemocap_transcriptions(params=Constants()):\n",
    "    data = []\n",
    "    for session in params.sessions:\n",
    "        path_to_wav = params.path_to_data + session + '/dialog/wav/'\n",
    "        path_to_emotions = params.path_to_data + session + '/dialog/EmoEvaluation/'\n",
    "        path_to_transcriptions = params.path_to_data + session + '/dialog/transcriptions/'\n",
    "\n",
    "        files = os.listdir(path_to_wav)\n",
    "        files = [f[:-4] for f in files if f.endswith(\".wav\")]\n",
    "        for f in files:           \n",
    "            transcriptions = get_transcriptions(path_to_transcriptions, f + '.txt')\n",
    "            emotions = get_emotions(path_to_emotions, f + '.txt')\n",
    "\n",
    "            for ie, e in enumerate(emotions):\n",
    "                e.pop(\"left\", None)\n",
    "                e.pop(\"right\", None)\n",
    "                e['transcription'] = transcriptions[e['id']]\n",
    "                if e['emotion'] in params.available_emotions:\n",
    "                    data.append(e)\n",
    "    sort_key = get_field(data, \"id\")\n",
    "    return np.array(data)[np.argsort(sort_key)]\n"
   ]
  },
  {
   "cell_type": "code",
   "execution_count": 5,
   "metadata": {},
   "outputs": [],
   "source": [
    "data = read_iemocap_transcriptions(params=params)"
   ]
  },
  {
   "cell_type": "code",
   "execution_count": 6,
   "metadata": {},
   "outputs": [
    {
     "name": "stdout",
     "output_type": "stream",
     "text": [
      "537\n"
     ]
    }
   ],
   "source": [
    "data[100]['transcription']\n",
    "\n",
    "text = []\n",
    "\n",
    "max_seq_len =0\n",
    "\n",
    "for ses_mod in data:\n",
    "    max_seq_len = max(max_seq_len, len(ses_mod['transcription']))\n",
    "    text.append(ses_mod['transcription'])\n",
    "    \n",
    "print (str(max_seq_len))"
   ]
  },
  {
   "cell_type": "code",
   "execution_count": 7,
   "metadata": {},
   "outputs": [
    {
     "data": {
      "text/plain": [
       "'Is this a joke?'"
      ]
     },
     "execution_count": 7,
     "metadata": {},
     "output_type": "execute_result"
    }
   ],
   "source": [
    "text[100]"
   ]
  },
  {
   "cell_type": "code",
   "execution_count": 8,
   "metadata": {},
   "outputs": [],
   "source": [
    "Y=[]\n",
    "for ses_mod in data:\n",
    "    Y.append(ses_mod['emotion'])\n",
    "    \n",
    "Y = to_categorical(Y)"
   ]
  },
  {
   "cell_type": "code",
   "execution_count": 9,
   "metadata": {},
   "outputs": [
    {
     "data": {
      "text/plain": [
       "4936"
      ]
     },
     "execution_count": 9,
     "metadata": {},
     "output_type": "execute_result"
    }
   ],
   "source": [
    "len(Y)"
   ]
  },
  {
   "cell_type": "code",
   "execution_count": 10,
   "metadata": {},
   "outputs": [
    {
     "data": {
      "text/plain": [
       "array([0, 0, 1, 0])"
      ]
     },
     "execution_count": 10,
     "metadata": {},
     "output_type": "execute_result"
    }
   ],
   "source": [
    "Y[0]"
   ]
  },
  {
   "cell_type": "code",
   "execution_count": 11,
   "metadata": {},
   "outputs": [],
   "source": [
    "from os import listdir\n",
    "import random\n",
    "from keras.preprocessing.text import Tokenizer\n",
    "from keras.preprocessing.sequence import pad_sequences\n",
    "from keras.models import Sequential\n",
    "from keras.layers import Embedding, Dense, Dropout, Reshape, Merge, BatchNormalization, TimeDistributed, Lambda, Activation, LSTM, Flatten, Convolution1D, GRU, MaxPooling1D\n",
    "from keras.regularizers import l2\n",
    "from keras.callbacks import Callback, ModelCheckpoint, EarlyStopping\n",
    "#from keras import initializers\n",
    "from keras import backend as K\n",
    "from keras.optimizers import SGD\n",
    "from keras.optimizers import Adadelta\n",
    "from keras.utils import np_utils\n",
    "from keras.preprocessing import sequence\n",
    "from keras import optimizers\n",
    "import numpy as np"
   ]
  },
  {
   "cell_type": "code",
   "execution_count": 12,
   "metadata": {},
   "outputs": [],
   "source": [
    "MAX_SEQUENCE_LENGTH = 500\n",
    "\n",
    "tokenizer = Tokenizer()\n",
    "tokenizer.fit_on_texts(text)\n",
    "\n",
    "token_tr_X = tokenizer.texts_to_sequences(text)\n",
    "\n",
    "\n",
    "x_train = sequence.pad_sequences(token_tr_X, maxlen=MAX_SEQUENCE_LENGTH)\n"
   ]
  },
  {
   "cell_type": "code",
   "execution_count": 13,
   "metadata": {},
   "outputs": [
    {
     "data": {
      "text/plain": [
       "array([   0,    0,    0,    0,    0,    0,    0,    0,    0,    0,    0,\n",
       "          0,    0,    0,    0,    0,    0,    0,    0,    0,    0,    0,\n",
       "          0,    0,    0,    0,    0,    0,    0,    0,    0,    0,    0,\n",
       "          0,    0,    0,    0,    0,    0,    0,    0,    0,    0,    0,\n",
       "          0,    0,    0,    0,    0,    0,    0,    0,    0,    0,    0,\n",
       "          0,    0,    0,    0,    0,    0,    0,    0,    0,    0,    0,\n",
       "          0,    0,    0,    0,    0,    0,    0,    0,    0,    0,    0,\n",
       "          0,    0,    0,    0,    0,    0,    0,    0,    0,    0,    0,\n",
       "          0,    0,    0,    0,    0,    0,    0,    0,    0,    0,    0,\n",
       "          0,    0,    0,    0,    0,    0,    0,    0,    0,    0,    0,\n",
       "          0,    0,    0,    0,    0,    0,    0,    0,    0,    0,    0,\n",
       "          0,    0,    0,    0,    0,    0,    0,    0,    0,    0,    0,\n",
       "          0,    0,    0,    0,    0,    0,    0,    0,    0,    0,    0,\n",
       "          0,    0,    0,    0,    0,    0,    0,    0,    0,    0,    0,\n",
       "          0,    0,    0,    0,    0,    0,    0,    0,    0,    0,    0,\n",
       "          0,    0,    0,    0,    0,    0,    0,    0,    0,    0,    0,\n",
       "          0,    0,    0,    0,    0,    0,    0,    0,    0,    0,    0,\n",
       "          0,    0,    0,    0,    0,    0,    0,    0,    0,    0,    0,\n",
       "          0,    0,    0,    0,    0,    0,    0,    0,    0,    0,    0,\n",
       "          0,    0,    0,    0,    0,    0,    0,    0,    0,    0,    0,\n",
       "          0,    0,    0,    0,    0,    0,    0,    0,    0,    0,    0,\n",
       "          0,    0,    0,    0,    0,    0,    0,    0,    0,    0,    0,\n",
       "          0,    0,    0,    0,    0,    0,    0,    0,    0,    0,    0,\n",
       "          0,    0,    0,    0,    0,    0,    0,    0,    0,    0,    0,\n",
       "          0,    0,    0,    0,    0,    0,    0,    0,    0,    0,    0,\n",
       "          0,    0,    0,    0,    0,    0,    0,    0,    0,    0,    0,\n",
       "          0,    0,    0,    0,    0,    0,    0,    0,    0,    0,    0,\n",
       "          0,    0,    0,    0,    0,    0,    0,    0,    0,    0,    0,\n",
       "          0,    0,    0,    0,    0,    0,    0,    0,    0,    0,    0,\n",
       "          0,    0,    0,    0,    0,    0,    0,    0,    0,    0,    0,\n",
       "          0,    0,    0,    0,    0,    0,    0,    0,    0,    0,    0,\n",
       "          0,    0,    0,    0,    0,    0,    0,    0,    0,    0,    0,\n",
       "          0,    0,    0,    0,    0,    0,    0,    0,    0,    0,    0,\n",
       "          0,    0,    0,    0,    0,    0,    0,    0,    0,    0,    0,\n",
       "          0,    0,    0,    0,    0,    0,    0,    0,    0,    0,    0,\n",
       "          0,    0,    0,    0,    0,    0,    0,    0,    0,    0,    0,\n",
       "          0,    0,    0,    0,    0,    0,    0,    0,    0,    0,    0,\n",
       "          0,    0,    0,    0,    0,    0,    0,    0,    0,    0,    0,\n",
       "          0,    0,    0,    0,    0,    0,    0,    0,    0,    0,    0,\n",
       "          0,    0,    0,    0,    0,    0,    0,    0,    0,    0,    0,\n",
       "          0,    0,    0,    0,    0,    0,    0,    0,    0,    0,    0,\n",
       "          0,    0,    0,    0,    0,    0,    0,    0,    0,    0,    0,\n",
       "          0,    0,    0,    0,    0,    0,    0,    0,    0,    0,    0,\n",
       "          0,    0,    0,    0,    0,    0,    0,    0,    0,    0,    0,\n",
       "          0,    0,    0,    0,    0,    0,    0,    0,    0,    0,    0,\n",
       "          0,   16,   19,    6, 1061], dtype=int32)"
      ]
     },
     "execution_count": 13,
     "metadata": {},
     "output_type": "execute_result"
    }
   ],
   "source": [
    "x_train[100]"
   ]
  },
  {
   "cell_type": "code",
   "execution_count": 23,
   "metadata": {},
   "outputs": [
    {
     "name": "stdout",
     "output_type": "stream",
     "text": [
      "Found 2736 unique tokens\n",
      "/home/samarth/sail.usc.edu/databases/iemocap/small/emotion_recognition-master/code/utilities/../../data/sessions/../glove.42B.300d.txt\n",
      "G Word embeddings: 1917494\n",
      "G Null word embeddings: 90\n"
     ]
    }
   ],
   "source": [
    "import codecs\n",
    "EMBEDDING_DIM = 300\n",
    "\n",
    "word_index = tokenizer.word_index\n",
    "print('Found %s unique tokens' % len(word_index))\n",
    "\n",
    "file_loc = params.path_to_data + '../glove.42B.300d.txt'\n",
    "\n",
    "print (file_loc)\n",
    "\n",
    "gembeddings_index = {}\n",
    "with codecs.open(file_loc, encoding='utf-8') as f:\n",
    "    for line in f:\n",
    "        values = line.split(' ')\n",
    "        word = values[0]\n",
    "        gembedding = np.asarray(values[1:], dtype='float32')\n",
    "        gembeddings_index[word] = gembedding\n",
    "#\n",
    "f.close()\n",
    "print('G Word embeddings:', len(gembeddings_index))\n",
    "\n",
    "nb_words = len(word_index) +1\n",
    "g_word_embedding_matrix = np.zeros((nb_words, EMBEDDING_DIM))\n",
    "for word, i in word_index.items():\n",
    "    gembedding_vector = gembeddings_index.get(word)\n",
    "    if gembedding_vector is not None:\n",
    "        g_word_embedding_matrix[i] = gembedding_vector\n",
    "        \n",
    "print('G Null word embeddings: %d' % np.sum(np.sum(g_word_embedding_matrix, axis=1) == 0))"
   ]
  },
  {
   "cell_type": "code",
   "execution_count": 32,
   "metadata": {},
   "outputs": [
    {
     "name": "stdout",
     "output_type": "stream",
     "text": [
      "_________________________________________________________________\n",
      "Layer (type)                 Output Shape              Param #   \n",
      "=================================================================\n",
      "embedding_7 (Embedding)      (None, 500, 300)          821100    \n",
      "_________________________________________________________________\n",
      "conv1d_25 (Conv1D)           (None, 500, 256)          230656    \n",
      "_________________________________________________________________\n",
      "dropout_38 (Dropout)         (None, 500, 256)          0         \n",
      "_________________________________________________________________\n",
      "activation_38 (Activation)   (None, 500, 256)          0         \n",
      "_________________________________________________________________\n",
      "conv1d_26 (Conv1D)           (None, 500, 128)          98432     \n",
      "_________________________________________________________________\n",
      "dropout_39 (Dropout)         (None, 500, 128)          0         \n",
      "_________________________________________________________________\n",
      "activation_39 (Activation)   (None, 500, 128)          0         \n",
      "_________________________________________________________________\n",
      "conv1d_27 (Conv1D)           (None, 500, 64)           24640     \n",
      "_________________________________________________________________\n",
      "dropout_40 (Dropout)         (None, 500, 64)           0         \n",
      "_________________________________________________________________\n",
      "activation_40 (Activation)   (None, 500, 64)           0         \n",
      "_________________________________________________________________\n",
      "conv1d_28 (Conv1D)           (None, 500, 32)           6176      \n",
      "_________________________________________________________________\n",
      "dropout_41 (Dropout)         (None, 500, 32)           0         \n",
      "_________________________________________________________________\n",
      "activation_41 (Activation)   (None, 500, 32)           0         \n",
      "_________________________________________________________________\n",
      "flatten_7 (Flatten)          (None, 16000)             0         \n",
      "_________________________________________________________________\n",
      "dropout_42 (Dropout)         (None, 16000)             0         \n",
      "_________________________________________________________________\n",
      "dense_14 (Dense)             (None, 512)               8192512   \n",
      "_________________________________________________________________\n",
      "activation_42 (Activation)   (None, 512)               0         \n",
      "_________________________________________________________________\n",
      "dropout_43 (Dropout)         (None, 512)               0         \n",
      "_________________________________________________________________\n",
      "dense_15 (Dense)             (None, 256)               131328    \n",
      "_________________________________________________________________\n",
      "activation_43 (Activation)   (None, 256)               0         \n",
      "_________________________________________________________________\n",
      "dropout_44 (Dropout)         (None, 256)               0         \n",
      "_________________________________________________________________\n",
      "dense_16 (Dense)             (None, 4)                 1028      \n",
      "_________________________________________________________________\n",
      "activation_44 (Activation)   (None, 4)                 0         \n",
      "=================================================================\n",
      "Total params: 9,505,872\n",
      "Trainable params: 9,505,872\n",
      "Non-trainable params: 0\n",
      "_________________________________________________________________\n",
      "Model1 Built\n"
     ]
    },
    {
     "name": "stderr",
     "output_type": "stream",
     "text": [
      "/usr/local/lib/python3.5/dist-packages/ipykernel_launcher.py:8: UserWarning: Update your `Conv1D` call to the Keras 2 API: `Conv1D(256, 3, padding=\"same\")`\n",
      "  \n",
      "/usr/local/lib/python3.5/dist-packages/ipykernel_launcher.py:11: UserWarning: Update your `Conv1D` call to the Keras 2 API: `Conv1D(128, 3, padding=\"same\")`\n",
      "  # This is added back by InteractiveShellApp.init_path()\n",
      "/usr/local/lib/python3.5/dist-packages/ipykernel_launcher.py:14: UserWarning: Update your `Conv1D` call to the Keras 2 API: `Conv1D(64, 3, padding=\"same\")`\n",
      "  \n",
      "/usr/local/lib/python3.5/dist-packages/ipykernel_launcher.py:17: UserWarning: Update your `Conv1D` call to the Keras 2 API: `Conv1D(32, 3, padding=\"same\")`\n"
     ]
    }
   ],
   "source": [
    "model = Sequential()\n",
    "#model.add(Embedding(2737, 128, input_length=MAX_SEQUENCE_LENGTH))\n",
    "model.add(Embedding(nb_words,\n",
    "                    EMBEDDING_DIM,\n",
    "                    weights = [g_word_embedding_matrix],\n",
    "                    input_length = MAX_SEQUENCE_LENGTH,\n",
    "                    trainable = True))\n",
    "model.add(Convolution1D(256, 3, border_mode='same'))\n",
    "model.add(Dropout(0.2))\n",
    "model.add(Activation('relu'))\n",
    "model.add(Convolution1D(128, 3, border_mode='same'))\n",
    "model.add(Dropout(0.2))\n",
    "model.add(Activation('relu'))\n",
    "model.add(Convolution1D(64, 3, border_mode='same'))\n",
    "model.add(Dropout(0.2))\n",
    "model.add(Activation('relu'))\n",
    "model.add(Convolution1D(32, 3, border_mode='same'))\n",
    "model.add(Dropout(0.2))\n",
    "model.add(Activation('relu'))\n",
    "model.add(Flatten())\n",
    "model.add(Dropout(0.2))\n",
    "model.add(Dense(512))\n",
    "model.add(Activation('relu')) \n",
    "model.add(Dropout(0.2))\n",
    "model.add(Dense(256))\n",
    "model.add(Activation('relu')) \n",
    "model.add(Dropout(0.2))\n",
    "model.add(Dense(4))\n",
    "model.add(Activation('softmax'))\n",
    "\n",
    "#sgd = optimizers.SGD(lr=0.001, decay=1e-6, momentum=0.9, nesterov=True)\n",
    "model.compile(loss='categorical_crossentropy',optimizer='adam' ,metrics=['acc'])\n",
    "\n",
    "## compille it here according to instructions\n",
    "\n",
    "#model.compile()\n",
    "model.summary()\n",
    "\n",
    "print(\"Model1 Built\")"
   ]
  },
  {
   "cell_type": "code",
   "execution_count": 33,
   "metadata": {},
   "outputs": [
    {
     "name": "stderr",
     "output_type": "stream",
     "text": [
      "/usr/local/lib/python3.5/dist-packages/keras/models.py:939: UserWarning: The `nb_epoch` argument in `fit` has been renamed `epochs`.\n",
      "  warnings.warn('The `nb_epoch` argument in `fit` '\n"
     ]
    },
    {
     "name": "stdout",
     "output_type": "stream",
     "text": [
      "Train on 3948 samples, validate on 988 samples\n",
      "Epoch 1/30\n",
      "3948/3948 [==============================] - 7s 2ms/step - loss: 1.3751 - acc: 0.3354 - val_loss: 1.3626 - val_acc: 0.3694\n",
      "Epoch 2/30\n",
      "3948/3948 [==============================] - 5s 1ms/step - loss: 1.3632 - acc: 0.3430 - val_loss: 1.3623 - val_acc: 0.3644\n",
      "Epoch 3/30\n",
      "3948/3948 [==============================] - 5s 1ms/step - loss: 1.3491 - acc: 0.3498 - val_loss: 1.3233 - val_acc: 0.3603\n",
      "Epoch 4/30\n",
      "3948/3948 [==============================] - 5s 1ms/step - loss: 1.2899 - acc: 0.3726 - val_loss: 1.2631 - val_acc: 0.3907\n",
      "Epoch 5/30\n",
      "3948/3948 [==============================] - 5s 1ms/step - loss: 1.1233 - acc: 0.4886 - val_loss: 1.1451 - val_acc: 0.4960\n",
      "Epoch 6/30\n",
      "3948/3948 [==============================] - 5s 1ms/step - loss: 0.9680 - acc: 0.5935 - val_loss: 1.0407 - val_acc: 0.5496\n",
      "Epoch 7/30\n",
      "3948/3948 [==============================] - 5s 1ms/step - loss: 0.8182 - acc: 0.6677 - val_loss: 0.9917 - val_acc: 0.6184\n",
      "Epoch 8/30\n",
      "3948/3948 [==============================] - 5s 1ms/step - loss: 0.7096 - acc: 0.7120 - val_loss: 0.9850 - val_acc: 0.6204\n",
      "Epoch 9/30\n",
      "3948/3948 [==============================] - 5s 1ms/step - loss: 0.6014 - acc: 0.7675 - val_loss: 1.1529 - val_acc: 0.5901\n",
      "Epoch 10/30\n",
      "3948/3948 [==============================] - 5s 1ms/step - loss: 0.5604 - acc: 0.7915 - val_loss: 1.1389 - val_acc: 0.6194\n",
      "Epoch 11/30\n",
      "3948/3948 [==============================] - 5s 1ms/step - loss: 0.4918 - acc: 0.8133 - val_loss: 1.1928 - val_acc: 0.6073\n",
      "Epoch 12/30\n",
      "3948/3948 [==============================] - 5s 1ms/step - loss: 0.4443 - acc: 0.8397 - val_loss: 1.2458 - val_acc: 0.6204\n",
      "Epoch 13/30\n",
      "3948/3948 [==============================] - 5s 1ms/step - loss: 0.3852 - acc: 0.8528 - val_loss: 1.4529 - val_acc: 0.6184\n",
      "Epoch 14/30\n",
      "3948/3948 [==============================] - 5s 1ms/step - loss: 0.3922 - acc: 0.8556 - val_loss: 1.3149 - val_acc: 0.6204\n",
      "Epoch 15/30\n",
      "3948/3948 [==============================] - 5s 1ms/step - loss: 0.3446 - acc: 0.8739 - val_loss: 1.4317 - val_acc: 0.6225\n",
      "Epoch 16/30\n",
      "3948/3948 [==============================] - 5s 1ms/step - loss: 0.3252 - acc: 0.8855 - val_loss: 1.3571 - val_acc: 0.6164\n",
      "Epoch 17/30\n",
      "3948/3948 [==============================] - 5s 1ms/step - loss: 0.2989 - acc: 0.8949 - val_loss: 1.5456 - val_acc: 0.6366\n",
      "Epoch 18/30\n",
      "3948/3948 [==============================] - 5s 1ms/step - loss: 0.2957 - acc: 0.8913 - val_loss: 1.5636 - val_acc: 0.6134\n",
      "Epoch 19/30\n",
      "3948/3948 [==============================] - 5s 1ms/step - loss: 0.2974 - acc: 0.8921 - val_loss: 1.6760 - val_acc: 0.6073\n",
      "Epoch 20/30\n",
      "3948/3948 [==============================] - 5s 1ms/step - loss: 0.2621 - acc: 0.9007 - val_loss: 1.8450 - val_acc: 0.6032\n",
      "Epoch 21/30\n",
      "3948/3948 [==============================] - 5s 1ms/step - loss: 0.2903 - acc: 0.8949 - val_loss: 1.5977 - val_acc: 0.6265\n",
      "Epoch 22/30\n",
      "3948/3948 [==============================] - 5s 1ms/step - loss: 0.2675 - acc: 0.9030 - val_loss: 1.6975 - val_acc: 0.6336\n",
      "Epoch 23/30\n",
      "3948/3948 [==============================] - 5s 1ms/step - loss: 0.2255 - acc: 0.9164 - val_loss: 1.8475 - val_acc: 0.6245\n",
      "Epoch 24/30\n",
      "3948/3948 [==============================] - 5s 1ms/step - loss: 0.2220 - acc: 0.9162 - val_loss: 1.9117 - val_acc: 0.6316\n",
      "Epoch 25/30\n",
      "3948/3948 [==============================] - 5s 1ms/step - loss: 0.2327 - acc: 0.9136 - val_loss: 1.6449 - val_acc: 0.6164\n",
      "Epoch 26/30\n",
      "3948/3948 [==============================] - 5s 1ms/step - loss: 0.2203 - acc: 0.9164 - val_loss: 1.9333 - val_acc: 0.6356\n",
      "Epoch 27/30\n",
      "3948/3948 [==============================] - 5s 1ms/step - loss: 0.2137 - acc: 0.9159 - val_loss: 1.8567 - val_acc: 0.6326\n",
      "Epoch 28/30\n",
      "3948/3948 [==============================] - 5s 1ms/step - loss: 0.2231 - acc: 0.9154 - val_loss: 1.8775 - val_acc: 0.6245\n",
      "Epoch 29/30\n",
      "3948/3948 [==============================] - 5s 1ms/step - loss: 0.2291 - acc: 0.9159 - val_loss: 1.9121 - val_acc: 0.6194\n",
      "Epoch 30/30\n",
      "3948/3948 [==============================] - 5s 1ms/step - loss: 0.2321 - acc: 0.9121 - val_loss: 1.8957 - val_acc: 0.6275\n"
     ]
    }
   ],
   "source": [
    "hist = model.fit(x_train, Y, \n",
    "                 batch_size=batch_size, nb_epoch=30, verbose=1, \n",
    "                 validation_split=0.2)"
   ]
  },
  {
   "cell_type": "code",
   "execution_count": null,
   "metadata": {},
   "outputs": [],
   "source": []
  },
  {
   "cell_type": "code",
   "execution_count": null,
   "metadata": {},
   "outputs": [],
   "source": []
  }
 ],
 "metadata": {
  "kernelspec": {
   "display_name": "Python 3",
   "language": "python",
   "name": "python3"
  },
  "language_info": {
   "codemirror_mode": {
    "name": "ipython",
    "version": 3
   },
   "file_extension": ".py",
   "mimetype": "text/x-python",
   "name": "python",
   "nbconvert_exporter": "python",
   "pygments_lexer": "ipython3",
   "version": "3.5.2"
  }
 },
 "nbformat": 4,
 "nbformat_minor": 2
}
